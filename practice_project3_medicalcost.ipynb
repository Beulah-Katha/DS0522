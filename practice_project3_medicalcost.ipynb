{
 "cells": [
  {
   "cell_type": "markdown",
   "id": "58485b49",
   "metadata": {},
   "source": [
    "# Medical Cost Personal Insurance Datasets  Insurance Forecast by using Linear Regression\n",
    "\n",
    "Predicting Medical Charges"
   ]
  },
  {
   "cell_type": "code",
   "execution_count": 1,
   "id": "996045f8",
   "metadata": {},
   "outputs": [],
   "source": [
    "# Importing the required libraries\n",
    "\n",
    "import pandas as pd\n",
    "import numpy as np\n",
    "import seaborn as sns\n",
    "import matplotlib.pyplot as plt\n",
    "\n",
    "import warnings\n",
    "warnings.filterwarnings('ignore')\n"
   ]
  },
  {
   "cell_type": "code",
   "execution_count": 2,
   "id": "93a60e3a",
   "metadata": {},
   "outputs": [],
   "source": [
    "# Loading the dataset\n",
    "\n",
    "df = pd.read_csv('medical_cost_insurance.csv')\n"
   ]
  },
  {
   "cell_type": "markdown",
   "id": "73fe0565",
   "metadata": {},
   "source": [
    "# EDA"
   ]
  },
  {
   "cell_type": "code",
   "execution_count": 3,
   "id": "ffa8d5cd",
   "metadata": {},
   "outputs": [
    {
     "data": {
      "text/html": [
       "<div>\n",
       "<style scoped>\n",
       "    .dataframe tbody tr th:only-of-type {\n",
       "        vertical-align: middle;\n",
       "    }\n",
       "\n",
       "    .dataframe tbody tr th {\n",
       "        vertical-align: top;\n",
       "    }\n",
       "\n",
       "    .dataframe thead th {\n",
       "        text-align: right;\n",
       "    }\n",
       "</style>\n",
       "<table border=\"1\" class=\"dataframe\">\n",
       "  <thead>\n",
       "    <tr style=\"text-align: right;\">\n",
       "      <th></th>\n",
       "      <th>age</th>\n",
       "      <th>sex</th>\n",
       "      <th>bmi</th>\n",
       "      <th>children</th>\n",
       "      <th>smoker</th>\n",
       "      <th>region</th>\n",
       "      <th>charges</th>\n",
       "    </tr>\n",
       "  </thead>\n",
       "  <tbody>\n",
       "    <tr>\n",
       "      <th>0</th>\n",
       "      <td>19</td>\n",
       "      <td>female</td>\n",
       "      <td>27.900</td>\n",
       "      <td>0</td>\n",
       "      <td>yes</td>\n",
       "      <td>southwest</td>\n",
       "      <td>16884.92400</td>\n",
       "    </tr>\n",
       "    <tr>\n",
       "      <th>1</th>\n",
       "      <td>18</td>\n",
       "      <td>male</td>\n",
       "      <td>33.770</td>\n",
       "      <td>1</td>\n",
       "      <td>no</td>\n",
       "      <td>southeast</td>\n",
       "      <td>1725.55230</td>\n",
       "    </tr>\n",
       "    <tr>\n",
       "      <th>2</th>\n",
       "      <td>28</td>\n",
       "      <td>male</td>\n",
       "      <td>33.000</td>\n",
       "      <td>3</td>\n",
       "      <td>no</td>\n",
       "      <td>southeast</td>\n",
       "      <td>4449.46200</td>\n",
       "    </tr>\n",
       "    <tr>\n",
       "      <th>3</th>\n",
       "      <td>33</td>\n",
       "      <td>male</td>\n",
       "      <td>22.705</td>\n",
       "      <td>0</td>\n",
       "      <td>no</td>\n",
       "      <td>northwest</td>\n",
       "      <td>21984.47061</td>\n",
       "    </tr>\n",
       "    <tr>\n",
       "      <th>4</th>\n",
       "      <td>32</td>\n",
       "      <td>male</td>\n",
       "      <td>28.880</td>\n",
       "      <td>0</td>\n",
       "      <td>no</td>\n",
       "      <td>northwest</td>\n",
       "      <td>3866.85520</td>\n",
       "    </tr>\n",
       "  </tbody>\n",
       "</table>\n",
       "</div>"
      ],
      "text/plain": [
       "   age     sex     bmi  children smoker     region      charges\n",
       "0   19  female  27.900         0    yes  southwest  16884.92400\n",
       "1   18    male  33.770         1     no  southeast   1725.55230\n",
       "2   28    male  33.000         3     no  southeast   4449.46200\n",
       "3   33    male  22.705         0     no  northwest  21984.47061\n",
       "4   32    male  28.880         0     no  northwest   3866.85520"
      ]
     },
     "execution_count": 3,
     "metadata": {},
     "output_type": "execute_result"
    }
   ],
   "source": [
    "# displays top 5 rows in the dataset\n",
    "\n",
    "df.head()"
   ]
  },
  {
   "cell_type": "markdown",
   "id": "36171b7f",
   "metadata": {},
   "source": [
    "There are total 7 features. Out of 7 features, charges is dependent vaiable or target and the rest 6 features are independent variables"
   ]
  },
  {
   "cell_type": "code",
   "execution_count": 4,
   "id": "574e43bb",
   "metadata": {},
   "outputs": [
    {
     "data": {
      "text/plain": [
       "(1338, 7)"
      ]
     },
     "execution_count": 4,
     "metadata": {},
     "output_type": "execute_result"
    }
   ],
   "source": [
    "# checking the data dimension\n",
    "\n",
    "df.shape"
   ]
  },
  {
   "cell_type": "markdown",
   "id": "117e392e",
   "metadata": {},
   "source": [
    "Number of Rows: 1338\n",
    "Number of columns: 7"
   ]
  },
  {
   "cell_type": "code",
   "execution_count": 5,
   "id": "46eb4f07",
   "metadata": {},
   "outputs": [
    {
     "data": {
      "text/plain": [
       "age           int64\n",
       "sex          object\n",
       "bmi         float64\n",
       "children      int64\n",
       "smoker       object\n",
       "region       object\n",
       "charges     float64\n",
       "dtype: object"
      ]
     },
     "execution_count": 5,
     "metadata": {},
     "output_type": "execute_result"
    }
   ],
   "source": [
    "# checking the datatypes of every column\n",
    "\n",
    "df.dtypes"
   ]
  },
  {
   "cell_type": "markdown",
   "id": "e0842836",
   "metadata": {},
   "source": [
    "There are 4 features which are numerical(age and children are int and bmi and charges are float)\n",
    "and 3 features(sex, smoker and region) are string or object data type(categorical).\n",
    "As the target feature or label, here, charges is, continous data. So it is regression problem."
   ]
  },
  {
   "cell_type": "code",
   "execution_count": 6,
   "id": "74203c62",
   "metadata": {},
   "outputs": [
    {
     "name": "stdout",
     "output_type": "stream",
     "text": [
      "<class 'pandas.core.frame.DataFrame'>\n",
      "RangeIndex: 1338 entries, 0 to 1337\n",
      "Data columns (total 7 columns):\n",
      " #   Column    Non-Null Count  Dtype  \n",
      "---  ------    --------------  -----  \n",
      " 0   age       1338 non-null   int64  \n",
      " 1   sex       1338 non-null   object \n",
      " 2   bmi       1338 non-null   float64\n",
      " 3   children  1338 non-null   int64  \n",
      " 4   smoker    1338 non-null   object \n",
      " 5   region    1338 non-null   object \n",
      " 6   charges   1338 non-null   float64\n",
      "dtypes: float64(2), int64(2), object(3)\n",
      "memory usage: 73.3+ KB\n"
     ]
    }
   ],
   "source": [
    "# printing the information of the dataset\n",
    "\n",
    "df.info()"
   ]
  },
  {
   "cell_type": "code",
   "execution_count": 7,
   "id": "7a6a68a9",
   "metadata": {},
   "outputs": [
    {
     "data": {
      "text/html": [
       "<div>\n",
       "<style scoped>\n",
       "    .dataframe tbody tr th:only-of-type {\n",
       "        vertical-align: middle;\n",
       "    }\n",
       "\n",
       "    .dataframe tbody tr th {\n",
       "        vertical-align: top;\n",
       "    }\n",
       "\n",
       "    .dataframe thead th {\n",
       "        text-align: right;\n",
       "    }\n",
       "</style>\n",
       "<table border=\"1\" class=\"dataframe\">\n",
       "  <thead>\n",
       "    <tr style=\"text-align: right;\">\n",
       "      <th></th>\n",
       "      <th>age</th>\n",
       "      <th>bmi</th>\n",
       "      <th>children</th>\n",
       "      <th>charges</th>\n",
       "    </tr>\n",
       "  </thead>\n",
       "  <tbody>\n",
       "    <tr>\n",
       "      <th>count</th>\n",
       "      <td>1338.000000</td>\n",
       "      <td>1338.000000</td>\n",
       "      <td>1338.000000</td>\n",
       "      <td>1338.000000</td>\n",
       "    </tr>\n",
       "    <tr>\n",
       "      <th>mean</th>\n",
       "      <td>39.207025</td>\n",
       "      <td>30.663397</td>\n",
       "      <td>1.094918</td>\n",
       "      <td>13270.422265</td>\n",
       "    </tr>\n",
       "    <tr>\n",
       "      <th>std</th>\n",
       "      <td>14.049960</td>\n",
       "      <td>6.098187</td>\n",
       "      <td>1.205493</td>\n",
       "      <td>12110.011237</td>\n",
       "    </tr>\n",
       "    <tr>\n",
       "      <th>min</th>\n",
       "      <td>18.000000</td>\n",
       "      <td>15.960000</td>\n",
       "      <td>0.000000</td>\n",
       "      <td>1121.873900</td>\n",
       "    </tr>\n",
       "    <tr>\n",
       "      <th>25%</th>\n",
       "      <td>27.000000</td>\n",
       "      <td>26.296250</td>\n",
       "      <td>0.000000</td>\n",
       "      <td>4740.287150</td>\n",
       "    </tr>\n",
       "    <tr>\n",
       "      <th>50%</th>\n",
       "      <td>39.000000</td>\n",
       "      <td>30.400000</td>\n",
       "      <td>1.000000</td>\n",
       "      <td>9382.033000</td>\n",
       "    </tr>\n",
       "    <tr>\n",
       "      <th>75%</th>\n",
       "      <td>51.000000</td>\n",
       "      <td>34.693750</td>\n",
       "      <td>2.000000</td>\n",
       "      <td>16639.912515</td>\n",
       "    </tr>\n",
       "    <tr>\n",
       "      <th>max</th>\n",
       "      <td>64.000000</td>\n",
       "      <td>53.130000</td>\n",
       "      <td>5.000000</td>\n",
       "      <td>63770.428010</td>\n",
       "    </tr>\n",
       "  </tbody>\n",
       "</table>\n",
       "</div>"
      ],
      "text/plain": [
       "               age          bmi     children       charges\n",
       "count  1338.000000  1338.000000  1338.000000   1338.000000\n",
       "mean     39.207025    30.663397     1.094918  13270.422265\n",
       "std      14.049960     6.098187     1.205493  12110.011237\n",
       "min      18.000000    15.960000     0.000000   1121.873900\n",
       "25%      27.000000    26.296250     0.000000   4740.287150\n",
       "50%      39.000000    30.400000     1.000000   9382.033000\n",
       "75%      51.000000    34.693750     2.000000  16639.912515\n",
       "max      64.000000    53.130000     5.000000  63770.428010"
      ]
     },
     "execution_count": 7,
     "metadata": {},
     "output_type": "execute_result"
    }
   ],
   "source": [
    "# Summary of the dataset\n",
    "\n",
    "df.describe()"
   ]
  },
  {
   "cell_type": "markdown",
   "id": "b9aa0f49",
   "metadata": {},
   "source": [
    "describe() shows values only for the numerical columns"
   ]
  },
  {
   "cell_type": "code",
   "execution_count": 8,
   "id": "33fe0377",
   "metadata": {},
   "outputs": [
    {
     "data": {
      "text/plain": [
       "3"
      ]
     },
     "execution_count": 8,
     "metadata": {},
     "output_type": "execute_result"
    }
   ],
   "source": [
    "# we can use describe method for categorical columns also\n",
    "# separating only categorical features\n",
    "\n",
    "cat_features = df.dtypes[df.dtypes == 'object'].index\n",
    "len(cat_features)\n"
   ]
  },
  {
   "cell_type": "code",
   "execution_count": 9,
   "id": "21bd995a",
   "metadata": {},
   "outputs": [
    {
     "data": {
      "text/html": [
       "<div>\n",
       "<style scoped>\n",
       "    .dataframe tbody tr th:only-of-type {\n",
       "        vertical-align: middle;\n",
       "    }\n",
       "\n",
       "    .dataframe tbody tr th {\n",
       "        vertical-align: top;\n",
       "    }\n",
       "\n",
       "    .dataframe thead th {\n",
       "        text-align: right;\n",
       "    }\n",
       "</style>\n",
       "<table border=\"1\" class=\"dataframe\">\n",
       "  <thead>\n",
       "    <tr style=\"text-align: right;\">\n",
       "      <th></th>\n",
       "      <th>sex</th>\n",
       "      <th>smoker</th>\n",
       "      <th>region</th>\n",
       "    </tr>\n",
       "  </thead>\n",
       "  <tbody>\n",
       "    <tr>\n",
       "      <th>count</th>\n",
       "      <td>1338</td>\n",
       "      <td>1338</td>\n",
       "      <td>1338</td>\n",
       "    </tr>\n",
       "    <tr>\n",
       "      <th>unique</th>\n",
       "      <td>2</td>\n",
       "      <td>2</td>\n",
       "      <td>4</td>\n",
       "    </tr>\n",
       "    <tr>\n",
       "      <th>top</th>\n",
       "      <td>male</td>\n",
       "      <td>no</td>\n",
       "      <td>southeast</td>\n",
       "    </tr>\n",
       "    <tr>\n",
       "      <th>freq</th>\n",
       "      <td>676</td>\n",
       "      <td>1064</td>\n",
       "      <td>364</td>\n",
       "    </tr>\n",
       "  </tbody>\n",
       "</table>\n",
       "</div>"
      ],
      "text/plain": [
       "         sex smoker     region\n",
       "count   1338   1338       1338\n",
       "unique     2      2          4\n",
       "top     male     no  southeast\n",
       "freq     676   1064        364"
      ]
     },
     "execution_count": 9,
     "metadata": {},
     "output_type": "execute_result"
    }
   ],
   "source": [
    "# describe method for categorical columns\n",
    "\n",
    "df[cat_features].describe()"
   ]
  },
  {
   "cell_type": "code",
   "execution_count": 10,
   "id": "f3c45db7",
   "metadata": {},
   "outputs": [
    {
     "data": {
      "text/plain": [
       "array(['female', 'male'], dtype=object)"
      ]
     },
     "execution_count": 10,
     "metadata": {},
     "output_type": "execute_result"
    }
   ],
   "source": [
    "# check the unique values in categorical column\n",
    "# for gender or sex\n",
    "\n",
    "df['sex'].unique()"
   ]
  },
  {
   "cell_type": "markdown",
   "id": "e4aef34c",
   "metadata": {},
   "source": [
    "we can observe that there 2 values that column sex takes i.e., male and female"
   ]
  },
  {
   "cell_type": "code",
   "execution_count": 11,
   "id": "c6a70870",
   "metadata": {},
   "outputs": [
    {
     "name": "stdout",
     "output_type": "stream",
     "text": [
      "male      676\n",
      "female    662\n",
      "Name: sex, dtype: int64\n"
     ]
    }
   ],
   "source": [
    "print(df.sex.value_counts())"
   ]
  },
  {
   "cell_type": "markdown",
   "id": "f9c29e5c",
   "metadata": {},
   "source": [
    "Total male = 676\n",
    "Total Female = 662\n",
    "Male count is greater than female"
   ]
  },
  {
   "cell_type": "code",
   "execution_count": 12,
   "id": "af5e56ad",
   "metadata": {},
   "outputs": [
    {
     "data": {
      "text/plain": [
       "array(['yes', 'no'], dtype=object)"
      ]
     },
     "execution_count": 12,
     "metadata": {},
     "output_type": "execute_result"
    }
   ],
   "source": [
    "# for smoker\n",
    "\n",
    "df['smoker'].unique()"
   ]
  },
  {
   "cell_type": "code",
   "execution_count": 13,
   "id": "db084920",
   "metadata": {},
   "outputs": [
    {
     "data": {
      "text/plain": [
       "2"
      ]
     },
     "execution_count": 13,
     "metadata": {},
     "output_type": "execute_result"
    }
   ],
   "source": [
    "# displays number or how many unique values are there\n",
    "\n",
    "df['smoker'].nunique()"
   ]
  },
  {
   "cell_type": "markdown",
   "id": "d75e53e0",
   "metadata": {},
   "source": [
    "we can observe that there 2 values that column smoker takes i.e., yes and no"
   ]
  },
  {
   "cell_type": "code",
   "execution_count": 14,
   "id": "01c163f3",
   "metadata": {},
   "outputs": [
    {
     "name": "stdout",
     "output_type": "stream",
     "text": [
      "no     1064\n",
      "yes     274\n",
      "Name: smoker, dtype: int64\n"
     ]
    }
   ],
   "source": [
    "print(df.smoker.value_counts())"
   ]
  },
  {
   "cell_type": "markdown",
   "id": "e33f154c",
   "metadata": {},
   "source": [
    "Non smokers count = 1064\n",
    "Smokers count = 274"
   ]
  },
  {
   "cell_type": "code",
   "execution_count": 15,
   "id": "97072d4c",
   "metadata": {},
   "outputs": [
    {
     "data": {
      "text/plain": [
       "array(['southwest', 'southeast', 'northwest', 'northeast'], dtype=object)"
      ]
     },
     "execution_count": 15,
     "metadata": {},
     "output_type": "execute_result"
    }
   ],
   "source": [
    "# for region\n",
    "\n",
    "df['region'].unique()"
   ]
  },
  {
   "cell_type": "markdown",
   "id": "7e2f4f5f",
   "metadata": {},
   "source": [
    "we can observe that there 4 values that column region takes i.e., southwest,southeast,northwest and northeast"
   ]
  },
  {
   "cell_type": "code",
   "execution_count": 16,
   "id": "300434ec",
   "metadata": {},
   "outputs": [
    {
     "data": {
      "text/plain": [
       "4"
      ]
     },
     "execution_count": 16,
     "metadata": {},
     "output_type": "execute_result"
    }
   ],
   "source": [
    "df['region'].nunique() # displays how many unique values the column takes"
   ]
  },
  {
   "cell_type": "code",
   "execution_count": 17,
   "id": "8d848414",
   "metadata": {},
   "outputs": [
    {
     "name": "stdout",
     "output_type": "stream",
     "text": [
      "southeast    364\n",
      "southwest    325\n",
      "northwest    325\n",
      "northeast    324\n",
      "Name: region, dtype: int64\n"
     ]
    }
   ],
   "source": [
    "print(df.region.value_counts())"
   ]
  },
  {
   "cell_type": "markdown",
   "id": "706e5213",
   "metadata": {},
   "source": [
    "southwest count = 325,southeast count=364,northwest count=325 and northeast count=324"
   ]
  },
  {
   "cell_type": "code",
   "execution_count": 18,
   "id": "809f1b8a",
   "metadata": {},
   "outputs": [
    {
     "data": {
      "text/plain": [
       "age           int64\n",
       "sex          object\n",
       "bmi         float64\n",
       "children      int64\n",
       "smoker       object\n",
       "region       object\n",
       "charges     float64\n",
       "dtype: object"
      ]
     },
     "execution_count": 18,
     "metadata": {},
     "output_type": "execute_result"
    }
   ],
   "source": [
    "df.dtypes"
   ]
  },
  {
   "cell_type": "code",
   "execution_count": 19,
   "id": "eeb5195c",
   "metadata": {},
   "outputs": [
    {
     "data": {
      "text/plain": [
       "47"
      ]
     },
     "execution_count": 19,
     "metadata": {},
     "output_type": "execute_result"
    }
   ],
   "source": [
    "df['age'].nunique()"
   ]
  },
  {
   "cell_type": "code",
   "execution_count": 20,
   "id": "63c4fa81",
   "metadata": {},
   "outputs": [
    {
     "data": {
      "text/plain": [
       "array([0, 1, 3, 2, 5, 4], dtype=int64)"
      ]
     },
     "execution_count": 20,
     "metadata": {},
     "output_type": "execute_result"
    }
   ],
   "source": [
    "df['children'].unique()"
   ]
  },
  {
   "cell_type": "code",
   "execution_count": null,
   "id": "e31ff468",
   "metadata": {},
   "outputs": [],
   "source": []
  },
  {
   "cell_type": "code",
   "execution_count": 21,
   "id": "03ec37f3",
   "metadata": {},
   "outputs": [],
   "source": [
    "# checking for any duplicates"
   ]
  },
  {
   "cell_type": "code",
   "execution_count": 22,
   "id": "c80790dc",
   "metadata": {},
   "outputs": [
    {
     "data": {
      "text/plain": [
       "(1338, 7)"
      ]
     },
     "execution_count": 22,
     "metadata": {},
     "output_type": "execute_result"
    }
   ],
   "source": [
    "# first check the shape\n",
    "\n",
    "df.shape"
   ]
  },
  {
   "cell_type": "code",
   "execution_count": 23,
   "id": "1ca367bd",
   "metadata": {},
   "outputs": [],
   "source": [
    "df = df.drop_duplicates()\n"
   ]
  },
  {
   "cell_type": "code",
   "execution_count": 24,
   "id": "de6e419e",
   "metadata": {},
   "outputs": [
    {
     "data": {
      "text/plain": [
       "(1337, 7)"
      ]
     },
     "execution_count": 24,
     "metadata": {},
     "output_type": "execute_result"
    }
   ],
   "source": [
    "# checking again after removing any duplicates\n",
    "\n",
    "df.shape"
   ]
  },
  {
   "cell_type": "markdown",
   "id": "1d045c38",
   "metadata": {},
   "source": [
    "There was one duplicate as before removing duplicates, shape has 1338 rows and after removing shape has 1337 rows"
   ]
  },
  {
   "cell_type": "code",
   "execution_count": 25,
   "id": "3a519ee6",
   "metadata": {},
   "outputs": [
    {
     "data": {
      "text/plain": [
       "age         0\n",
       "sex         0\n",
       "bmi         0\n",
       "children    0\n",
       "smoker      0\n",
       "region      0\n",
       "charges     0\n",
       "dtype: int64"
      ]
     },
     "execution_count": 25,
     "metadata": {},
     "output_type": "execute_result"
    }
   ],
   "source": [
    "# Checking for null values, if any\n",
    "\n",
    "df.isnull().sum()"
   ]
  },
  {
   "cell_type": "markdown",
   "id": "6b6dabd7",
   "metadata": {},
   "source": [
    "We can see that there are no NULL values. No further need of cleaning"
   ]
  },
  {
   "cell_type": "markdown",
   "id": "da2e1753",
   "metadata": {},
   "source": [
    "# Data Visualization"
   ]
  },
  {
   "cell_type": "markdown",
   "id": "d4dfacca",
   "metadata": {},
   "source": [
    "For categorical data , we can use countplot that gives the frequency of the classes of the columns"
   ]
  },
  {
   "cell_type": "code",
   "execution_count": 26,
   "id": "7735fe07",
   "metadata": {},
   "outputs": [
    {
     "name": "stdout",
     "output_type": "stream",
     "text": [
      "male      675\n",
      "female    662\n",
      "Name: sex, dtype: int64\n"
     ]
    },
    {
     "data": {
      "image/png": "[encoded data removed]",
      "text/plain": [
       "<Figure size 432x288 with 1 Axes>"
      ]
     },
     "metadata": {
      "needs_background": "light"
     },
     "output_type": "display_data"
    }
   ],
   "source": [
    "# countplot for sex\n",
    "\n",
    "ax = sns.countplot(x='sex', data=df)\n",
    "print(df['sex'].value_counts())"
   ]
  },
  {
   "cell_type": "markdown",
   "id": "0950e685",
   "metadata": {},
   "source": [
    "From the above observation male count is 675, which is greater than female count i.e., 662"
   ]
  },
  {
   "cell_type": "code",
   "execution_count": 27,
   "id": "2a2a0051",
   "metadata": {},
   "outputs": [
    {
     "name": "stdout",
     "output_type": "stream",
     "text": [
      "no     1063\n",
      "yes     274\n",
      "Name: smoker, dtype: int64\n"
     ]
    },
    {
     "data": {
      "image/png": "[encoded data removed]",
      "text/plain": [
       "<Figure size 432x288 with 1 Axes>"
      ]
     },
     "metadata": {
      "needs_background": "light"
     },
     "output_type": "display_data"
    }
   ],
   "source": [
    "# countplot for smoker\n",
    "\n",
    "ax = sns.countplot(x='smoker', data=df)\n",
    "print(df['smoker'].value_counts())"
   ]
  },
  {
   "cell_type": "markdown",
   "id": "6eb8b8ae",
   "metadata": {},
   "source": [
    "From the above observation, there are more non-smokers"
   ]
  },
  {
   "cell_type": "code",
   "execution_count": 28,
   "id": "27dd0e6e",
   "metadata": {},
   "outputs": [
    {
     "name": "stdout",
     "output_type": "stream",
     "text": [
      "southeast    364\n",
      "southwest    325\n",
      "northwest    324\n",
      "northeast    324\n",
      "Name: region, dtype: int64\n"
     ]
    },
    {
     "data": {
      "image/png": "[encoded data removed]",
      "text/plain": [
       "<Figure size 432x288 with 1 Axes>"
      ]
     },
     "metadata": {
      "needs_background": "light"
     },
     "output_type": "display_data"
    }
   ],
   "source": [
    "# countplot for region\n",
    "\n",
    "ax = sns.countplot(x='region', data=df)\n",
    "print(df['region'].value_counts())"
   ]
  },
  {
   "cell_type": "markdown",
   "id": "6af102ec",
   "metadata": {},
   "source": [
    "We can observe that more number of southeast region residents are taking the insurance, next southwest, then northwest and lst northeast"
   ]
  },
  {
   "cell_type": "code",
   "execution_count": 29,
   "id": "3cf1625e",
   "metadata": {},
   "outputs": [
    {
     "data": {
      "image/png": "[encoded data removed]",
      "text/plain": [
       "<Figure size 432x288 with 1 Axes>"
      ]
     },
     "metadata": {
      "needs_background": "light"
     },
     "output_type": "display_data"
    }
   ],
   "source": [
    "# comparing categorical data with target variable\n",
    "\n",
    "sns.barplot(x='sex',y='charges',data=df)\n",
    "plt.show()"
   ]
  },
  {
   "cell_type": "markdown",
   "id": "906aa25d",
   "metadata": {},
   "source": [
    "We observe that male has more charges than female"
   ]
  },
  {
   "cell_type": "code",
   "execution_count": 30,
   "id": "373eb488",
   "metadata": {},
   "outputs": [
    {
     "data": {
      "image/png": "[encoded data removed]",
      "text/plain": [
       "<Figure size 432x288 with 1 Axes>"
      ]
     },
     "metadata": {
      "needs_background": "light"
     },
     "output_type": "display_data"
    }
   ],
   "source": [
    "sns.barplot(x='smoker',y='charges',data=df)\n",
    "plt.show()"
   ]
  },
  {
   "cell_type": "markdown",
   "id": "6b6d91a6",
   "metadata": {},
   "source": [
    "We can observe that smokers are charged more than non-smokers"
   ]
  },
  {
   "cell_type": "code",
   "execution_count": 31,
   "id": "336deb18",
   "metadata": {},
   "outputs": [
    {
     "data": {
      "image/png": "[encoded data removed]",
      "text/plain": [
       "<Figure size 432x288 with 1 Axes>"
      ]
     },
     "metadata": {
      "needs_background": "light"
     },
     "output_type": "display_data"
    }
   ],
   "source": [
    "sns.barplot(x='region',y='charges',data=df)\n",
    "plt.show()"
   ]
  },
  {
   "cell_type": "markdown",
   "id": "d42ff052",
   "metadata": {},
   "source": [
    "Southeast region people has more charges when compared to other regions"
   ]
  },
  {
   "cell_type": "code",
   "execution_count": 32,
   "id": "db0fa751",
   "metadata": {},
   "outputs": [
    {
     "data": {
      "image/png": "[encoded data removed]",
      "text/plain": [
       "<Figure size 432x288 with 1 Axes>"
      ]
     },
     "metadata": {
      "needs_background": "light"
     },
     "output_type": "display_data"
    }
   ],
   "source": [
    "sns.barplot(x='sex',y='charges',hue='smoker',data=df)\n",
    "plt.show()"
   ]
  },
  {
   "cell_type": "markdown",
   "id": "fb6c5012",
   "metadata": {},
   "source": [
    "we can see that male smokers are charged more"
   ]
  },
  {
   "cell_type": "markdown",
   "id": "d08c132e",
   "metadata": {},
   "source": [
    "# checking the distribution of the numerical data"
   ]
  },
  {
   "cell_type": "code",
   "execution_count": 33,
   "id": "46cfb391",
   "metadata": {},
   "outputs": [
    {
     "data": {
      "text/plain": [
       "Index(['age', 'bmi', 'children', 'charges'], dtype='object')"
      ]
     },
     "execution_count": 33,
     "metadata": {},
     "output_type": "execute_result"
    }
   ],
   "source": [
    "# separating numerical features for plotting distribution graph\n",
    "\n",
    "num_features = df.dtypes[df.dtypes != 'object'].index\n",
    "num_features"
   ]
  },
  {
   "cell_type": "code",
   "execution_count": 34,
   "id": "c92cbb65",
   "metadata": {},
   "outputs": [],
   "source": [
    "df[num_features].head()\n",
    "df1 = df[num_features]"
   ]
  },
  {
   "cell_type": "code",
   "execution_count": 35,
   "id": "ede66d49",
   "metadata": {},
   "outputs": [
    {
     "data": {
      "text/plain": [
       "Index(['age', 'bmi', 'children', 'charges'], dtype='object')"
      ]
     },
     "execution_count": 35,
     "metadata": {},
     "output_type": "execute_result"
    }
   ],
   "source": [
    "df1.columns"
   ]
  },
  {
   "cell_type": "code",
   "execution_count": 36,
   "id": "1e5a90b5",
   "metadata": {},
   "outputs": [
    {
     "data": {
      "image/png": "[encoded data removed]",
      "text/plain": [
       "<Figure size 504x720 with 4 Axes>"
      ]
     },
     "metadata": {},
     "output_type": "display_data"
    }
   ],
   "source": [
    "# let's see how data is distributed for every column\n",
    "\n",
    "plt.figure(figsize=(7,10), facecolor='lightblue')\n",
    "plotnumber = 1\n",
    "\n",
    "for column in df1:\n",
    "    if plotnumber <= 4:\n",
    "        ax = plt.subplot(2,2,plotnumber)\n",
    "        sns.distplot(df1[column])\n",
    "        plt.xlabel(column, fontsize=20)\n",
    "    plotnumber += 1\n",
    "plt.show()"
   ]
  },
  {
   "cell_type": "markdown",
   "id": "71371941",
   "metadata": {},
   "source": [
    "feature bmi is distributed normally but other features have skewness, feature children being nominal data, its skewness cannot be considered. charges being target variable whose skewness cannot be considered "
   ]
  },
  {
   "cell_type": "code",
   "execution_count": 37,
   "id": "f2a4ba0c",
   "metadata": {},
   "outputs": [
    {
     "data": {
      "text/html": [
       "<div>\n",
       "<style scoped>\n",
       "    .dataframe tbody tr th:only-of-type {\n",
       "        vertical-align: middle;\n",
       "    }\n",
       "\n",
       "    .dataframe tbody tr th {\n",
       "        vertical-align: top;\n",
       "    }\n",
       "\n",
       "    .dataframe thead th {\n",
       "        text-align: right;\n",
       "    }\n",
       "</style>\n",
       "<table border=\"1\" class=\"dataframe\">\n",
       "  <thead>\n",
       "    <tr style=\"text-align: right;\">\n",
       "      <th></th>\n",
       "      <th>age</th>\n",
       "      <th>bmi</th>\n",
       "      <th>children</th>\n",
       "      <th>charges</th>\n",
       "    </tr>\n",
       "  </thead>\n",
       "  <tbody>\n",
       "    <tr>\n",
       "      <th>0</th>\n",
       "      <td>19</td>\n",
       "      <td>27.900</td>\n",
       "      <td>0</td>\n",
       "      <td>16884.92400</td>\n",
       "    </tr>\n",
       "    <tr>\n",
       "      <th>1</th>\n",
       "      <td>18</td>\n",
       "      <td>33.770</td>\n",
       "      <td>1</td>\n",
       "      <td>1725.55230</td>\n",
       "    </tr>\n",
       "    <tr>\n",
       "      <th>2</th>\n",
       "      <td>28</td>\n",
       "      <td>33.000</td>\n",
       "      <td>3</td>\n",
       "      <td>4449.46200</td>\n",
       "    </tr>\n",
       "    <tr>\n",
       "      <th>3</th>\n",
       "      <td>33</td>\n",
       "      <td>22.705</td>\n",
       "      <td>0</td>\n",
       "      <td>21984.47061</td>\n",
       "    </tr>\n",
       "    <tr>\n",
       "      <th>4</th>\n",
       "      <td>32</td>\n",
       "      <td>28.880</td>\n",
       "      <td>0</td>\n",
       "      <td>3866.85520</td>\n",
       "    </tr>\n",
       "  </tbody>\n",
       "</table>\n",
       "</div>"
      ],
      "text/plain": [
       "   age     bmi  children      charges\n",
       "0   19  27.900         0  16884.92400\n",
       "1   18  33.770         1   1725.55230\n",
       "2   28  33.000         3   4449.46200\n",
       "3   33  22.705         0  21984.47061\n",
       "4   32  28.880         0   3866.85520"
      ]
     },
     "execution_count": 37,
     "metadata": {},
     "output_type": "execute_result"
    }
   ],
   "source": [
    "df1.head()"
   ]
  },
  {
   "cell_type": "code",
   "execution_count": 38,
   "id": "cf76fcd6",
   "metadata": {},
   "outputs": [
    {
     "data": {
      "text/html": [
       "<div>\n",
       "<style scoped>\n",
       "    .dataframe tbody tr th:only-of-type {\n",
       "        vertical-align: middle;\n",
       "    }\n",
       "\n",
       "    .dataframe tbody tr th {\n",
       "        vertical-align: top;\n",
       "    }\n",
       "\n",
       "    .dataframe thead th {\n",
       "        text-align: right;\n",
       "    }\n",
       "</style>\n",
       "<table border=\"1\" class=\"dataframe\">\n",
       "  <thead>\n",
       "    <tr style=\"text-align: right;\">\n",
       "      <th></th>\n",
       "      <th>age</th>\n",
       "      <th>sex</th>\n",
       "      <th>bmi</th>\n",
       "      <th>children</th>\n",
       "      <th>smoker</th>\n",
       "      <th>region</th>\n",
       "      <th>charges</th>\n",
       "    </tr>\n",
       "  </thead>\n",
       "  <tbody>\n",
       "    <tr>\n",
       "      <th>0</th>\n",
       "      <td>19</td>\n",
       "      <td>female</td>\n",
       "      <td>27.900</td>\n",
       "      <td>0</td>\n",
       "      <td>yes</td>\n",
       "      <td>southwest</td>\n",
       "      <td>16884.92400</td>\n",
       "    </tr>\n",
       "    <tr>\n",
       "      <th>1</th>\n",
       "      <td>18</td>\n",
       "      <td>male</td>\n",
       "      <td>33.770</td>\n",
       "      <td>1</td>\n",
       "      <td>no</td>\n",
       "      <td>southeast</td>\n",
       "      <td>1725.55230</td>\n",
       "    </tr>\n",
       "    <tr>\n",
       "      <th>2</th>\n",
       "      <td>28</td>\n",
       "      <td>male</td>\n",
       "      <td>33.000</td>\n",
       "      <td>3</td>\n",
       "      <td>no</td>\n",
       "      <td>southeast</td>\n",
       "      <td>4449.46200</td>\n",
       "    </tr>\n",
       "    <tr>\n",
       "      <th>3</th>\n",
       "      <td>33</td>\n",
       "      <td>male</td>\n",
       "      <td>22.705</td>\n",
       "      <td>0</td>\n",
       "      <td>no</td>\n",
       "      <td>northwest</td>\n",
       "      <td>21984.47061</td>\n",
       "    </tr>\n",
       "    <tr>\n",
       "      <th>4</th>\n",
       "      <td>32</td>\n",
       "      <td>male</td>\n",
       "      <td>28.880</td>\n",
       "      <td>0</td>\n",
       "      <td>no</td>\n",
       "      <td>northwest</td>\n",
       "      <td>3866.85520</td>\n",
       "    </tr>\n",
       "  </tbody>\n",
       "</table>\n",
       "</div>"
      ],
      "text/plain": [
       "   age     sex     bmi  children smoker     region      charges\n",
       "0   19  female  27.900         0    yes  southwest  16884.92400\n",
       "1   18    male  33.770         1     no  southeast   1725.55230\n",
       "2   28    male  33.000         3     no  southeast   4449.46200\n",
       "3   33    male  22.705         0     no  northwest  21984.47061\n",
       "4   32    male  28.880         0     no  northwest   3866.85520"
      ]
     },
     "execution_count": 38,
     "metadata": {},
     "output_type": "execute_result"
    }
   ],
   "source": [
    "df.head()"
   ]
  },
  {
   "cell_type": "code",
   "execution_count": 39,
   "id": "a38b8f8b",
   "metadata": {},
   "outputs": [
    {
     "data": {
      "text/plain": [
       "age         0.054781\n",
       "bmi         0.283914\n",
       "children    0.937421\n",
       "charges     1.515391\n",
       "dtype: float64"
      ]
     },
     "execution_count": 39,
     "metadata": {},
     "output_type": "execute_result"
    }
   ],
   "source": [
    "# check the skewnwss\n",
    "df1.skew()"
   ]
  },
  {
   "cell_type": "markdown",
   "id": "11980eea",
   "metadata": {},
   "source": [
    "# convert categorical variables into numerical variables "
   ]
  },
  {
   "cell_type": "code",
   "execution_count": 40,
   "id": "b0f9a9f0",
   "metadata": {},
   "outputs": [],
   "source": [
    "from sklearn.preprocessing import OrdinalEncoder\n",
    "enc = OrdinalEncoder()"
   ]
  },
  {
   "cell_type": "code",
   "execution_count": 41,
   "id": "addd2955",
   "metadata": {},
   "outputs": [
    {
     "data": {
      "text/plain": [
       "age           int64\n",
       "sex          object\n",
       "bmi         float64\n",
       "children      int64\n",
       "smoker       object\n",
       "region       object\n",
       "charges     float64\n",
       "dtype: object"
      ]
     },
     "execution_count": 41,
     "metadata": {},
     "output_type": "execute_result"
    }
   ],
   "source": [
    "df.dtypes"
   ]
  },
  {
   "cell_type": "code",
   "execution_count": 42,
   "id": "2dda58ef",
   "metadata": {},
   "outputs": [],
   "source": [
    "for i in df.columns:\n",
    "    if df[i].dtypes =='object':\n",
    "        df[i] = enc.fit_transform(df[i].values.reshape(-1,1))"
   ]
  },
  {
   "cell_type": "code",
   "execution_count": 43,
   "id": "438c4850",
   "metadata": {},
   "outputs": [
    {
     "data": {
      "text/html": [
       "<div>\n",
       "<style scoped>\n",
       "    .dataframe tbody tr th:only-of-type {\n",
       "        vertical-align: middle;\n",
       "    }\n",
       "\n",
       "    .dataframe tbody tr th {\n",
       "        vertical-align: top;\n",
       "    }\n",
       "\n",
       "    .dataframe thead th {\n",
       "        text-align: right;\n",
       "    }\n",
       "</style>\n",
       "<table border=\"1\" class=\"dataframe\">\n",
       "  <thead>\n",
       "    <tr style=\"text-align: right;\">\n",
       "      <th></th>\n",
       "      <th>age</th>\n",
       "      <th>sex</th>\n",
       "      <th>bmi</th>\n",
       "      <th>children</th>\n",
       "      <th>smoker</th>\n",
       "      <th>region</th>\n",
       "      <th>charges</th>\n",
       "    </tr>\n",
       "  </thead>\n",
       "  <tbody>\n",
       "    <tr>\n",
       "      <th>0</th>\n",
       "      <td>19</td>\n",
       "      <td>0.0</td>\n",
       "      <td>27.900</td>\n",
       "      <td>0</td>\n",
       "      <td>1.0</td>\n",
       "      <td>3.0</td>\n",
       "      <td>16884.92400</td>\n",
       "    </tr>\n",
       "    <tr>\n",
       "      <th>1</th>\n",
       "      <td>18</td>\n",
       "      <td>1.0</td>\n",
       "      <td>33.770</td>\n",
       "      <td>1</td>\n",
       "      <td>0.0</td>\n",
       "      <td>2.0</td>\n",
       "      <td>1725.55230</td>\n",
       "    </tr>\n",
       "    <tr>\n",
       "      <th>2</th>\n",
       "      <td>28</td>\n",
       "      <td>1.0</td>\n",
       "      <td>33.000</td>\n",
       "      <td>3</td>\n",
       "      <td>0.0</td>\n",
       "      <td>2.0</td>\n",
       "      <td>4449.46200</td>\n",
       "    </tr>\n",
       "    <tr>\n",
       "      <th>3</th>\n",
       "      <td>33</td>\n",
       "      <td>1.0</td>\n",
       "      <td>22.705</td>\n",
       "      <td>0</td>\n",
       "      <td>0.0</td>\n",
       "      <td>1.0</td>\n",
       "      <td>21984.47061</td>\n",
       "    </tr>\n",
       "    <tr>\n",
       "      <th>4</th>\n",
       "      <td>32</td>\n",
       "      <td>1.0</td>\n",
       "      <td>28.880</td>\n",
       "      <td>0</td>\n",
       "      <td>0.0</td>\n",
       "      <td>1.0</td>\n",
       "      <td>3866.85520</td>\n",
       "    </tr>\n",
       "  </tbody>\n",
       "</table>\n",
       "</div>"
      ],
      "text/plain": [
       "   age  sex     bmi  children  smoker  region      charges\n",
       "0   19  0.0  27.900         0     1.0     3.0  16884.92400\n",
       "1   18  1.0  33.770         1     0.0     2.0   1725.55230\n",
       "2   28  1.0  33.000         3     0.0     2.0   4449.46200\n",
       "3   33  1.0  22.705         0     0.0     1.0  21984.47061\n",
       "4   32  1.0  28.880         0     0.0     1.0   3866.85520"
      ]
     },
     "execution_count": 43,
     "metadata": {},
     "output_type": "execute_result"
    }
   ],
   "source": [
    "df.head()"
   ]
  },
  {
   "cell_type": "code",
   "execution_count": 44,
   "id": "3ee6d0cd",
   "metadata": {},
   "outputs": [
    {
     "data": {
      "text/plain": [
       "array([3., 2., 1., 0.])"
      ]
     },
     "execution_count": 44,
     "metadata": {},
     "output_type": "execute_result"
    }
   ],
   "source": [
    "df['region'].unique()"
   ]
  },
  {
   "cell_type": "code",
   "execution_count": 45,
   "id": "5871859c",
   "metadata": {},
   "outputs": [
    {
     "data": {
      "text/html": [
       "<div>\n",
       "<style scoped>\n",
       "    .dataframe tbody tr th:only-of-type {\n",
       "        vertical-align: middle;\n",
       "    }\n",
       "\n",
       "    .dataframe tbody tr th {\n",
       "        vertical-align: top;\n",
       "    }\n",
       "\n",
       "    .dataframe thead th {\n",
       "        text-align: right;\n",
       "    }\n",
       "</style>\n",
       "<table border=\"1\" class=\"dataframe\">\n",
       "  <thead>\n",
       "    <tr style=\"text-align: right;\">\n",
       "      <th></th>\n",
       "      <th>age</th>\n",
       "      <th>sex</th>\n",
       "      <th>bmi</th>\n",
       "      <th>children</th>\n",
       "      <th>smoker</th>\n",
       "      <th>region</th>\n",
       "      <th>charges</th>\n",
       "    </tr>\n",
       "  </thead>\n",
       "  <tbody>\n",
       "    <tr>\n",
       "      <th>count</th>\n",
       "      <td>1337.000000</td>\n",
       "      <td>1337.000000</td>\n",
       "      <td>1337.000000</td>\n",
       "      <td>1337.000000</td>\n",
       "      <td>1337.000000</td>\n",
       "      <td>1337.000000</td>\n",
       "      <td>1337.000000</td>\n",
       "    </tr>\n",
       "    <tr>\n",
       "      <th>mean</th>\n",
       "      <td>39.222139</td>\n",
       "      <td>0.504862</td>\n",
       "      <td>30.663452</td>\n",
       "      <td>1.095737</td>\n",
       "      <td>0.204936</td>\n",
       "      <td>1.516081</td>\n",
       "      <td>13279.121487</td>\n",
       "    </tr>\n",
       "    <tr>\n",
       "      <th>std</th>\n",
       "      <td>14.044333</td>\n",
       "      <td>0.500163</td>\n",
       "      <td>6.100468</td>\n",
       "      <td>1.205571</td>\n",
       "      <td>0.403806</td>\n",
       "      <td>1.105208</td>\n",
       "      <td>12110.359656</td>\n",
       "    </tr>\n",
       "    <tr>\n",
       "      <th>min</th>\n",
       "      <td>18.000000</td>\n",
       "      <td>0.000000</td>\n",
       "      <td>15.960000</td>\n",
       "      <td>0.000000</td>\n",
       "      <td>0.000000</td>\n",
       "      <td>0.000000</td>\n",
       "      <td>1121.873900</td>\n",
       "    </tr>\n",
       "    <tr>\n",
       "      <th>25%</th>\n",
       "      <td>27.000000</td>\n",
       "      <td>0.000000</td>\n",
       "      <td>26.290000</td>\n",
       "      <td>0.000000</td>\n",
       "      <td>0.000000</td>\n",
       "      <td>1.000000</td>\n",
       "      <td>4746.344000</td>\n",
       "    </tr>\n",
       "    <tr>\n",
       "      <th>50%</th>\n",
       "      <td>39.000000</td>\n",
       "      <td>1.000000</td>\n",
       "      <td>30.400000</td>\n",
       "      <td>1.000000</td>\n",
       "      <td>0.000000</td>\n",
       "      <td>2.000000</td>\n",
       "      <td>9386.161300</td>\n",
       "    </tr>\n",
       "    <tr>\n",
       "      <th>75%</th>\n",
       "      <td>51.000000</td>\n",
       "      <td>1.000000</td>\n",
       "      <td>34.700000</td>\n",
       "      <td>2.000000</td>\n",
       "      <td>0.000000</td>\n",
       "      <td>2.000000</td>\n",
       "      <td>16657.717450</td>\n",
       "    </tr>\n",
       "    <tr>\n",
       "      <th>max</th>\n",
       "      <td>64.000000</td>\n",
       "      <td>1.000000</td>\n",
       "      <td>53.130000</td>\n",
       "      <td>5.000000</td>\n",
       "      <td>1.000000</td>\n",
       "      <td>3.000000</td>\n",
       "      <td>63770.428010</td>\n",
       "    </tr>\n",
       "  </tbody>\n",
       "</table>\n",
       "</div>"
      ],
      "text/plain": [
       "               age          sex          bmi     children       smoker  \\\n",
       "count  1337.000000  1337.000000  1337.000000  1337.000000  1337.000000   \n",
       "mean     39.222139     0.504862    30.663452     1.095737     0.204936   \n",
       "std      14.044333     0.500163     6.100468     1.205571     0.403806   \n",
       "min      18.000000     0.000000    15.960000     0.000000     0.000000   \n",
       "25%      27.000000     0.000000    26.290000     0.000000     0.000000   \n",
       "50%      39.000000     1.000000    30.400000     1.000000     0.000000   \n",
       "75%      51.000000     1.000000    34.700000     2.000000     0.000000   \n",
       "max      64.000000     1.000000    53.130000     5.000000     1.000000   \n",
       "\n",
       "            region       charges  \n",
       "count  1337.000000   1337.000000  \n",
       "mean      1.516081  13279.121487  \n",
       "std       1.105208  12110.359656  \n",
       "min       0.000000   1121.873900  \n",
       "25%       1.000000   4746.344000  \n",
       "50%       2.000000   9386.161300  \n",
       "75%       2.000000  16657.717450  \n",
       "max       3.000000  63770.428010  "
      ]
     },
     "execution_count": 45,
     "metadata": {},
     "output_type": "execute_result"
    }
   ],
   "source": [
    "# Describe the data set\n",
    "\n",
    "df.describe()"
   ]
  },
  {
   "cell_type": "markdown",
   "id": "2f259d77",
   "metadata": {},
   "source": [
    "# corelation betwen feature and target variable"
   ]
  },
  {
   "cell_type": "code",
   "execution_count": 46,
   "id": "717363e3",
   "metadata": {},
   "outputs": [
    {
     "data": {
      "text/plain": [
       "region     -0.006547\n",
       "sex         0.058044\n",
       "children    0.067389\n",
       "bmi         0.198401\n",
       "age         0.298308\n",
       "smoker      0.787234\n",
       "charges     1.000000\n",
       "Name: charges, dtype: float64"
      ]
     },
     "execution_count": 46,
     "metadata": {},
     "output_type": "execute_result"
    }
   ],
   "source": [
    "df.corr()['charges'].sort_values()"
   ]
  },
  {
   "cell_type": "markdown",
   "id": "1b1a3363",
   "metadata": {},
   "source": [
    "From the above observation, smoker is highly corelated to the target variable(0.78)"
   ]
  },
  {
   "cell_type": "code",
   "execution_count": 47,
   "id": "ceebc745",
   "metadata": {},
   "outputs": [
    {
     "data": {
      "image/png": "[encoded data removed]",
      "text/plain": [
       "<Figure size 1584x504 with 2 Axes>"
      ]
     },
     "metadata": {
      "needs_background": "light"
     },
     "output_type": "display_data"
    }
   ],
   "source": [
    "# heatmap for correlation\n",
    "\n",
    "plt.figure(figsize=(22,7))\n",
    "sns.heatmap(df.corr(),annot=True,linewidth=0.1,fmt='0.2f')\n",
    "plt.xticks(fontsize=18)\n",
    "plt.yticks(fontsize=12)\n",
    "plt.show()"
   ]
  },
  {
   "cell_type": "markdown",
   "id": "80acf7e9",
   "metadata": {},
   "source": [
    "# Checking the columns which are positively and negative correltaed with the target columns"
   ]
  },
  {
   "cell_type": "code",
   "execution_count": 48,
   "id": "98ba6747",
   "metadata": {},
   "outputs": [
    {
     "data": {
      "image/png": "[encoded data removed]",
      "text/plain": [
       "<Figure size 1584x504 with 1 Axes>"
      ]
     },
     "metadata": {
      "needs_background": "light"
     },
     "output_type": "display_data"
    }
   ],
   "source": [
    "plt.figure(figsize=(22,7))\n",
    "df.corr()['charges'].sort_values(ascending=False).drop(['charges']).plot(kind='bar',color='c')\n",
    "plt.xlabel('Feature', fontsize=14)\n",
    "plt.ylabel('column with target names', fontsize=14)\n",
    "plt.title('Correlation',fontsize=18)\n",
    "plt.show()"
   ]
  },
  {
   "cell_type": "code",
   "execution_count": 49,
   "id": "317fcfa5",
   "metadata": {},
   "outputs": [
    {
     "data": {
      "text/html": [
       "<div>\n",
       "<style scoped>\n",
       "    .dataframe tbody tr th:only-of-type {\n",
       "        vertical-align: middle;\n",
       "    }\n",
       "\n",
       "    .dataframe tbody tr th {\n",
       "        vertical-align: top;\n",
       "    }\n",
       "\n",
       "    .dataframe thead th {\n",
       "        text-align: right;\n",
       "    }\n",
       "</style>\n",
       "<table border=\"1\" class=\"dataframe\">\n",
       "  <thead>\n",
       "    <tr style=\"text-align: right;\">\n",
       "      <th></th>\n",
       "      <th>age</th>\n",
       "      <th>sex</th>\n",
       "      <th>bmi</th>\n",
       "      <th>children</th>\n",
       "      <th>smoker</th>\n",
       "      <th>region</th>\n",
       "      <th>charges</th>\n",
       "    </tr>\n",
       "  </thead>\n",
       "  <tbody>\n",
       "    <tr>\n",
       "      <th>0</th>\n",
       "      <td>19</td>\n",
       "      <td>0.0</td>\n",
       "      <td>27.900</td>\n",
       "      <td>0</td>\n",
       "      <td>1.0</td>\n",
       "      <td>3.0</td>\n",
       "      <td>16884.92400</td>\n",
       "    </tr>\n",
       "    <tr>\n",
       "      <th>1</th>\n",
       "      <td>18</td>\n",
       "      <td>1.0</td>\n",
       "      <td>33.770</td>\n",
       "      <td>1</td>\n",
       "      <td>0.0</td>\n",
       "      <td>2.0</td>\n",
       "      <td>1725.55230</td>\n",
       "    </tr>\n",
       "    <tr>\n",
       "      <th>2</th>\n",
       "      <td>28</td>\n",
       "      <td>1.0</td>\n",
       "      <td>33.000</td>\n",
       "      <td>3</td>\n",
       "      <td>0.0</td>\n",
       "      <td>2.0</td>\n",
       "      <td>4449.46200</td>\n",
       "    </tr>\n",
       "    <tr>\n",
       "      <th>3</th>\n",
       "      <td>33</td>\n",
       "      <td>1.0</td>\n",
       "      <td>22.705</td>\n",
       "      <td>0</td>\n",
       "      <td>0.0</td>\n",
       "      <td>1.0</td>\n",
       "      <td>21984.47061</td>\n",
       "    </tr>\n",
       "    <tr>\n",
       "      <th>4</th>\n",
       "      <td>32</td>\n",
       "      <td>1.0</td>\n",
       "      <td>28.880</td>\n",
       "      <td>0</td>\n",
       "      <td>0.0</td>\n",
       "      <td>1.0</td>\n",
       "      <td>3866.85520</td>\n",
       "    </tr>\n",
       "  </tbody>\n",
       "</table>\n",
       "</div>"
      ],
      "text/plain": [
       "   age  sex     bmi  children  smoker  region      charges\n",
       "0   19  0.0  27.900         0     1.0     3.0  16884.92400\n",
       "1   18  1.0  33.770         1     0.0     2.0   1725.55230\n",
       "2   28  1.0  33.000         3     0.0     2.0   4449.46200\n",
       "3   33  1.0  22.705         0     0.0     1.0  21984.47061\n",
       "4   32  1.0  28.880         0     0.0     1.0   3866.85520"
      ]
     },
     "execution_count": 49,
     "metadata": {},
     "output_type": "execute_result"
    }
   ],
   "source": [
    "df.head()"
   ]
  },
  {
   "cell_type": "code",
   "execution_count": 50,
   "id": "25c92e55",
   "metadata": {},
   "outputs": [
    {
     "data": {
      "image/png": "[encoded data removed]",
      "text/plain": [
       "<Figure size 1440x720 with 4 Axes>"
      ]
     },
     "metadata": {},
     "output_type": "display_data"
    }
   ],
   "source": [
    "# let's see how data is distributed for every column\n",
    "\n",
    "plt.figure(figsize=(20,10), facecolor='lightblue')\n",
    "plotnumber = 1\n",
    "\n",
    "for column in df1:\n",
    "    if plotnumber <= 7:\n",
    "        ax = plt.subplot(2,4,plotnumber)\n",
    "        sns.distplot(df1[column])\n",
    "        plt.xlabel(column, fontsize=20)\n",
    "    plotnumber += 1\n",
    "plt.show()"
   ]
  },
  {
   "cell_type": "code",
   "execution_count": 51,
   "id": "04ed9041",
   "metadata": {},
   "outputs": [
    {
     "data": {
      "text/plain": [
       "age         0.054781\n",
       "bmi         0.283914\n",
       "children    0.937421\n",
       "charges     1.515391\n",
       "dtype: float64"
      ]
     },
     "execution_count": 51,
     "metadata": {},
     "output_type": "execute_result"
    }
   ],
   "source": [
    "df1.skew()"
   ]
  },
  {
   "cell_type": "markdown",
   "id": "a0bbc03d",
   "metadata": {},
   "source": [
    " We reduce skewness for continous data. Ideal value for skewness being +/- 0.5 . Skewness for categorical and target variable is not treated"
   ]
  },
  {
   "cell_type": "code",
   "execution_count": 52,
   "id": "221a6971",
   "metadata": {},
   "outputs": [
    {
     "data": {
      "text/plain": [
       "age         0.054781\n",
       "sex        -0.019469\n",
       "bmi         0.283914\n",
       "children    0.937421\n",
       "smoker      1.463601\n",
       "region     -0.039068\n",
       "charges     1.515391\n",
       "dtype: float64"
      ]
     },
     "execution_count": 52,
     "metadata": {},
     "output_type": "execute_result"
    }
   ],
   "source": [
    "df.skew()"
   ]
  },
  {
   "cell_type": "markdown",
   "id": "3d0a938f",
   "metadata": {},
   "source": [
    "The columns having skewness are categorical(i.e., sex, children, smoker,region and charges). charges is target variable and its skewnwss is not considered, column bmi is skewed properly. So, no need to treat skewness"
   ]
  },
  {
   "cell_type": "markdown",
   "id": "c6a1c21d",
   "metadata": {},
   "source": [
    "# Outliers Check"
   ]
  },
  {
   "cell_type": "code",
   "execution_count": 53,
   "id": "8d7dbf9e",
   "metadata": {},
   "outputs": [
    {
     "data": {
      "text/plain": [
       "age           int64\n",
       "sex         float64\n",
       "bmi         float64\n",
       "children      int64\n",
       "smoker      float64\n",
       "region      float64\n",
       "charges     float64\n",
       "dtype: object"
      ]
     },
     "execution_count": 53,
     "metadata": {},
     "output_type": "execute_result"
    }
   ],
   "source": [
    "df.dtypes"
   ]
  },
  {
   "cell_type": "markdown",
   "id": "f3eded42",
   "metadata": {},
   "source": [
    "checking the outliers on the int and float type of column(original dataset)"
   ]
  },
  {
   "cell_type": "code",
   "execution_count": 54,
   "id": "ba7403a8",
   "metadata": {},
   "outputs": [
    {
     "data": {
      "text/plain": [
       "<AxesSubplot:>"
      ]
     },
     "execution_count": 54,
     "metadata": {},
     "output_type": "execute_result"
    },
    {
     "data": {
      "image/png": "[encoded data removed]",
      "text/plain": [
       "<Figure size 432x288 with 1 Axes>"
      ]
     },
     "metadata": {
      "needs_background": "light"
     },
     "output_type": "display_data"
    }
   ],
   "source": [
    "df['age'].plot.box()"
   ]
  },
  {
   "cell_type": "code",
   "execution_count": 55,
   "id": "f96159f0",
   "metadata": {},
   "outputs": [
    {
     "data": {
      "text/plain": [
       "<AxesSubplot:>"
      ]
     },
     "execution_count": 55,
     "metadata": {},
     "output_type": "execute_result"
    },
    {
     "data": {
      "image/png": "[encoded data removed]",
      "text/plain": [
       "<Figure size 432x288 with 1 Axes>"
      ]
     },
     "metadata": {
      "needs_background": "light"
     },
     "output_type": "display_data"
    }
   ],
   "source": [
    "df['children'].plot.box()"
   ]
  },
  {
   "cell_type": "code",
   "execution_count": 56,
   "id": "9d721a0c",
   "metadata": {},
   "outputs": [
    {
     "data": {
      "text/plain": [
       "<AxesSubplot:>"
      ]
     },
     "execution_count": 56,
     "metadata": {},
     "output_type": "execute_result"
    },
    {
     "data": {
      "image/png": "[encoded data removed]",
      "text/plain": [
       "<Figure size 432x288 with 1 Axes>"
      ]
     },
     "metadata": {
      "needs_background": "light"
     },
     "output_type": "display_data"
    }
   ],
   "source": [
    "df['charges'].plot.box()"
   ]
  },
  {
   "cell_type": "markdown",
   "id": "9592274c",
   "metadata": {},
   "source": [
    "Since, charges is target variable, we do not remove outliers"
   ]
  },
  {
   "cell_type": "code",
   "execution_count": 57,
   "id": "93ebb670",
   "metadata": {},
   "outputs": [
    {
     "data": {
      "text/plain": [
       "(1337, 7)"
      ]
     },
     "execution_count": 57,
     "metadata": {},
     "output_type": "execute_result"
    }
   ],
   "source": [
    "df.shape"
   ]
  },
  {
   "cell_type": "code",
   "execution_count": 58,
   "id": "05d4dae7",
   "metadata": {},
   "outputs": [
    {
     "data": {
      "text/plain": [
       "(array([  32,   34,   71,  116,  166,  413,  425,  438,  543,  568,  577,\n",
       "         639,  818,  846,  876,  931,  936,  968,  983, 1046, 1084, 1115,\n",
       "        1129, 1145, 1229, 1244, 1271, 1299, 1316], dtype=int64),\n",
       " array([3, 6, 3, 2, 3, 3, 3, 3, 6, 3, 6, 3, 6, 2, 3, 3, 3, 3, 3, 2, 3, 3,\n",
       "        3, 6, 6, 3, 3, 6, 2], dtype=int64))"
      ]
     },
     "execution_count": 58,
     "metadata": {},
     "output_type": "execute_result"
    }
   ],
   "source": [
    "from scipy.stats import zscore\n",
    "import numpy as np\n",
    "z=np.abs(zscore(df))\n",
    "threhold=3\n",
    "np.where(z>3)"
   ]
  },
  {
   "cell_type": "code",
   "execution_count": 59,
   "id": "25ab81d6",
   "metadata": {},
   "outputs": [
    {
     "data": {
      "text/html": [
       "<div>\n",
       "<style scoped>\n",
       "    .dataframe tbody tr th:only-of-type {\n",
       "        vertical-align: middle;\n",
       "    }\n",
       "\n",
       "    .dataframe tbody tr th {\n",
       "        vertical-align: top;\n",
       "    }\n",
       "\n",
       "    .dataframe thead th {\n",
       "        text-align: right;\n",
       "    }\n",
       "</style>\n",
       "<table border=\"1\" class=\"dataframe\">\n",
       "  <thead>\n",
       "    <tr style=\"text-align: right;\">\n",
       "      <th></th>\n",
       "      <th>age</th>\n",
       "      <th>sex</th>\n",
       "      <th>bmi</th>\n",
       "      <th>children</th>\n",
       "      <th>smoker</th>\n",
       "      <th>region</th>\n",
       "      <th>charges</th>\n",
       "    </tr>\n",
       "  </thead>\n",
       "  <tbody>\n",
       "    <tr>\n",
       "      <th>0</th>\n",
       "      <td>19</td>\n",
       "      <td>0.0</td>\n",
       "      <td>27.900</td>\n",
       "      <td>0</td>\n",
       "      <td>1.0</td>\n",
       "      <td>3.0</td>\n",
       "      <td>16884.92400</td>\n",
       "    </tr>\n",
       "    <tr>\n",
       "      <th>1</th>\n",
       "      <td>18</td>\n",
       "      <td>1.0</td>\n",
       "      <td>33.770</td>\n",
       "      <td>1</td>\n",
       "      <td>0.0</td>\n",
       "      <td>2.0</td>\n",
       "      <td>1725.55230</td>\n",
       "    </tr>\n",
       "    <tr>\n",
       "      <th>2</th>\n",
       "      <td>28</td>\n",
       "      <td>1.0</td>\n",
       "      <td>33.000</td>\n",
       "      <td>3</td>\n",
       "      <td>0.0</td>\n",
       "      <td>2.0</td>\n",
       "      <td>4449.46200</td>\n",
       "    </tr>\n",
       "    <tr>\n",
       "      <th>3</th>\n",
       "      <td>33</td>\n",
       "      <td>1.0</td>\n",
       "      <td>22.705</td>\n",
       "      <td>0</td>\n",
       "      <td>0.0</td>\n",
       "      <td>1.0</td>\n",
       "      <td>21984.47061</td>\n",
       "    </tr>\n",
       "    <tr>\n",
       "      <th>4</th>\n",
       "      <td>32</td>\n",
       "      <td>1.0</td>\n",
       "      <td>28.880</td>\n",
       "      <td>0</td>\n",
       "      <td>0.0</td>\n",
       "      <td>1.0</td>\n",
       "      <td>3866.85520</td>\n",
       "    </tr>\n",
       "    <tr>\n",
       "      <th>...</th>\n",
       "      <td>...</td>\n",
       "      <td>...</td>\n",
       "      <td>...</td>\n",
       "      <td>...</td>\n",
       "      <td>...</td>\n",
       "      <td>...</td>\n",
       "      <td>...</td>\n",
       "    </tr>\n",
       "    <tr>\n",
       "      <th>1333</th>\n",
       "      <td>50</td>\n",
       "      <td>1.0</td>\n",
       "      <td>30.970</td>\n",
       "      <td>3</td>\n",
       "      <td>0.0</td>\n",
       "      <td>1.0</td>\n",
       "      <td>10600.54830</td>\n",
       "    </tr>\n",
       "    <tr>\n",
       "      <th>1334</th>\n",
       "      <td>18</td>\n",
       "      <td>0.0</td>\n",
       "      <td>31.920</td>\n",
       "      <td>0</td>\n",
       "      <td>0.0</td>\n",
       "      <td>0.0</td>\n",
       "      <td>2205.98080</td>\n",
       "    </tr>\n",
       "    <tr>\n",
       "      <th>1335</th>\n",
       "      <td>18</td>\n",
       "      <td>0.0</td>\n",
       "      <td>36.850</td>\n",
       "      <td>0</td>\n",
       "      <td>0.0</td>\n",
       "      <td>2.0</td>\n",
       "      <td>1629.83350</td>\n",
       "    </tr>\n",
       "    <tr>\n",
       "      <th>1336</th>\n",
       "      <td>21</td>\n",
       "      <td>0.0</td>\n",
       "      <td>25.800</td>\n",
       "      <td>0</td>\n",
       "      <td>0.0</td>\n",
       "      <td>3.0</td>\n",
       "      <td>2007.94500</td>\n",
       "    </tr>\n",
       "    <tr>\n",
       "      <th>1337</th>\n",
       "      <td>61</td>\n",
       "      <td>0.0</td>\n",
       "      <td>29.070</td>\n",
       "      <td>0</td>\n",
       "      <td>1.0</td>\n",
       "      <td>1.0</td>\n",
       "      <td>29141.36030</td>\n",
       "    </tr>\n",
       "  </tbody>\n",
       "</table>\n",
       "<p>1308 rows × 7 columns</p>\n",
       "</div>"
      ],
      "text/plain": [
       "      age  sex     bmi  children  smoker  region      charges\n",
       "0      19  0.0  27.900         0     1.0     3.0  16884.92400\n",
       "1      18  1.0  33.770         1     0.0     2.0   1725.55230\n",
       "2      28  1.0  33.000         3     0.0     2.0   4449.46200\n",
       "3      33  1.0  22.705         0     0.0     1.0  21984.47061\n",
       "4      32  1.0  28.880         0     0.0     1.0   3866.85520\n",
       "...   ...  ...     ...       ...     ...     ...          ...\n",
       "1333   50  1.0  30.970         3     0.0     1.0  10600.54830\n",
       "1334   18  0.0  31.920         0     0.0     0.0   2205.98080\n",
       "1335   18  0.0  36.850         0     0.0     2.0   1629.83350\n",
       "1336   21  0.0  25.800         0     0.0     3.0   2007.94500\n",
       "1337   61  0.0  29.070         0     1.0     1.0  29141.36030\n",
       "\n",
       "[1308 rows x 7 columns]"
      ]
     },
     "execution_count": 59,
     "metadata": {},
     "output_type": "execute_result"
    }
   ],
   "source": [
    "df_new_z = df[(z<3).all(axis=1)]\n",
    "df_new_z"
   ]
  },
  {
   "cell_type": "code",
   "execution_count": 60,
   "id": "ee025b40",
   "metadata": {},
   "outputs": [
    {
     "data": {
      "text/plain": [
       "0.02169035153328347"
      ]
     },
     "execution_count": 60,
     "metadata": {},
     "output_type": "execute_result"
    }
   ],
   "source": [
    "data_loss = (1337-1308)/1337\n",
    "data_loss"
   ]
  },
  {
   "cell_type": "markdown",
   "id": "dd37853d",
   "metadata": {},
   "source": [
    "Very less amount of loss percentage, so outliers can be removed or may not be removed"
   ]
  },
  {
   "cell_type": "code",
   "execution_count": 61,
   "id": "06564ca4",
   "metadata": {},
   "outputs": [
    {
     "data": {
      "text/html": [
       "<div>\n",
       "<style scoped>\n",
       "    .dataframe tbody tr th:only-of-type {\n",
       "        vertical-align: middle;\n",
       "    }\n",
       "\n",
       "    .dataframe tbody tr th {\n",
       "        vertical-align: top;\n",
       "    }\n",
       "\n",
       "    .dataframe thead th {\n",
       "        text-align: right;\n",
       "    }\n",
       "</style>\n",
       "<table border=\"1\" class=\"dataframe\">\n",
       "  <thead>\n",
       "    <tr style=\"text-align: right;\">\n",
       "      <th></th>\n",
       "      <th>age</th>\n",
       "      <th>sex</th>\n",
       "      <th>bmi</th>\n",
       "      <th>children</th>\n",
       "      <th>smoker</th>\n",
       "      <th>region</th>\n",
       "      <th>charges</th>\n",
       "    </tr>\n",
       "  </thead>\n",
       "  <tbody>\n",
       "    <tr>\n",
       "      <th>0</th>\n",
       "      <td>19</td>\n",
       "      <td>0.0</td>\n",
       "      <td>27.900</td>\n",
       "      <td>0</td>\n",
       "      <td>1.0</td>\n",
       "      <td>3.0</td>\n",
       "      <td>16884.92400</td>\n",
       "    </tr>\n",
       "    <tr>\n",
       "      <th>1</th>\n",
       "      <td>18</td>\n",
       "      <td>1.0</td>\n",
       "      <td>33.770</td>\n",
       "      <td>1</td>\n",
       "      <td>0.0</td>\n",
       "      <td>2.0</td>\n",
       "      <td>1725.55230</td>\n",
       "    </tr>\n",
       "    <tr>\n",
       "      <th>2</th>\n",
       "      <td>28</td>\n",
       "      <td>1.0</td>\n",
       "      <td>33.000</td>\n",
       "      <td>3</td>\n",
       "      <td>0.0</td>\n",
       "      <td>2.0</td>\n",
       "      <td>4449.46200</td>\n",
       "    </tr>\n",
       "    <tr>\n",
       "      <th>3</th>\n",
       "      <td>33</td>\n",
       "      <td>1.0</td>\n",
       "      <td>22.705</td>\n",
       "      <td>0</td>\n",
       "      <td>0.0</td>\n",
       "      <td>1.0</td>\n",
       "      <td>21984.47061</td>\n",
       "    </tr>\n",
       "    <tr>\n",
       "      <th>4</th>\n",
       "      <td>32</td>\n",
       "      <td>1.0</td>\n",
       "      <td>28.880</td>\n",
       "      <td>0</td>\n",
       "      <td>0.0</td>\n",
       "      <td>1.0</td>\n",
       "      <td>3866.85520</td>\n",
       "    </tr>\n",
       "  </tbody>\n",
       "</table>\n",
       "</div>"
      ],
      "text/plain": [
       "   age  sex     bmi  children  smoker  region      charges\n",
       "0   19  0.0  27.900         0     1.0     3.0  16884.92400\n",
       "1   18  1.0  33.770         1     0.0     2.0   1725.55230\n",
       "2   28  1.0  33.000         3     0.0     2.0   4449.46200\n",
       "3   33  1.0  22.705         0     0.0     1.0  21984.47061\n",
       "4   32  1.0  28.880         0     0.0     1.0   3866.85520"
      ]
     },
     "execution_count": 61,
     "metadata": {},
     "output_type": "execute_result"
    }
   ],
   "source": [
    "df_new_z.head()"
   ]
  },
  {
   "cell_type": "markdown",
   "id": "97722f7a",
   "metadata": {},
   "source": [
    "# Dividing dataset into features(x) and label(y)"
   ]
  },
  {
   "cell_type": "code",
   "execution_count": 62,
   "id": "9aa422dc",
   "metadata": {},
   "outputs": [],
   "source": [
    "\n",
    "x = df_new_z.drop(columns=['charges'],axis=1)\n",
    "y = df_new_z['charges']"
   ]
  },
  {
   "cell_type": "code",
   "execution_count": 63,
   "id": "696eba4d",
   "metadata": {},
   "outputs": [
    {
     "data": {
      "text/html": [
       "<div>\n",
       "<style scoped>\n",
       "    .dataframe tbody tr th:only-of-type {\n",
       "        vertical-align: middle;\n",
       "    }\n",
       "\n",
       "    .dataframe tbody tr th {\n",
       "        vertical-align: top;\n",
       "    }\n",
       "\n",
       "    .dataframe thead th {\n",
       "        text-align: right;\n",
       "    }\n",
       "</style>\n",
       "<table border=\"1\" class=\"dataframe\">\n",
       "  <thead>\n",
       "    <tr style=\"text-align: right;\">\n",
       "      <th></th>\n",
       "      <th>age</th>\n",
       "      <th>sex</th>\n",
       "      <th>bmi</th>\n",
       "      <th>children</th>\n",
       "      <th>smoker</th>\n",
       "      <th>region</th>\n",
       "    </tr>\n",
       "  </thead>\n",
       "  <tbody>\n",
       "    <tr>\n",
       "      <th>0</th>\n",
       "      <td>19</td>\n",
       "      <td>0.0</td>\n",
       "      <td>27.900</td>\n",
       "      <td>0</td>\n",
       "      <td>1.0</td>\n",
       "      <td>3.0</td>\n",
       "    </tr>\n",
       "    <tr>\n",
       "      <th>1</th>\n",
       "      <td>18</td>\n",
       "      <td>1.0</td>\n",
       "      <td>33.770</td>\n",
       "      <td>1</td>\n",
       "      <td>0.0</td>\n",
       "      <td>2.0</td>\n",
       "    </tr>\n",
       "    <tr>\n",
       "      <th>2</th>\n",
       "      <td>28</td>\n",
       "      <td>1.0</td>\n",
       "      <td>33.000</td>\n",
       "      <td>3</td>\n",
       "      <td>0.0</td>\n",
       "      <td>2.0</td>\n",
       "    </tr>\n",
       "    <tr>\n",
       "      <th>3</th>\n",
       "      <td>33</td>\n",
       "      <td>1.0</td>\n",
       "      <td>22.705</td>\n",
       "      <td>0</td>\n",
       "      <td>0.0</td>\n",
       "      <td>1.0</td>\n",
       "    </tr>\n",
       "    <tr>\n",
       "      <th>4</th>\n",
       "      <td>32</td>\n",
       "      <td>1.0</td>\n",
       "      <td>28.880</td>\n",
       "      <td>0</td>\n",
       "      <td>0.0</td>\n",
       "      <td>1.0</td>\n",
       "    </tr>\n",
       "  </tbody>\n",
       "</table>\n",
       "</div>"
      ],
      "text/plain": [
       "   age  sex     bmi  children  smoker  region\n",
       "0   19  0.0  27.900         0     1.0     3.0\n",
       "1   18  1.0  33.770         1     0.0     2.0\n",
       "2   28  1.0  33.000         3     0.0     2.0\n",
       "3   33  1.0  22.705         0     0.0     1.0\n",
       "4   32  1.0  28.880         0     0.0     1.0"
      ]
     },
     "execution_count": 63,
     "metadata": {},
     "output_type": "execute_result"
    }
   ],
   "source": [
    "x.head()"
   ]
  },
  {
   "cell_type": "code",
   "execution_count": 64,
   "id": "6bc3eca5",
   "metadata": {},
   "outputs": [
    {
     "data": {
      "text/plain": [
       "0    16884.92400\n",
       "1     1725.55230\n",
       "2     4449.46200\n",
       "3    21984.47061\n",
       "4     3866.85520\n",
       "Name: charges, dtype: float64"
      ]
     },
     "execution_count": 64,
     "metadata": {},
     "output_type": "execute_result"
    }
   ],
   "source": [
    "y.head()"
   ]
  },
  {
   "cell_type": "code",
   "execution_count": 65,
   "id": "cff2ce82",
   "metadata": {},
   "outputs": [
    {
     "data": {
      "text/plain": [
       "age           int64\n",
       "sex         float64\n",
       "bmi         float64\n",
       "children      int64\n",
       "smoker      float64\n",
       "region      float64\n",
       "dtype: object"
      ]
     },
     "execution_count": 65,
     "metadata": {},
     "output_type": "execute_result"
    }
   ],
   "source": [
    "x.dtypes"
   ]
  },
  {
   "cell_type": "markdown",
   "id": "74313908",
   "metadata": {},
   "source": [
    "# scaling the data"
   ]
  },
  {
   "cell_type": "code",
   "execution_count": 66,
   "id": "9ac79fca",
   "metadata": {},
   "outputs": [],
   "source": [
    "from sklearn.preprocessing import StandardScaler\n",
    "\n",
    "scaler = StandardScaler()\n",
    "x_scaled = scaler.fit_transform(x)"
   ]
  },
  {
   "cell_type": "code",
   "execution_count": 67,
   "id": "fab5fcbd",
   "metadata": {},
   "outputs": [
    {
     "data": {
      "text/plain": [
       "array([[-1.44075415, -1.00459773, -0.44918647, -0.93027909,  1.98389744,\n",
       "         1.35199437],\n",
       "       [-1.51180593,  0.99542332,  0.5331877 , -0.04080171, -0.50405831,\n",
       "         0.4469746 ],\n",
       "       [-0.80128811,  0.99542332,  0.40432431,  1.73815304, -0.50405831,\n",
       "         0.4469746 ],\n",
       "       ...,\n",
       "       [-1.51180593, -1.00459773,  1.04864127, -0.93027909, -0.50405831,\n",
       "         0.4469746 ],\n",
       "       [-1.29865058, -1.00459773, -0.80063208, -0.93027909, -0.50405831,\n",
       "         1.35199437],\n",
       "       [ 1.54342071, -1.00459773, -0.25338105, -0.93027909,  1.98389744,\n",
       "        -0.45804517]])"
      ]
     },
     "execution_count": 67,
     "metadata": {},
     "output_type": "execute_result"
    }
   ],
   "source": [
    "x_scaled"
   ]
  },
  {
   "cell_type": "markdown",
   "id": "4fca6d53",
   "metadata": {},
   "source": [
    "# Train Test Split"
   ]
  },
  {
   "cell_type": "code",
   "execution_count": 68,
   "id": "48905ebf",
   "metadata": {},
   "outputs": [],
   "source": [
    "# splitting the data into train and test\n",
    "\n",
    "from sklearn.model_selection import train_test_split, cross_val_score\n",
    "from sklearn.linear_model import LinearRegression\n",
    "from sklearn.metrics import r2_score\n",
    "\n",
    "\n",
    "lr = LinearRegression()\n"
   ]
  },
  {
   "cell_type": "code",
   "execution_count": 76,
   "id": "121b8b64",
   "metadata": {},
   "outputs": [
    {
     "name": "stdout",
     "output_type": "stream",
     "text": [
      "At random state 0, the training accuracy is: ,0.7418641728212639\n",
      "At random state 0, the testing accuracy is , 0.7891497688487263\n",
      "\n",
      "\n",
      "At random state 1, the training accuracy is: ,0.751137753986559\n",
      "At random state 1, the testing accuracy is , 0.7539264856717148\n",
      "\n",
      "\n",
      "At random state 2, the training accuracy is: ,0.751087332223536\n",
      "At random state 2, the testing accuracy is , 0.7580176746331493\n",
      "\n",
      "\n",
      "At random state 3, the training accuracy is: ,0.7455561260773549\n",
      "At random state 3, the testing accuracy is , 0.7804867269045619\n",
      "\n",
      "\n",
      "At random state 4, the training accuracy is: ,0.7468296668758672\n",
      "At random state 4, the testing accuracy is , 0.7725191273457489\n",
      "\n",
      "\n",
      "At random state 5, the training accuracy is: ,0.7498641233157852\n",
      "At random state 5, the testing accuracy is , 0.762317648429856\n",
      "\n",
      "\n",
      "At random state 6, the training accuracy is: ,0.7431316254713456\n",
      "At random state 6, the testing accuracy is , 0.7935786887733283\n",
      "\n",
      "\n",
      "At random state 7, the training accuracy is: ,0.7399651533756961\n",
      "At random state 7, the testing accuracy is , 0.8002611892354854\n",
      "\n",
      "\n",
      "At random state 8, the training accuracy is: ,0.758215979538101\n",
      "At random state 8, the testing accuracy is , 0.7262956781197576\n",
      "\n",
      "\n",
      "At random state 9, the training accuracy is: ,0.7434178485775341\n",
      "At random state 9, the testing accuracy is , 0.778984900796911\n",
      "\n",
      "\n",
      "At random state 10, the training accuracy is: ,0.7564333810475005\n",
      "At random state 10, the testing accuracy is , 0.7374362111952235\n",
      "\n",
      "\n",
      "At random state 11, the training accuracy is: ,0.747460202950319\n",
      "At random state 11, the testing accuracy is , 0.7718533429435462\n",
      "\n",
      "\n",
      "At random state 12, the training accuracy is: ,0.750550910373682\n",
      "At random state 12, the testing accuracy is , 0.7569641374313458\n",
      "\n",
      "\n",
      "At random state 13, the training accuracy is: ,0.751568861750233\n",
      "At random state 13, the testing accuracy is , 0.7536166704690556\n",
      "\n",
      "\n",
      "At random state 14, the training accuracy is: ,0.7600948498362233\n",
      "At random state 14, the testing accuracy is , 0.7082101285549789\n",
      "\n",
      "\n",
      "At random state 15, the training accuracy is: ,0.7507172076487555\n",
      "At random state 15, the testing accuracy is , 0.7606833617388371\n",
      "\n",
      "\n",
      "At random state 16, the training accuracy is: ,0.754077926619726\n",
      "At random state 16, the testing accuracy is , 0.7456772353609147\n",
      "\n",
      "\n",
      "At random state 17, the training accuracy is: ,0.7564687004315697\n",
      "At random state 17, the testing accuracy is , 0.733416897932282\n",
      "\n",
      "\n",
      "At random state 18, the training accuracy is: ,0.7531359077823655\n",
      "At random state 18, the testing accuracy is , 0.75066380901665\n",
      "\n",
      "\n",
      "At random state 19, the training accuracy is: ,0.749131567937072\n",
      "At random state 19, the testing accuracy is , 0.7660475245028543\n",
      "\n",
      "\n",
      "At random state 20, the training accuracy is: ,0.7583567012639096\n",
      "At random state 20, the testing accuracy is , 0.7286012808212741\n",
      "\n",
      "\n",
      "At random state 21, the training accuracy is: ,0.7568106936599772\n",
      "At random state 21, the testing accuracy is , 0.737184146472745\n",
      "\n",
      "\n",
      "At random state 22, the training accuracy is: ,0.7574383398212872\n",
      "At random state 22, the testing accuracy is , 0.7227252865198441\n",
      "\n",
      "\n",
      "At random state 23, the training accuracy is: ,0.7548857166388552\n",
      "At random state 23, the testing accuracy is , 0.7439541999733139\n",
      "\n",
      "\n",
      "At random state 24, the training accuracy is: ,0.7646412702239449\n",
      "At random state 24, the testing accuracy is , 0.6957427987872822\n",
      "\n",
      "\n",
      "At random state 25, the training accuracy is: ,0.7511091347952651\n",
      "At random state 25, the testing accuracy is , 0.7595972102955024\n",
      "\n",
      "\n",
      "At random state 26, the training accuracy is: ,0.7556833224837416\n",
      "At random state 26, the testing accuracy is , 0.7358239961827937\n",
      "\n",
      "\n",
      "At random state 27, the training accuracy is: ,0.7597300484296035\n",
      "At random state 27, the testing accuracy is , 0.7081747486441978\n",
      "\n",
      "\n",
      "At random state 28, the training accuracy is: ,0.7445735654624629\n",
      "At random state 28, the testing accuracy is , 0.7741018848382011\n",
      "\n",
      "\n",
      "At random state 29, the training accuracy is: ,0.75060199078982\n",
      "At random state 29, the testing accuracy is , 0.757677519487349\n",
      "\n",
      "\n",
      "At random state 30, the training accuracy is: ,0.7498599781173417\n",
      "At random state 30, the testing accuracy is , 0.7636561210323679\n",
      "\n",
      "\n",
      "At random state 31, the training accuracy is: ,0.7566517754920203\n",
      "At random state 31, the testing accuracy is , 0.7389304007943547\n",
      "\n",
      "\n",
      "At random state 32, the training accuracy is: ,0.7443187734599863\n",
      "At random state 32, the testing accuracy is , 0.7754337213766727\n",
      "\n",
      "\n",
      "At random state 33, the training accuracy is: ,0.7515748596855135\n",
      "At random state 33, the testing accuracy is , 0.7561713890070803\n",
      "\n",
      "\n",
      "At random state 34, the training accuracy is: ,0.7409562402093173\n",
      "At random state 34, the testing accuracy is , 0.7942546458866433\n",
      "\n",
      "\n",
      "At random state 35, the training accuracy is: ,0.7575316999349613\n",
      "At random state 35, the testing accuracy is , 0.7207132864952879\n",
      "\n",
      "\n",
      "At random state 36, the training accuracy is: ,0.7466393444102155\n",
      "At random state 36, the testing accuracy is , 0.7718324463023231\n",
      "\n",
      "\n",
      "At random state 37, the training accuracy is: ,0.742653226578236\n",
      "At random state 37, the testing accuracy is , 0.789837143352906\n",
      "\n",
      "\n",
      "At random state 38, the training accuracy is: ,0.762065542949325\n",
      "At random state 38, the testing accuracy is , 0.7006644059365386\n",
      "\n",
      "\n",
      "At random state 39, the training accuracy is: ,0.7523574288736273\n",
      "At random state 39, the testing accuracy is , 0.752523522238582\n",
      "\n",
      "\n",
      "At random state 40, the training accuracy is: ,0.7632069860703588\n",
      "At random state 40, the testing accuracy is , 0.7121604133435586\n",
      "\n",
      "\n",
      "At random state 41, the training accuracy is: ,0.7591767698682133\n",
      "At random state 41, the testing accuracy is , 0.7286105293470633\n",
      "\n",
      "\n",
      "At random state 42, the training accuracy is: ,0.7523936563480469\n",
      "At random state 42, the testing accuracy is , 0.7541503591967134\n",
      "\n",
      "\n",
      "At random state 43, the training accuracy is: ,0.7565654325848913\n",
      "At random state 43, the testing accuracy is , 0.7363185923834052\n",
      "\n",
      "\n",
      "At random state 44, the training accuracy is: ,0.7485525117729204\n",
      "At random state 44, the testing accuracy is , 0.7676681377431707\n",
      "\n",
      "\n",
      "At random state 45, the training accuracy is: ,0.7542828372075008\n",
      "At random state 45, the testing accuracy is , 0.7457955561995482\n",
      "\n",
      "\n",
      "At random state 46, the training accuracy is: ,0.7514484856474399\n",
      "At random state 46, the testing accuracy is , 0.7560498419671228\n",
      "\n",
      "\n",
      "At random state 47, the training accuracy is: ,0.7591536158872403\n",
      "At random state 47, the testing accuracy is , 0.7288380018394991\n",
      "\n",
      "\n",
      "At random state 48, the training accuracy is: ,0.748443722730027\n",
      "At random state 48, the testing accuracy is , 0.7693457359144442\n",
      "\n",
      "\n",
      "At random state 49, the training accuracy is: ,0.7567310468288576\n",
      "At random state 49, the testing accuracy is , 0.737875928781094\n",
      "\n",
      "\n",
      "At random state 50, the training accuracy is: ,0.7539478172279628\n",
      "At random state 50, the testing accuracy is , 0.7458800020406171\n",
      "\n",
      "\n",
      "At random state 51, the training accuracy is: ,0.7659101535621151\n",
      "At random state 51, the testing accuracy is , 0.6953955738902217\n",
      "\n",
      "\n",
      "At random state 52, the training accuracy is: ,0.7523867085428353\n",
      "At random state 52, the testing accuracy is , 0.7534396921979354\n",
      "\n",
      "\n",
      "At random state 53, the training accuracy is: ,0.7509400672174946\n",
      "At random state 53, the testing accuracy is , 0.7595142870417755\n",
      "\n",
      "\n",
      "At random state 54, the training accuracy is: ,0.7648277155454188\n",
      "At random state 54, the testing accuracy is , 0.7012244837277762\n",
      "\n",
      "\n",
      "At random state 55, the training accuracy is: ,0.7520033654047593\n",
      "At random state 55, the testing accuracy is , 0.7546676162761279\n",
      "\n",
      "\n",
      "At random state 56, the training accuracy is: ,0.7469679045427066\n",
      "At random state 56, the testing accuracy is , 0.7772703112981326\n",
      "\n",
      "\n",
      "At random state 57, the training accuracy is: ,0.7447293157800629\n",
      "At random state 57, the testing accuracy is , 0.7837652677823077\n",
      "\n",
      "\n",
      "At random state 58, the training accuracy is: ,0.7524478488056298\n",
      "At random state 58, the testing accuracy is , 0.7526951386617238\n",
      "\n",
      "\n",
      "At random state 59, the training accuracy is: ,0.7538988292325549\n",
      "At random state 59, the testing accuracy is , 0.7462661514413175\n",
      "\n",
      "\n",
      "At random state 60, the training accuracy is: ,0.7318076133321468\n",
      "At random state 60, the testing accuracy is , 0.8250853352804668\n",
      "\n",
      "\n",
      "At random state 61, the training accuracy is: ,0.7485523335332407\n",
      "At random state 61, the testing accuracy is , 0.758382219721808\n",
      "\n",
      "\n",
      "At random state 62, the training accuracy is: ,0.7442045825419953\n",
      "At random state 62, the testing accuracy is , 0.7782294874765605\n",
      "\n",
      "\n",
      "At random state 63, the training accuracy is: ,0.7594237732195606\n",
      "At random state 63, the testing accuracy is , 0.718339833760968\n",
      "\n",
      "\n",
      "At random state 64, the training accuracy is: ,0.7428269722952252\n",
      "At random state 64, the testing accuracy is , 0.7847350057993516\n",
      "\n",
      "\n",
      "At random state 65, the training accuracy is: ,0.7441368483126931\n",
      "At random state 65, the testing accuracy is , 0.7872343848017656\n",
      "\n",
      "\n",
      "At random state 66, the training accuracy is: ,0.760328164410476\n",
      "At random state 66, the testing accuracy is , 0.7242716861913064\n",
      "\n",
      "\n",
      "At random state 67, the training accuracy is: ,0.7622537163090021\n",
      "At random state 67, the testing accuracy is , 0.7171716069736109\n",
      "\n",
      "\n",
      "At random state 68, the training accuracy is: ,0.7613569087971841\n",
      "At random state 68, the testing accuracy is , 0.7166678868549705\n",
      "\n",
      "\n",
      "At random state 69, the training accuracy is: ,0.7433432203403747\n",
      "At random state 69, the testing accuracy is , 0.7870800351838168\n",
      "\n",
      "\n",
      "At random state 70, the training accuracy is: ,0.7607952349448056\n",
      "At random state 70, the testing accuracy is , 0.7221600351938785\n",
      "\n",
      "\n",
      "At random state 71, the training accuracy is: ,0.7523835520527067\n",
      "At random state 71, the testing accuracy is , 0.7524939316418615\n",
      "\n",
      "\n",
      "At random state 72, the training accuracy is: ,0.7441104972127558\n",
      "At random state 72, the testing accuracy is , 0.7853574160511521\n",
      "\n",
      "\n",
      "At random state 73, the training accuracy is: ,0.7549538583047505\n",
      "At random state 73, the testing accuracy is , 0.7426340785893542\n",
      "\n",
      "\n",
      "At random state 74, the training accuracy is: ,0.757370053559517\n",
      "At random state 74, the testing accuracy is , 0.7131465515301687\n",
      "\n",
      "\n",
      "At random state 75, the training accuracy is: ,0.7525802435311317\n",
      "At random state 75, the testing accuracy is , 0.752015222870834\n",
      "\n",
      "\n",
      "At random state 76, the training accuracy is: ,0.7499892034006885\n",
      "At random state 76, the testing accuracy is , 0.7640573990667013\n",
      "\n",
      "\n",
      "At random state 77, the training accuracy is: ,0.7655908606335597\n",
      "At random state 77, the testing accuracy is , 0.6953304096884918\n",
      "\n",
      "\n",
      "At random state 78, the training accuracy is: ,0.7460407460284757\n",
      "At random state 78, the testing accuracy is , 0.7773059713340298\n",
      "\n",
      "\n",
      "At random state 79, the training accuracy is: ,0.759967245952017\n",
      "At random state 79, the testing accuracy is , 0.7223640909054143\n",
      "\n",
      "\n",
      "At random state 80, the training accuracy is: ,0.7414206365329488\n",
      "At random state 80, the testing accuracy is , 0.7928788550474438\n",
      "\n",
      "\n",
      "At random state 81, the training accuracy is: ,0.736586200709517\n",
      "At random state 81, the testing accuracy is , 0.8071059454659184\n",
      "\n",
      "\n",
      "At random state 82, the training accuracy is: ,0.7356499016092636\n",
      "At random state 82, the testing accuracy is , 0.8098173977100181\n",
      "\n",
      "\n",
      "At random state 83, the training accuracy is: ,0.7661675363221218\n",
      "At random state 83, the testing accuracy is , 0.6853057353462848\n",
      "\n",
      "\n",
      "At random state 84, the training accuracy is: ,0.7600027466463155\n",
      "At random state 84, the testing accuracy is , 0.723686178554573\n",
      "\n",
      "\n",
      "At random state 85, the training accuracy is: ,0.7529256788879071\n",
      "At random state 85, the testing accuracy is , 0.7509414107952024\n",
      "\n",
      "\n",
      "At random state 86, the training accuracy is: ,0.7441953920227781\n",
      "At random state 86, the testing accuracy is , 0.7873192265207698\n",
      "\n",
      "\n",
      "At random state 87, the training accuracy is: ,0.7561151518512262\n",
      "At random state 87, the testing accuracy is , 0.7337604974068759\n",
      "\n",
      "\n",
      "At random state 88, the training accuracy is: ,0.7549952200913628\n",
      "At random state 88, the testing accuracy is , 0.7420290086743613\n",
      "\n",
      "\n",
      "At random state 89, the training accuracy is: ,0.7416170709591006\n",
      "At random state 89, the testing accuracy is , 0.7937723444892979\n",
      "\n",
      "\n",
      "At random state 90, the training accuracy is: ,0.748932953488423\n",
      "At random state 90, the testing accuracy is , 0.7655524693324898\n",
      "\n",
      "\n",
      "At random state 91, the training accuracy is: ,0.7666491009441482\n",
      "At random state 91, the testing accuracy is , 0.689618102489029\n",
      "\n",
      "\n",
      "At random state 92, the training accuracy is: ,0.7573218055782598\n",
      "At random state 92, the testing accuracy is , 0.7299466617068635\n",
      "\n",
      "\n",
      "At random state 93, the training accuracy is: ,0.7547105575515174\n",
      "At random state 93, the testing accuracy is , 0.7436417865130853\n",
      "\n",
      "\n",
      "At random state 94, the training accuracy is: ,0.7538901297722811\n",
      "At random state 94, the testing accuracy is , 0.7474112655226955\n",
      "\n",
      "\n",
      "At random state 95, the training accuracy is: ,0.7642557224927251\n",
      "At random state 95, the testing accuracy is , 0.687882968386738\n",
      "\n",
      "\n",
      "At random state 96, the training accuracy is: ,0.7439209992843164\n",
      "At random state 96, the testing accuracy is , 0.7830207875685624\n",
      "\n",
      "\n",
      "At random state 97, the training accuracy is: ,0.7537512562899878\n",
      "At random state 97, the testing accuracy is , 0.7460108491604873\n",
      "\n",
      "\n",
      "At random state 98, the training accuracy is: ,0.7534187190315185\n",
      "At random state 98, the testing accuracy is , 0.7496364304426206\n",
      "\n",
      "\n",
      "At random state 99, the training accuracy is: ,0.751924042877611\n",
      "At random state 99, the testing accuracy is , 0.7543314986693247\n",
      "\n",
      "\n"
     ]
    }
   ],
   "source": [
    "for i in range(0,100):\n",
    "    x_train,x_test,y_train,y_test = train_test_split(x,y,test_size=0.2,random_state=i)\n",
    "    lr.fit(x_train,y_train)\n",
    "    pred_train = lr.predict(x_train)\n",
    "    pred_test = lr.predict(x_test)\n",
    "    print(f\"At random state {i}, the training accuracy is: ,{r2_score(y_train,pred_train)}\")   \n",
    "    \n",
    "    print(f\"At random state {i}, the testing accuracy is , {r2_score(y_test,pred_test)}\")  \n",
    "    print(\"\\n\")"
   ]
  },
  {
   "cell_type": "code",
   "execution_count": 77,
   "id": "385003cb",
   "metadata": {},
   "outputs": [],
   "source": [
    " x_train,x_test,y_train,y_test = train_test_split(x,y,test_size=0.2,random_state=39)"
   ]
  },
  {
   "cell_type": "code",
   "execution_count": 78,
   "id": "a50ad5e3",
   "metadata": {},
   "outputs": [
    {
     "data": {
      "text/plain": [
       "LinearRegression()"
      ]
     },
     "execution_count": 78,
     "metadata": {},
     "output_type": "execute_result"
    }
   ],
   "source": [
    "lr.fit(x_train,y_train)"
   ]
  },
  {
   "cell_type": "code",
   "execution_count": 79,
   "id": "76a13a74",
   "metadata": {},
   "outputs": [],
   "source": [
    "pred_test = lr.predict(x_test)"
   ]
  },
  {
   "cell_type": "markdown",
   "id": "6a1f26ef",
   "metadata": {},
   "source": [
    "# Cross Validation Score"
   ]
  },
  {
   "cell_type": "code",
   "execution_count": 80,
   "id": "cf1f17ad",
   "metadata": {},
   "outputs": [
    {
     "name": "stdout",
     "output_type": "stream",
     "text": [
      "At Cross fold 2, the Cross validation score is 0.7505322677761332 and Accuracy score for training is -0.8034314508485865 and Accuracy score for testing is 0.752523522238582\n",
      "\n",
      "\n",
      "At Cross fold 3, the Cross validation score is 0.7480357150883492 and Accuracy score for training is -0.8034314508485865 and Accuracy score for testing is 0.752523522238582\n",
      "\n",
      "\n",
      "At Cross fold 4, the Cross validation score is 0.7462580193873517 and Accuracy score for training is -0.8034314508485865 and Accuracy score for testing is 0.752523522238582\n",
      "\n",
      "\n",
      "At Cross fold 5, the Cross validation score is 0.7505580662519831 and Accuracy score for training is -0.8034314508485865 and Accuracy score for testing is 0.752523522238582\n",
      "\n",
      "\n",
      "At Cross fold 6, the Cross validation score is 0.7476356290130673 and Accuracy score for training is -0.8034314508485865 and Accuracy score for testing is 0.752523522238582\n",
      "\n",
      "\n",
      "At Cross fold 7, the Cross validation score is 0.7473871022248522 and Accuracy score for training is -0.8034314508485865 and Accuracy score for testing is 0.752523522238582\n",
      "\n",
      "\n",
      "At Cross fold 8, the Cross validation score is 0.7449604473412561 and Accuracy score for training is -0.8034314508485865 and Accuracy score for testing is 0.752523522238582\n",
      "\n",
      "\n",
      "At Cross fold 9, the Cross validation score is 0.7457463157972143 and Accuracy score for training is -0.8034314508485865 and Accuracy score for testing is 0.752523522238582\n",
      "\n",
      "\n"
     ]
    }
   ],
   "source": [
    "train_accuracy = r2_score(y_train,pred_train)\n",
    "test_accuracy = r2_score(y_test, pred_test)\n",
    "\n",
    "for j in range(2,10):\n",
    "    cv_score = cross_val_score(lr,x,y,cv=j)\n",
    "    cv_mean = cv_score.mean()\n",
    "    print(f\"At Cross fold {j}, the Cross validation score is {cv_mean} and Accuracy score for training is {train_accuracy} and Accuracy score for testing is {test_accuracy}\")\n",
    "    print(\"\\n\")"
   ]
  },
  {
   "cell_type": "code",
   "execution_count": 74,
   "id": "a686b605",
   "metadata": {},
   "outputs": [],
   "source": [
    "y_pred = lr.predict(x_test)"
   ]
  },
  {
   "cell_type": "code",
   "execution_count": null,
   "id": "1056185d",
   "metadata": {},
   "outputs": [],
   "source": []
  },
  {
   "cell_type": "code",
   "execution_count": 75,
   "id": "1770fdfa",
   "metadata": {},
   "outputs": [
    {
     "name": "stdout",
     "output_type": "stream",
     "text": [
      "0.752523522238582\n"
     ]
    }
   ],
   "source": [
    "print(r2_score(y_test,pred_test))"
   ]
  },
  {
   "cell_type": "code",
   "execution_count": null,
   "id": "79b37495",
   "metadata": {},
   "outputs": [],
   "source": []
  }
 ],
 "metadata": {
  "kernelspec": {
   "display_name": "Python 3 (ipykernel)",
   "language": "python",
   "name": "python3"
  },
  "language_info": {
   "codemirror_mode": {
    "name": "ipython",
    "version": 3
   },
   "file_extension": ".py",
   "mimetype": "text/x-python",
   "name": "python",
   "nbconvert_exporter": "python",
   "pygments_lexer": "ipython3",
   "version": "3.9.12"
  }
 },
 "nbformat": 4,
 "nbformat_minor": 5
}
