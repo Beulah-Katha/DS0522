{
 "cells": [
  {
   "cell_type": "markdown",
   "id": "150fcd42",
   "metadata": {},
   "source": [
    "# Predict the Japan Used cars price "
   ]
  },
  {
   "cell_type": "code",
   "execution_count": 1,
   "id": "b1540010",
   "metadata": {},
   "outputs": [],
   "source": [
    "# importing libraries\n",
    "\n",
    "import pandas as pd\n",
    "import numpy as np\n",
    "import seaborn as sns\n",
    "import matplotlib.pyplot as plt\n",
    "\n",
    "import warnings\n",
    "warnings.filterwarnings('ignore')"
   ]
  },
  {
   "cell_type": "code",
   "execution_count": 2,
   "id": "3e8895aa",
   "metadata": {},
   "outputs": [
    {
     "data": {
      "text/html": [
       "<div>\n",
       "<style scoped>\n",
       "    .dataframe tbody tr th:only-of-type {\n",
       "        vertical-align: middle;\n",
       "    }\n",
       "\n",
       "    .dataframe tbody tr th {\n",
       "        vertical-align: top;\n",
       "    }\n",
       "\n",
       "    .dataframe thead th {\n",
       "        text-align: right;\n",
       "    }\n",
       "</style>\n",
       "<table border=\"1\" class=\"dataframe\">\n",
       "  <thead>\n",
       "    <tr style=\"text-align: right;\">\n",
       "      <th></th>\n",
       "      <th>id</th>\n",
       "      <th>price</th>\n",
       "      <th>mark</th>\n",
       "      <th>model</th>\n",
       "      <th>year</th>\n",
       "      <th>mileage</th>\n",
       "      <th>engine_capacity</th>\n",
       "      <th>transmission</th>\n",
       "      <th>drive</th>\n",
       "      <th>hand_drive</th>\n",
       "      <th>fuel</th>\n",
       "    </tr>\n",
       "  </thead>\n",
       "  <tbody>\n",
       "    <tr>\n",
       "      <th>0</th>\n",
       "      <td>0</td>\n",
       "      <td>80</td>\n",
       "      <td>nissan</td>\n",
       "      <td>march</td>\n",
       "      <td>2003</td>\n",
       "      <td>80000</td>\n",
       "      <td>1240</td>\n",
       "      <td>at</td>\n",
       "      <td>2wd</td>\n",
       "      <td>rhd</td>\n",
       "      <td>gasoline</td>\n",
       "    </tr>\n",
       "    <tr>\n",
       "      <th>1</th>\n",
       "      <td>1</td>\n",
       "      <td>110</td>\n",
       "      <td>nissan</td>\n",
       "      <td>march</td>\n",
       "      <td>2010</td>\n",
       "      <td>53000</td>\n",
       "      <td>1200</td>\n",
       "      <td>at</td>\n",
       "      <td>2wd</td>\n",
       "      <td>rhd</td>\n",
       "      <td>gasoline</td>\n",
       "    </tr>\n",
       "    <tr>\n",
       "      <th>2</th>\n",
       "      <td>2</td>\n",
       "      <td>165</td>\n",
       "      <td>nissan</td>\n",
       "      <td>lafesta</td>\n",
       "      <td>2005</td>\n",
       "      <td>47690</td>\n",
       "      <td>2000</td>\n",
       "      <td>at</td>\n",
       "      <td>2wd</td>\n",
       "      <td>rhd</td>\n",
       "      <td>gasoline</td>\n",
       "    </tr>\n",
       "    <tr>\n",
       "      <th>3</th>\n",
       "      <td>3</td>\n",
       "      <td>190</td>\n",
       "      <td>toyota</td>\n",
       "      <td>avensis</td>\n",
       "      <td>2008</td>\n",
       "      <td>130661</td>\n",
       "      <td>1990</td>\n",
       "      <td>at</td>\n",
       "      <td>2wd</td>\n",
       "      <td>rhd</td>\n",
       "      <td>gasoline</td>\n",
       "    </tr>\n",
       "    <tr>\n",
       "      <th>4</th>\n",
       "      <td>4</td>\n",
       "      <td>190</td>\n",
       "      <td>daihatsu</td>\n",
       "      <td>mira</td>\n",
       "      <td>2006</td>\n",
       "      <td>66300</td>\n",
       "      <td>660</td>\n",
       "      <td>at</td>\n",
       "      <td>2wd</td>\n",
       "      <td>rhd</td>\n",
       "      <td>gasoline</td>\n",
       "    </tr>\n",
       "    <tr>\n",
       "      <th>...</th>\n",
       "      <td>...</td>\n",
       "      <td>...</td>\n",
       "      <td>...</td>\n",
       "      <td>...</td>\n",
       "      <td>...</td>\n",
       "      <td>...</td>\n",
       "      <td>...</td>\n",
       "      <td>...</td>\n",
       "      <td>...</td>\n",
       "      <td>...</td>\n",
       "      <td>...</td>\n",
       "    </tr>\n",
       "    <tr>\n",
       "      <th>2313</th>\n",
       "      <td>2331</td>\n",
       "      <td>1400</td>\n",
       "      <td>toyota</td>\n",
       "      <td>vitz</td>\n",
       "      <td>2009</td>\n",
       "      <td>121000</td>\n",
       "      <td>996</td>\n",
       "      <td>at</td>\n",
       "      <td>2wd</td>\n",
       "      <td>rhd</td>\n",
       "      <td>gasoline</td>\n",
       "    </tr>\n",
       "    <tr>\n",
       "      <th>2314</th>\n",
       "      <td>2332</td>\n",
       "      <td>1400</td>\n",
       "      <td>toyota</td>\n",
       "      <td>estima</td>\n",
       "      <td>2003</td>\n",
       "      <td>101000</td>\n",
       "      <td>3000</td>\n",
       "      <td>at</td>\n",
       "      <td>2wd</td>\n",
       "      <td>rhd</td>\n",
       "      <td>gasoline</td>\n",
       "    </tr>\n",
       "    <tr>\n",
       "      <th>2315</th>\n",
       "      <td>2333</td>\n",
       "      <td>1400</td>\n",
       "      <td>subaru</td>\n",
       "      <td>r2</td>\n",
       "      <td>2005</td>\n",
       "      <td>101000</td>\n",
       "      <td>660</td>\n",
       "      <td>cvt</td>\n",
       "      <td>2wd</td>\n",
       "      <td>rhd</td>\n",
       "      <td>gasoline</td>\n",
       "    </tr>\n",
       "    <tr>\n",
       "      <th>2316</th>\n",
       "      <td>2334</td>\n",
       "      <td>1400</td>\n",
       "      <td>honda</td>\n",
       "      <td>z</td>\n",
       "      <td>2000</td>\n",
       "      <td>170000</td>\n",
       "      <td>660</td>\n",
       "      <td>at</td>\n",
       "      <td>4wd</td>\n",
       "      <td>rhd</td>\n",
       "      <td>gasoline</td>\n",
       "    </tr>\n",
       "    <tr>\n",
       "      <th>2317</th>\n",
       "      <td>2335</td>\n",
       "      <td>1400</td>\n",
       "      <td>toyota</td>\n",
       "      <td>estima t</td>\n",
       "      <td>2005</td>\n",
       "      <td>72320</td>\n",
       "      <td>3000</td>\n",
       "      <td>at</td>\n",
       "      <td>2wd</td>\n",
       "      <td>rhd</td>\n",
       "      <td>gasoline</td>\n",
       "    </tr>\n",
       "  </tbody>\n",
       "</table>\n",
       "<p>2318 rows × 11 columns</p>\n",
       "</div>"
      ],
      "text/plain": [
       "        id  price      mark     model  year  mileage  engine_capacity  \\\n",
       "0        0     80    nissan     march  2003    80000             1240   \n",
       "1        1    110    nissan     march  2010    53000             1200   \n",
       "2        2    165    nissan   lafesta  2005    47690             2000   \n",
       "3        3    190    toyota   avensis  2008   130661             1990   \n",
       "4        4    190  daihatsu      mira  2006    66300              660   \n",
       "...    ...    ...       ...       ...   ...      ...              ...   \n",
       "2313  2331   1400    toyota      vitz  2009   121000              996   \n",
       "2314  2332   1400    toyota    estima  2003   101000             3000   \n",
       "2315  2333   1400    subaru        r2  2005   101000              660   \n",
       "2316  2334   1400     honda         z  2000   170000              660   \n",
       "2317  2335   1400    toyota  estima t  2005    72320             3000   \n",
       "\n",
       "     transmission drive hand_drive      fuel  \n",
       "0              at   2wd        rhd  gasoline  \n",
       "1              at   2wd        rhd  gasoline  \n",
       "2              at   2wd        rhd  gasoline  \n",
       "3              at   2wd        rhd  gasoline  \n",
       "4              at   2wd        rhd  gasoline  \n",
       "...           ...   ...        ...       ...  \n",
       "2313           at   2wd        rhd  gasoline  \n",
       "2314           at   2wd        rhd  gasoline  \n",
       "2315          cvt   2wd        rhd  gasoline  \n",
       "2316           at   4wd        rhd  gasoline  \n",
       "2317           at   2wd        rhd  gasoline  \n",
       "\n",
       "[2318 rows x 11 columns]"
      ]
     },
     "execution_count": 2,
     "metadata": {},
     "output_type": "execute_result"
    }
   ],
   "source": [
    "# Loading dataset\n",
    "\n",
    "car_df = pd.read_csv('Japan_used_cars_datasets.csv')\n",
    "car_df"
   ]
  },
  {
   "cell_type": "markdown",
   "id": "b2068401",
   "metadata": {},
   "source": [
    "# EDA"
   ]
  },
  {
   "cell_type": "code",
   "execution_count": 3,
   "id": "11414d5a",
   "metadata": {},
   "outputs": [
    {
     "data": {
      "text/plain": [
       "(2318, 11)"
      ]
     },
     "execution_count": 3,
     "metadata": {},
     "output_type": "execute_result"
    }
   ],
   "source": [
    "car_df.shape"
   ]
  },
  {
   "cell_type": "code",
   "execution_count": 4,
   "id": "811fd3b4",
   "metadata": {},
   "outputs": [
    {
     "name": "stdout",
     "output_type": "stream",
     "text": [
      "<class 'pandas.core.frame.DataFrame'>\n",
      "RangeIndex: 2318 entries, 0 to 2317\n",
      "Data columns (total 11 columns):\n",
      " #   Column           Non-Null Count  Dtype \n",
      "---  ------           --------------  ----- \n",
      " 0   id               2318 non-null   int64 \n",
      " 1   price            2318 non-null   int64 \n",
      " 2   mark             2318 non-null   object\n",
      " 3   model            2318 non-null   object\n",
      " 4   year             2318 non-null   int64 \n",
      " 5   mileage          2318 non-null   int64 \n",
      " 6   engine_capacity  2318 non-null   int64 \n",
      " 7   transmission     2318 non-null   object\n",
      " 8   drive            2318 non-null   object\n",
      " 9   hand_drive       2318 non-null   object\n",
      " 10  fuel             2318 non-null   object\n",
      "dtypes: int64(5), object(6)\n",
      "memory usage: 199.3+ KB\n"
     ]
    }
   ],
   "source": [
    "car_df.info()"
   ]
  },
  {
   "cell_type": "markdown",
   "id": "eedee1d3",
   "metadata": {},
   "source": [
    "There are no null values in any column"
   ]
  },
  {
   "cell_type": "code",
   "execution_count": 5,
   "id": "720ff98a",
   "metadata": {},
   "outputs": [
    {
     "data": {
      "text/plain": [
       "Index(['id', 'price', 'mark', 'model', 'year', 'mileage', 'engine_capacity',\n",
       "       'transmission', 'drive', 'hand_drive', 'fuel'],\n",
       "      dtype='object')"
      ]
     },
     "execution_count": 5,
     "metadata": {},
     "output_type": "execute_result"
    }
   ],
   "source": [
    "car_df.columns"
   ]
  },
  {
   "cell_type": "code",
   "execution_count": 6,
   "id": "f6072fc9",
   "metadata": {},
   "outputs": [
    {
     "data": {
      "text/plain": [
       "id                  int64\n",
       "price               int64\n",
       "mark               object\n",
       "model              object\n",
       "year                int64\n",
       "mileage             int64\n",
       "engine_capacity     int64\n",
       "transmission       object\n",
       "drive              object\n",
       "hand_drive         object\n",
       "fuel               object\n",
       "dtype: object"
      ]
     },
     "execution_count": 6,
     "metadata": {},
     "output_type": "execute_result"
    }
   ],
   "source": [
    "car_df.dtypes"
   ]
  },
  {
   "cell_type": "markdown",
   "id": "d0da495e",
   "metadata": {},
   "source": [
    "All columns have (or belong to) correct data type"
   ]
  },
  {
   "cell_type": "code",
   "execution_count": 7,
   "id": "dc7a21a6",
   "metadata": {},
   "outputs": [
    {
     "data": {
      "text/html": [
       "<div>\n",
       "<style scoped>\n",
       "    .dataframe tbody tr th:only-of-type {\n",
       "        vertical-align: middle;\n",
       "    }\n",
       "\n",
       "    .dataframe tbody tr th {\n",
       "        vertical-align: top;\n",
       "    }\n",
       "\n",
       "    .dataframe thead th {\n",
       "        text-align: right;\n",
       "    }\n",
       "</style>\n",
       "<table border=\"1\" class=\"dataframe\">\n",
       "  <thead>\n",
       "    <tr style=\"text-align: right;\">\n",
       "      <th></th>\n",
       "      <th>id</th>\n",
       "      <th>price</th>\n",
       "      <th>year</th>\n",
       "      <th>mileage</th>\n",
       "      <th>engine_capacity</th>\n",
       "    </tr>\n",
       "  </thead>\n",
       "  <tbody>\n",
       "    <tr>\n",
       "      <th>count</th>\n",
       "      <td>2318.000000</td>\n",
       "      <td>2318.000000</td>\n",
       "      <td>2318.000000</td>\n",
       "      <td>2318.000000</td>\n",
       "      <td>2318.000000</td>\n",
       "    </tr>\n",
       "    <tr>\n",
       "      <th>mean</th>\n",
       "      <td>1169.047023</td>\n",
       "      <td>971.522433</td>\n",
       "      <td>2005.972390</td>\n",
       "      <td>100013.194996</td>\n",
       "      <td>1507.010785</td>\n",
       "    </tr>\n",
       "    <tr>\n",
       "      <th>std</th>\n",
       "      <td>674.460724</td>\n",
       "      <td>288.673112</td>\n",
       "      <td>3.698863</td>\n",
       "      <td>52512.478883</td>\n",
       "      <td>549.585170</td>\n",
       "    </tr>\n",
       "    <tr>\n",
       "      <th>min</th>\n",
       "      <td>0.000000</td>\n",
       "      <td>80.000000</td>\n",
       "      <td>1979.000000</td>\n",
       "      <td>2000.000000</td>\n",
       "      <td>9.000000</td>\n",
       "    </tr>\n",
       "    <tr>\n",
       "      <th>25%</th>\n",
       "      <td>583.250000</td>\n",
       "      <td>776.000000</td>\n",
       "      <td>2004.000000</td>\n",
       "      <td>67000.000000</td>\n",
       "      <td>1300.000000</td>\n",
       "    </tr>\n",
       "    <tr>\n",
       "      <th>50%</th>\n",
       "      <td>1168.500000</td>\n",
       "      <td>1000.000000</td>\n",
       "      <td>2006.000000</td>\n",
       "      <td>94000.000000</td>\n",
       "      <td>1490.000000</td>\n",
       "    </tr>\n",
       "    <tr>\n",
       "      <th>75%</th>\n",
       "      <td>1753.750000</td>\n",
       "      <td>1213.000000</td>\n",
       "      <td>2009.000000</td>\n",
       "      <td>124000.000000</td>\n",
       "      <td>1800.000000</td>\n",
       "    </tr>\n",
       "    <tr>\n",
       "      <th>max</th>\n",
       "      <td>2335.000000</td>\n",
       "      <td>1400.000000</td>\n",
       "      <td>2015.000000</td>\n",
       "      <td>790000.000000</td>\n",
       "      <td>12340.000000</td>\n",
       "    </tr>\n",
       "  </tbody>\n",
       "</table>\n",
       "</div>"
      ],
      "text/plain": [
       "                id        price         year        mileage  engine_capacity\n",
       "count  2318.000000  2318.000000  2318.000000    2318.000000      2318.000000\n",
       "mean   1169.047023   971.522433  2005.972390  100013.194996      1507.010785\n",
       "std     674.460724   288.673112     3.698863   52512.478883       549.585170\n",
       "min       0.000000    80.000000  1979.000000    2000.000000         9.000000\n",
       "25%     583.250000   776.000000  2004.000000   67000.000000      1300.000000\n",
       "50%    1168.500000  1000.000000  2006.000000   94000.000000      1490.000000\n",
       "75%    1753.750000  1213.000000  2009.000000  124000.000000      1800.000000\n",
       "max    2335.000000  1400.000000  2015.000000  790000.000000     12340.000000"
      ]
     },
     "execution_count": 7,
     "metadata": {},
     "output_type": "execute_result"
    }
   ],
   "source": [
    "car_df.describe()"
   ]
  },
  {
   "cell_type": "code",
   "execution_count": 8,
   "id": "496b0939",
   "metadata": {},
   "outputs": [
    {
     "data": {
      "text/html": [
       "<div>\n",
       "<style scoped>\n",
       "    .dataframe tbody tr th:only-of-type {\n",
       "        vertical-align: middle;\n",
       "    }\n",
       "\n",
       "    .dataframe tbody tr th {\n",
       "        vertical-align: top;\n",
       "    }\n",
       "\n",
       "    .dataframe thead th {\n",
       "        text-align: right;\n",
       "    }\n",
       "</style>\n",
       "<table border=\"1\" class=\"dataframe\">\n",
       "  <thead>\n",
       "    <tr style=\"text-align: right;\">\n",
       "      <th></th>\n",
       "      <th>id</th>\n",
       "      <th>price</th>\n",
       "      <th>mark</th>\n",
       "      <th>model</th>\n",
       "      <th>year</th>\n",
       "      <th>mileage</th>\n",
       "      <th>engine_capacity</th>\n",
       "      <th>transmission</th>\n",
       "      <th>drive</th>\n",
       "      <th>hand_drive</th>\n",
       "      <th>fuel</th>\n",
       "    </tr>\n",
       "  </thead>\n",
       "  <tbody>\n",
       "    <tr>\n",
       "      <th>count</th>\n",
       "      <td>2318.000000</td>\n",
       "      <td>2318.000000</td>\n",
       "      <td>2318</td>\n",
       "      <td>2318</td>\n",
       "      <td>2318.000000</td>\n",
       "      <td>2318.000000</td>\n",
       "      <td>2318.000000</td>\n",
       "      <td>2318</td>\n",
       "      <td>2318</td>\n",
       "      <td>2318</td>\n",
       "      <td>2318</td>\n",
       "    </tr>\n",
       "    <tr>\n",
       "      <th>unique</th>\n",
       "      <td>NaN</td>\n",
       "      <td>NaN</td>\n",
       "      <td>28</td>\n",
       "      <td>258</td>\n",
       "      <td>NaN</td>\n",
       "      <td>NaN</td>\n",
       "      <td>NaN</td>\n",
       "      <td>3</td>\n",
       "      <td>3</td>\n",
       "      <td>3</td>\n",
       "      <td>5</td>\n",
       "    </tr>\n",
       "    <tr>\n",
       "      <th>top</th>\n",
       "      <td>NaN</td>\n",
       "      <td>NaN</td>\n",
       "      <td>toyota</td>\n",
       "      <td>fit</td>\n",
       "      <td>NaN</td>\n",
       "      <td>NaN</td>\n",
       "      <td>NaN</td>\n",
       "      <td>at</td>\n",
       "      <td>2wd</td>\n",
       "      <td>rhd</td>\n",
       "      <td>gasoline</td>\n",
       "    </tr>\n",
       "    <tr>\n",
       "      <th>freq</th>\n",
       "      <td>NaN</td>\n",
       "      <td>NaN</td>\n",
       "      <td>1047</td>\n",
       "      <td>270</td>\n",
       "      <td>NaN</td>\n",
       "      <td>NaN</td>\n",
       "      <td>NaN</td>\n",
       "      <td>2171</td>\n",
       "      <td>2121</td>\n",
       "      <td>2301</td>\n",
       "      <td>2290</td>\n",
       "    </tr>\n",
       "    <tr>\n",
       "      <th>mean</th>\n",
       "      <td>1169.047023</td>\n",
       "      <td>971.522433</td>\n",
       "      <td>NaN</td>\n",
       "      <td>NaN</td>\n",
       "      <td>2005.972390</td>\n",
       "      <td>100013.194996</td>\n",
       "      <td>1507.010785</td>\n",
       "      <td>NaN</td>\n",
       "      <td>NaN</td>\n",
       "      <td>NaN</td>\n",
       "      <td>NaN</td>\n",
       "    </tr>\n",
       "    <tr>\n",
       "      <th>std</th>\n",
       "      <td>674.460724</td>\n",
       "      <td>288.673112</td>\n",
       "      <td>NaN</td>\n",
       "      <td>NaN</td>\n",
       "      <td>3.698863</td>\n",
       "      <td>52512.478883</td>\n",
       "      <td>549.585170</td>\n",
       "      <td>NaN</td>\n",
       "      <td>NaN</td>\n",
       "      <td>NaN</td>\n",
       "      <td>NaN</td>\n",
       "    </tr>\n",
       "    <tr>\n",
       "      <th>min</th>\n",
       "      <td>0.000000</td>\n",
       "      <td>80.000000</td>\n",
       "      <td>NaN</td>\n",
       "      <td>NaN</td>\n",
       "      <td>1979.000000</td>\n",
       "      <td>2000.000000</td>\n",
       "      <td>9.000000</td>\n",
       "      <td>NaN</td>\n",
       "      <td>NaN</td>\n",
       "      <td>NaN</td>\n",
       "      <td>NaN</td>\n",
       "    </tr>\n",
       "    <tr>\n",
       "      <th>25%</th>\n",
       "      <td>583.250000</td>\n",
       "      <td>776.000000</td>\n",
       "      <td>NaN</td>\n",
       "      <td>NaN</td>\n",
       "      <td>2004.000000</td>\n",
       "      <td>67000.000000</td>\n",
       "      <td>1300.000000</td>\n",
       "      <td>NaN</td>\n",
       "      <td>NaN</td>\n",
       "      <td>NaN</td>\n",
       "      <td>NaN</td>\n",
       "    </tr>\n",
       "    <tr>\n",
       "      <th>50%</th>\n",
       "      <td>1168.500000</td>\n",
       "      <td>1000.000000</td>\n",
       "      <td>NaN</td>\n",
       "      <td>NaN</td>\n",
       "      <td>2006.000000</td>\n",
       "      <td>94000.000000</td>\n",
       "      <td>1490.000000</td>\n",
       "      <td>NaN</td>\n",
       "      <td>NaN</td>\n",
       "      <td>NaN</td>\n",
       "      <td>NaN</td>\n",
       "    </tr>\n",
       "    <tr>\n",
       "      <th>75%</th>\n",
       "      <td>1753.750000</td>\n",
       "      <td>1213.000000</td>\n",
       "      <td>NaN</td>\n",
       "      <td>NaN</td>\n",
       "      <td>2009.000000</td>\n",
       "      <td>124000.000000</td>\n",
       "      <td>1800.000000</td>\n",
       "      <td>NaN</td>\n",
       "      <td>NaN</td>\n",
       "      <td>NaN</td>\n",
       "      <td>NaN</td>\n",
       "    </tr>\n",
       "    <tr>\n",
       "      <th>max</th>\n",
       "      <td>2335.000000</td>\n",
       "      <td>1400.000000</td>\n",
       "      <td>NaN</td>\n",
       "      <td>NaN</td>\n",
       "      <td>2015.000000</td>\n",
       "      <td>790000.000000</td>\n",
       "      <td>12340.000000</td>\n",
       "      <td>NaN</td>\n",
       "      <td>NaN</td>\n",
       "      <td>NaN</td>\n",
       "      <td>NaN</td>\n",
       "    </tr>\n",
       "  </tbody>\n",
       "</table>\n",
       "</div>"
      ],
      "text/plain": [
       "                 id        price    mark model         year        mileage  \\\n",
       "count   2318.000000  2318.000000    2318  2318  2318.000000    2318.000000   \n",
       "unique          NaN          NaN      28   258          NaN            NaN   \n",
       "top             NaN          NaN  toyota   fit          NaN            NaN   \n",
       "freq            NaN          NaN    1047   270          NaN            NaN   \n",
       "mean    1169.047023   971.522433     NaN   NaN  2005.972390  100013.194996   \n",
       "std      674.460724   288.673112     NaN   NaN     3.698863   52512.478883   \n",
       "min        0.000000    80.000000     NaN   NaN  1979.000000    2000.000000   \n",
       "25%      583.250000   776.000000     NaN   NaN  2004.000000   67000.000000   \n",
       "50%     1168.500000  1000.000000     NaN   NaN  2006.000000   94000.000000   \n",
       "75%     1753.750000  1213.000000     NaN   NaN  2009.000000  124000.000000   \n",
       "max     2335.000000  1400.000000     NaN   NaN  2015.000000  790000.000000   \n",
       "\n",
       "        engine_capacity transmission drive hand_drive      fuel  \n",
       "count       2318.000000         2318  2318       2318      2318  \n",
       "unique              NaN            3     3          3         5  \n",
       "top                 NaN           at   2wd        rhd  gasoline  \n",
       "freq                NaN         2171  2121       2301      2290  \n",
       "mean        1507.010785          NaN   NaN        NaN       NaN  \n",
       "std          549.585170          NaN   NaN        NaN       NaN  \n",
       "min            9.000000          NaN   NaN        NaN       NaN  \n",
       "25%         1300.000000          NaN   NaN        NaN       NaN  \n",
       "50%         1490.000000          NaN   NaN        NaN       NaN  \n",
       "75%         1800.000000          NaN   NaN        NaN       NaN  \n",
       "max        12340.000000          NaN   NaN        NaN       NaN  "
      ]
     },
     "execution_count": 8,
     "metadata": {},
     "output_type": "execute_result"
    }
   ],
   "source": [
    "car_df.describe(include='all')"
   ]
  },
  {
   "cell_type": "code",
   "execution_count": 9,
   "id": "22cbe344",
   "metadata": {},
   "outputs": [
    {
     "data": {
      "text/html": [
       "<div>\n",
       "<style scoped>\n",
       "    .dataframe tbody tr th:only-of-type {\n",
       "        vertical-align: middle;\n",
       "    }\n",
       "\n",
       "    .dataframe tbody tr th {\n",
       "        vertical-align: top;\n",
       "    }\n",
       "\n",
       "    .dataframe thead th {\n",
       "        text-align: right;\n",
       "    }\n",
       "</style>\n",
       "<table border=\"1\" class=\"dataframe\">\n",
       "  <thead>\n",
       "    <tr style=\"text-align: right;\">\n",
       "      <th></th>\n",
       "      <th>id</th>\n",
       "      <th>price</th>\n",
       "      <th>mark</th>\n",
       "      <th>model</th>\n",
       "      <th>year</th>\n",
       "      <th>mileage</th>\n",
       "      <th>engine_capacity</th>\n",
       "      <th>transmission</th>\n",
       "      <th>drive</th>\n",
       "      <th>hand_drive</th>\n",
       "      <th>fuel</th>\n",
       "    </tr>\n",
       "  </thead>\n",
       "  <tbody>\n",
       "    <tr>\n",
       "      <th>0</th>\n",
       "      <td>0</td>\n",
       "      <td>80</td>\n",
       "      <td>nissan</td>\n",
       "      <td>march</td>\n",
       "      <td>2003</td>\n",
       "      <td>80000</td>\n",
       "      <td>1240</td>\n",
       "      <td>at</td>\n",
       "      <td>2wd</td>\n",
       "      <td>rhd</td>\n",
       "      <td>gasoline</td>\n",
       "    </tr>\n",
       "    <tr>\n",
       "      <th>1</th>\n",
       "      <td>1</td>\n",
       "      <td>110</td>\n",
       "      <td>nissan</td>\n",
       "      <td>march</td>\n",
       "      <td>2010</td>\n",
       "      <td>53000</td>\n",
       "      <td>1200</td>\n",
       "      <td>at</td>\n",
       "      <td>2wd</td>\n",
       "      <td>rhd</td>\n",
       "      <td>gasoline</td>\n",
       "    </tr>\n",
       "    <tr>\n",
       "      <th>2</th>\n",
       "      <td>2</td>\n",
       "      <td>165</td>\n",
       "      <td>nissan</td>\n",
       "      <td>lafesta</td>\n",
       "      <td>2005</td>\n",
       "      <td>47690</td>\n",
       "      <td>2000</td>\n",
       "      <td>at</td>\n",
       "      <td>2wd</td>\n",
       "      <td>rhd</td>\n",
       "      <td>gasoline</td>\n",
       "    </tr>\n",
       "    <tr>\n",
       "      <th>3</th>\n",
       "      <td>3</td>\n",
       "      <td>190</td>\n",
       "      <td>toyota</td>\n",
       "      <td>avensis</td>\n",
       "      <td>2008</td>\n",
       "      <td>130661</td>\n",
       "      <td>1990</td>\n",
       "      <td>at</td>\n",
       "      <td>2wd</td>\n",
       "      <td>rhd</td>\n",
       "      <td>gasoline</td>\n",
       "    </tr>\n",
       "    <tr>\n",
       "      <th>4</th>\n",
       "      <td>4</td>\n",
       "      <td>190</td>\n",
       "      <td>daihatsu</td>\n",
       "      <td>mira</td>\n",
       "      <td>2006</td>\n",
       "      <td>66300</td>\n",
       "      <td>660</td>\n",
       "      <td>at</td>\n",
       "      <td>2wd</td>\n",
       "      <td>rhd</td>\n",
       "      <td>gasoline</td>\n",
       "    </tr>\n",
       "  </tbody>\n",
       "</table>\n",
       "</div>"
      ],
      "text/plain": [
       "   id  price      mark    model  year  mileage  engine_capacity transmission  \\\n",
       "0   0     80    nissan    march  2003    80000             1240           at   \n",
       "1   1    110    nissan    march  2010    53000             1200           at   \n",
       "2   2    165    nissan  lafesta  2005    47690             2000           at   \n",
       "3   3    190    toyota  avensis  2008   130661             1990           at   \n",
       "4   4    190  daihatsu     mira  2006    66300              660           at   \n",
       "\n",
       "  drive hand_drive      fuel  \n",
       "0   2wd        rhd  gasoline  \n",
       "1   2wd        rhd  gasoline  \n",
       "2   2wd        rhd  gasoline  \n",
       "3   2wd        rhd  gasoline  \n",
       "4   2wd        rhd  gasoline  "
      ]
     },
     "execution_count": 9,
     "metadata": {},
     "output_type": "execute_result"
    }
   ],
   "source": [
    "car_df.head()"
   ]
  },
  {
   "cell_type": "code",
   "execution_count": 10,
   "id": "9a10df7f",
   "metadata": {},
   "outputs": [
    {
     "data": {
      "text/plain": [
       "array(['at', 'mt', 'cvt'], dtype=object)"
      ]
     },
     "execution_count": 10,
     "metadata": {},
     "output_type": "execute_result"
    }
   ],
   "source": [
    "car_df['transmission'].unique()"
   ]
  },
  {
   "cell_type": "markdown",
   "id": "9a78dc88",
   "metadata": {},
   "source": [
    "The column or feature or variable 'transmission' is an object data type which has 3 unique values, 'at','mt','cvt'. So, it is categorical data"
   ]
  },
  {
   "cell_type": "code",
   "execution_count": 11,
   "id": "6d791ff7",
   "metadata": {},
   "outputs": [
    {
     "data": {
      "text/plain": [
       "array(['2wd', '4wd', 'awd'], dtype=object)"
      ]
     },
     "execution_count": 11,
     "metadata": {},
     "output_type": "execute_result"
    }
   ],
   "source": [
    "car_df['drive'].unique()"
   ]
  },
  {
   "cell_type": "markdown",
   "id": "e750f6bd",
   "metadata": {},
   "source": [
    "The 'drive' column or feature or variable is an object data type which has 3 unique values, '2wd','4wd','awd'. So, it is categorical data"
   ]
  },
  {
   "cell_type": "code",
   "execution_count": 12,
   "id": "23add1ff",
   "metadata": {},
   "outputs": [
    {
     "data": {
      "text/plain": [
       "array(['rhd', 'center', 'lhd'], dtype=object)"
      ]
     },
     "execution_count": 12,
     "metadata": {},
     "output_type": "execute_result"
    }
   ],
   "source": [
    "car_df['hand_drive'].unique()"
   ]
  },
  {
   "cell_type": "markdown",
   "id": "451fbabc",
   "metadata": {},
   "source": [
    "'hand_drive' is also a categorical data with 3 unique values 'rhd','center','lhd'"
   ]
  },
  {
   "cell_type": "code",
   "execution_count": 13,
   "id": "2b0a68df",
   "metadata": {},
   "outputs": [
    {
     "data": {
      "text/plain": [
       "array(['gasoline', 'diesel', 'hybrid', 'lpg', 'cng'], dtype=object)"
      ]
     },
     "execution_count": 13,
     "metadata": {},
     "output_type": "execute_result"
    }
   ],
   "source": [
    "car_df['fuel'].unique()"
   ]
  },
  {
   "cell_type": "markdown",
   "id": "c589759e",
   "metadata": {},
   "source": [
    "The feature 'fuel' has 5 unique values,'gasoline','diesel','hybrid','lpg','cng'"
   ]
  },
  {
   "cell_type": "code",
   "execution_count": 14,
   "id": "a13a834b",
   "metadata": {},
   "outputs": [
    {
     "data": {
      "text/plain": [
       "array(['nissan', 'toyota', 'daihatsu', 'volkswagen', 'mazda', 'honda',\n",
       "       'subaru', 'mercedes-benz', 'kubota', 'mitsubishi', 'suzuki', 'bmw',\n",
       "       'chrysler', 'smart', 'gm', 'opel', 'isuzu', 'land rover',\n",
       "       'peugeot', 'hyundai', 'kia motors', 'audi', 'citroen', 'mitsuoka',\n",
       "       'volvo', 'ford', 'hino', 'jaguar'], dtype=object)"
      ]
     },
     "execution_count": 14,
     "metadata": {},
     "output_type": "execute_result"
    }
   ],
   "source": [
    "car_df['mark'].unique()"
   ]
  },
  {
   "cell_type": "code",
   "execution_count": 15,
   "id": "fca48edf",
   "metadata": {},
   "outputs": [
    {
     "data": {
      "text/plain": [
       "28"
      ]
     },
     "execution_count": 15,
     "metadata": {},
     "output_type": "execute_result"
    }
   ],
   "source": [
    "car_df['mark'].nunique()"
   ]
  },
  {
   "cell_type": "code",
   "execution_count": 16,
   "id": "2f858c30",
   "metadata": {},
   "outputs": [
    {
     "data": {
      "text/plain": [
       "258"
      ]
     },
     "execution_count": 16,
     "metadata": {},
     "output_type": "execute_result"
    }
   ],
   "source": [
    "car_df['model'].nunique()"
   ]
  },
  {
   "cell_type": "code",
   "execution_count": 17,
   "id": "aac6645d",
   "metadata": {},
   "outputs": [
    {
     "data": {
      "text/plain": [
       "id                 0\n",
       "price              0\n",
       "mark               0\n",
       "model              0\n",
       "year               0\n",
       "mileage            0\n",
       "engine_capacity    0\n",
       "transmission       0\n",
       "drive              0\n",
       "hand_drive         0\n",
       "fuel               0\n",
       "dtype: int64"
      ]
     },
     "execution_count": 17,
     "metadata": {},
     "output_type": "execute_result"
    }
   ],
   "source": [
    "# Checking for Null values\n",
    "\n",
    "car_df.isnull().sum()"
   ]
  },
  {
   "cell_type": "markdown",
   "id": "9b431433",
   "metadata": {},
   "source": [
    "# Data Visualization"
   ]
  },
  {
   "cell_type": "markdown",
   "id": "f85014a3",
   "metadata": {},
   "source": [
    "For categorical data , we can use countplot that gives the frequency of the classes of the columns"
   ]
  },
  {
   "cell_type": "code",
   "execution_count": 18,
   "id": "6cc364b7",
   "metadata": {},
   "outputs": [
    {
     "name": "stdout",
     "output_type": "stream",
     "text": [
      "gasoline    2290\n",
      "diesel        18\n",
      "lpg            7\n",
      "hybrid         2\n",
      "cng            1\n",
      "Name: fuel, dtype: int64\n"
     ]
    },
    {
     "data": {
      "image/png": "[encoded data removed]",
      "text/plain": [
       "<Figure size 432x288 with 1 Axes>"
      ]
     },
     "metadata": {
      "needs_background": "light"
     },
     "output_type": "display_data"
    }
   ],
   "source": [
    "# countplot for fuel\n",
    "\n",
    "ax = sns.countplot(x='fuel', data=car_df)\n",
    "print(car_df['fuel'].value_counts())\n",
    "plt.title(\"Fuel\")\n",
    "plt.show()"
   ]
  },
  {
   "cell_type": "markdown",
   "id": "be410137",
   "metadata": {},
   "source": [
    "We can observe that more cars are gasoline cars"
   ]
  },
  {
   "cell_type": "code",
   "execution_count": 19,
   "id": "11ca55e2",
   "metadata": {},
   "outputs": [
    {
     "name": "stdout",
     "output_type": "stream",
     "text": [
      "at     2171\n",
      "mt      117\n",
      "cvt      30\n",
      "Name: transmission, dtype: int64\n"
     ]
    },
    {
     "data": {
      "image/png": "[encoded data removed]",
      "text/plain": [
       "<Figure size 432x288 with 1 Axes>"
      ]
     },
     "metadata": {
      "needs_background": "light"
     },
     "output_type": "display_data"
    }
   ],
   "source": [
    "# countplot for transmission\n",
    "\n",
    "ax = sns.countplot(x='transmission', data=car_df)\n",
    "print(car_df['transmission'].value_counts())"
   ]
  },
  {
   "cell_type": "markdown",
   "id": "1f551a69",
   "metadata": {},
   "source": [
    "We can observe that more cars use 'at' transmission"
   ]
  },
  {
   "cell_type": "code",
   "execution_count": 20,
   "id": "364a74a1",
   "metadata": {},
   "outputs": [
    {
     "name": "stdout",
     "output_type": "stream",
     "text": [
      "2wd    2121\n",
      "4wd     192\n",
      "awd       5\n",
      "Name: drive, dtype: int64\n"
     ]
    },
    {
     "data": {
      "image/png": "[encoded data removed]",
      "text/plain": [
       "<Figure size 432x288 with 1 Axes>"
      ]
     },
     "metadata": {
      "needs_background": "light"
     },
     "output_type": "display_data"
    }
   ],
   "source": [
    "# countplot for drive\n",
    "\n",
    "ax = sns.countplot(x='drive', data=car_df)\n",
    "print(car_df['drive'].value_counts())"
   ]
  },
  {
   "cell_type": "code",
   "execution_count": 21,
   "id": "d001bb81",
   "metadata": {},
   "outputs": [
    {
     "name": "stdout",
     "output_type": "stream",
     "text": [
      "rhd       2301\n",
      "lhd         16\n",
      "center       1\n",
      "Name: hand_drive, dtype: int64\n"
     ]
    },
    {
     "data": {
      "image/png": "[encoded data removed]",
      "text/plain": [
       "<Figure size 432x288 with 1 Axes>"
      ]
     },
     "metadata": {
      "needs_background": "light"
     },
     "output_type": "display_data"
    }
   ],
   "source": [
    "# countplot for hand_drive\n",
    "\n",
    "ax = sns.countplot(x='hand_drive', data=car_df)\n",
    "print(car_df['hand_drive'].value_counts())"
   ]
  },
  {
   "cell_type": "code",
   "execution_count": 22,
   "id": "8db5dbee",
   "metadata": {},
   "outputs": [
    {
     "data": {
      "text/html": [
       "<div>\n",
       "<style scoped>\n",
       "    .dataframe tbody tr th:only-of-type {\n",
       "        vertical-align: middle;\n",
       "    }\n",
       "\n",
       "    .dataframe tbody tr th {\n",
       "        vertical-align: top;\n",
       "    }\n",
       "\n",
       "    .dataframe thead th {\n",
       "        text-align: right;\n",
       "    }\n",
       "</style>\n",
       "<table border=\"1\" class=\"dataframe\">\n",
       "  <thead>\n",
       "    <tr style=\"text-align: right;\">\n",
       "      <th></th>\n",
       "      <th>id</th>\n",
       "      <th>price</th>\n",
       "      <th>mark</th>\n",
       "      <th>model</th>\n",
       "      <th>year</th>\n",
       "      <th>mileage</th>\n",
       "      <th>engine_capacity</th>\n",
       "      <th>transmission</th>\n",
       "      <th>drive</th>\n",
       "      <th>hand_drive</th>\n",
       "      <th>fuel</th>\n",
       "    </tr>\n",
       "  </thead>\n",
       "  <tbody>\n",
       "    <tr>\n",
       "      <th>0</th>\n",
       "      <td>0</td>\n",
       "      <td>80</td>\n",
       "      <td>nissan</td>\n",
       "      <td>march</td>\n",
       "      <td>2003</td>\n",
       "      <td>80000</td>\n",
       "      <td>1240</td>\n",
       "      <td>at</td>\n",
       "      <td>2wd</td>\n",
       "      <td>rhd</td>\n",
       "      <td>gasoline</td>\n",
       "    </tr>\n",
       "    <tr>\n",
       "      <th>1</th>\n",
       "      <td>1</td>\n",
       "      <td>110</td>\n",
       "      <td>nissan</td>\n",
       "      <td>march</td>\n",
       "      <td>2010</td>\n",
       "      <td>53000</td>\n",
       "      <td>1200</td>\n",
       "      <td>at</td>\n",
       "      <td>2wd</td>\n",
       "      <td>rhd</td>\n",
       "      <td>gasoline</td>\n",
       "    </tr>\n",
       "    <tr>\n",
       "      <th>2</th>\n",
       "      <td>2</td>\n",
       "      <td>165</td>\n",
       "      <td>nissan</td>\n",
       "      <td>lafesta</td>\n",
       "      <td>2005</td>\n",
       "      <td>47690</td>\n",
       "      <td>2000</td>\n",
       "      <td>at</td>\n",
       "      <td>2wd</td>\n",
       "      <td>rhd</td>\n",
       "      <td>gasoline</td>\n",
       "    </tr>\n",
       "    <tr>\n",
       "      <th>3</th>\n",
       "      <td>3</td>\n",
       "      <td>190</td>\n",
       "      <td>toyota</td>\n",
       "      <td>avensis</td>\n",
       "      <td>2008</td>\n",
       "      <td>130661</td>\n",
       "      <td>1990</td>\n",
       "      <td>at</td>\n",
       "      <td>2wd</td>\n",
       "      <td>rhd</td>\n",
       "      <td>gasoline</td>\n",
       "    </tr>\n",
       "    <tr>\n",
       "      <th>4</th>\n",
       "      <td>4</td>\n",
       "      <td>190</td>\n",
       "      <td>daihatsu</td>\n",
       "      <td>mira</td>\n",
       "      <td>2006</td>\n",
       "      <td>66300</td>\n",
       "      <td>660</td>\n",
       "      <td>at</td>\n",
       "      <td>2wd</td>\n",
       "      <td>rhd</td>\n",
       "      <td>gasoline</td>\n",
       "    </tr>\n",
       "  </tbody>\n",
       "</table>\n",
       "</div>"
      ],
      "text/plain": [
       "   id  price      mark    model  year  mileage  engine_capacity transmission  \\\n",
       "0   0     80    nissan    march  2003    80000             1240           at   \n",
       "1   1    110    nissan    march  2010    53000             1200           at   \n",
       "2   2    165    nissan  lafesta  2005    47690             2000           at   \n",
       "3   3    190    toyota  avensis  2008   130661             1990           at   \n",
       "4   4    190  daihatsu     mira  2006    66300              660           at   \n",
       "\n",
       "  drive hand_drive      fuel  \n",
       "0   2wd        rhd  gasoline  \n",
       "1   2wd        rhd  gasoline  \n",
       "2   2wd        rhd  gasoline  \n",
       "3   2wd        rhd  gasoline  \n",
       "4   2wd        rhd  gasoline  "
      ]
     },
     "execution_count": 22,
     "metadata": {},
     "output_type": "execute_result"
    }
   ],
   "source": [
    "car_df.head()"
   ]
  },
  {
   "cell_type": "code",
   "execution_count": 23,
   "id": "05e3fd8c",
   "metadata": {},
   "outputs": [],
   "source": [
    "# dropping id, mark and model columns\n",
    "\n",
    "car_df.drop(['id', 'mark','model'], axis=1,inplace=True)"
   ]
  },
  {
   "cell_type": "code",
   "execution_count": 24,
   "id": "8c47d2f5",
   "metadata": {},
   "outputs": [
    {
     "data": {
      "text/plain": [
       "price               int64\n",
       "year                int64\n",
       "mileage             int64\n",
       "engine_capacity     int64\n",
       "transmission       object\n",
       "drive              object\n",
       "hand_drive         object\n",
       "fuel               object\n",
       "dtype: object"
      ]
     },
     "execution_count": 24,
     "metadata": {},
     "output_type": "execute_result"
    }
   ],
   "source": [
    "car_df.dtypes"
   ]
  },
  {
   "cell_type": "code",
   "execution_count": 25,
   "id": "caf0ce02",
   "metadata": {},
   "outputs": [
    {
     "data": {
      "text/plain": [
       "<AxesSubplot:xlabel='transmission', ylabel='price'>"
      ]
     },
     "execution_count": 25,
     "metadata": {},
     "output_type": "execute_result"
    },
    {
     "data": {
      "image/png": "[encoded data removed]",
      "text/plain": [
       "<Figure size 1080x360 with 2 Axes>"
      ]
     },
     "metadata": {
      "needs_background": "light"
     },
     "output_type": "display_data"
    }
   ],
   "source": [
    "fuel_type = car_df['fuel']\n",
    "trans = car_df['transmission']\n",
    "price = car_df['price']\n",
    "\n",
    "\n",
    "fig,axes = plt.subplots(1,2,figsize=(15,5),sharey=True)\n",
    "fig.suptitle('Visualizing categorical data column')\n",
    "sns.barplot(x=fuel_type,y=price,ax=axes[0])\n",
    "sns.barplot(x=trans,y=price,ax=axes[1])\n",
    "\n"
   ]
  },
  {
   "cell_type": "code",
   "execution_count": 26,
   "id": "857209a2",
   "metadata": {},
   "outputs": [
    {
     "data": {
      "text/plain": [
       "<AxesSubplot:xlabel='hand_drive', ylabel='price'>"
      ]
     },
     "execution_count": 26,
     "metadata": {},
     "output_type": "execute_result"
    },
    {
     "data": {
      "image/png": "[encoded data removed]",
      "text/plain": [
       "<Figure size 1080x360 with 2 Axes>"
      ]
     },
     "metadata": {
      "needs_background": "light"
     },
     "output_type": "display_data"
    }
   ],
   "source": [
    "dr = car_df['drive']\n",
    "hd = car_df['hand_drive']\n",
    "\n",
    "fig,axes = plt.subplots(1,2,figsize=(15,5),sharey=True)\n",
    "fig.suptitle('Visualizing categorical data column')\n",
    "sns.barplot(x=dr,y=price,ax=axes[0])\n",
    "sns.barplot(x=hd,y=price,ax=axes[1])"
   ]
  },
  {
   "cell_type": "code",
   "execution_count": 27,
   "id": "872a1565",
   "metadata": {},
   "outputs": [
    {
     "data": {
      "text/plain": [
       "Index(['price', 'year', 'mileage', 'engine_capacity'], dtype='object')"
      ]
     },
     "execution_count": 27,
     "metadata": {},
     "output_type": "execute_result"
    }
   ],
   "source": [
    "num_features = car_df.dtypes[car_df.dtypes != 'object'].index\n",
    "num_features"
   ]
  },
  {
   "cell_type": "code",
   "execution_count": 28,
   "id": "db9875de",
   "metadata": {},
   "outputs": [
    {
     "data": {
      "text/html": [
       "<div>\n",
       "<style scoped>\n",
       "    .dataframe tbody tr th:only-of-type {\n",
       "        vertical-align: middle;\n",
       "    }\n",
       "\n",
       "    .dataframe tbody tr th {\n",
       "        vertical-align: top;\n",
       "    }\n",
       "\n",
       "    .dataframe thead th {\n",
       "        text-align: right;\n",
       "    }\n",
       "</style>\n",
       "<table border=\"1\" class=\"dataframe\">\n",
       "  <thead>\n",
       "    <tr style=\"text-align: right;\">\n",
       "      <th></th>\n",
       "      <th>price</th>\n",
       "      <th>year</th>\n",
       "      <th>mileage</th>\n",
       "      <th>engine_capacity</th>\n",
       "    </tr>\n",
       "  </thead>\n",
       "  <tbody>\n",
       "    <tr>\n",
       "      <th>0</th>\n",
       "      <td>80</td>\n",
       "      <td>2003</td>\n",
       "      <td>80000</td>\n",
       "      <td>1240</td>\n",
       "    </tr>\n",
       "    <tr>\n",
       "      <th>1</th>\n",
       "      <td>110</td>\n",
       "      <td>2010</td>\n",
       "      <td>53000</td>\n",
       "      <td>1200</td>\n",
       "    </tr>\n",
       "    <tr>\n",
       "      <th>2</th>\n",
       "      <td>165</td>\n",
       "      <td>2005</td>\n",
       "      <td>47690</td>\n",
       "      <td>2000</td>\n",
       "    </tr>\n",
       "    <tr>\n",
       "      <th>3</th>\n",
       "      <td>190</td>\n",
       "      <td>2008</td>\n",
       "      <td>130661</td>\n",
       "      <td>1990</td>\n",
       "    </tr>\n",
       "    <tr>\n",
       "      <th>4</th>\n",
       "      <td>190</td>\n",
       "      <td>2006</td>\n",
       "      <td>66300</td>\n",
       "      <td>660</td>\n",
       "    </tr>\n",
       "    <tr>\n",
       "      <th>...</th>\n",
       "      <td>...</td>\n",
       "      <td>...</td>\n",
       "      <td>...</td>\n",
       "      <td>...</td>\n",
       "    </tr>\n",
       "    <tr>\n",
       "      <th>2313</th>\n",
       "      <td>1400</td>\n",
       "      <td>2009</td>\n",
       "      <td>121000</td>\n",
       "      <td>996</td>\n",
       "    </tr>\n",
       "    <tr>\n",
       "      <th>2314</th>\n",
       "      <td>1400</td>\n",
       "      <td>2003</td>\n",
       "      <td>101000</td>\n",
       "      <td>3000</td>\n",
       "    </tr>\n",
       "    <tr>\n",
       "      <th>2315</th>\n",
       "      <td>1400</td>\n",
       "      <td>2005</td>\n",
       "      <td>101000</td>\n",
       "      <td>660</td>\n",
       "    </tr>\n",
       "    <tr>\n",
       "      <th>2316</th>\n",
       "      <td>1400</td>\n",
       "      <td>2000</td>\n",
       "      <td>170000</td>\n",
       "      <td>660</td>\n",
       "    </tr>\n",
       "    <tr>\n",
       "      <th>2317</th>\n",
       "      <td>1400</td>\n",
       "      <td>2005</td>\n",
       "      <td>72320</td>\n",
       "      <td>3000</td>\n",
       "    </tr>\n",
       "  </tbody>\n",
       "</table>\n",
       "<p>2318 rows × 4 columns</p>\n",
       "</div>"
      ],
      "text/plain": [
       "      price  year  mileage  engine_capacity\n",
       "0        80  2003    80000             1240\n",
       "1       110  2010    53000             1200\n",
       "2       165  2005    47690             2000\n",
       "3       190  2008   130661             1990\n",
       "4       190  2006    66300              660\n",
       "...     ...   ...      ...              ...\n",
       "2313   1400  2009   121000              996\n",
       "2314   1400  2003   101000             3000\n",
       "2315   1400  2005   101000              660\n",
       "2316   1400  2000   170000              660\n",
       "2317   1400  2005    72320             3000\n",
       "\n",
       "[2318 rows x 4 columns]"
      ]
     },
     "execution_count": 28,
     "metadata": {},
     "output_type": "execute_result"
    }
   ],
   "source": [
    "car_df[num_features]"
   ]
  },
  {
   "cell_type": "code",
   "execution_count": 29,
   "id": "afad2393",
   "metadata": {},
   "outputs": [
    {
     "data": {
      "image/png": "[encoded data removed]",
      "text/plain": [
       "<Figure size 1080x360 with 4 Axes>"
      ]
     },
     "metadata": {},
     "output_type": "display_data"
    }
   ],
   "source": [
    "# Visualizing relationship\n",
    "\n",
    "plt.figure(figsize=(15,5), facecolor='yellow')\n",
    "plotnumber = 1\n",
    "\n",
    "for column in car_df[num_features]:\n",
    "    if plotnumber <=4:\n",
    "        ax = plt.subplot(1,4,plotnumber)\n",
    "        #sns.distplot(data[column])\n",
    "        plt.scatter(car_df[column],price)\n",
    "        plt.xlabel(column,fontsize=20)\n",
    "        plt.ylabel('Price', fontsize=20)\n",
    "    plotnumber += 1\n",
    "plt.show()"
   ]
  },
  {
   "cell_type": "code",
   "execution_count": 30,
   "id": "8c074e1d",
   "metadata": {},
   "outputs": [
    {
     "data": {
      "text/plain": [
       "Index(['transmission', 'drive', 'hand_drive', 'fuel'], dtype='object')"
      ]
     },
     "execution_count": 30,
     "metadata": {},
     "output_type": "execute_result"
    }
   ],
   "source": [
    "cat_features = car_df.dtypes[car_df.dtypes == 'object'].index\n",
    "cat_features"
   ]
  },
  {
   "cell_type": "code",
   "execution_count": 31,
   "id": "4262bc18",
   "metadata": {},
   "outputs": [
    {
     "data": {
      "text/plain": [
       "price               int64\n",
       "year                int64\n",
       "mileage             int64\n",
       "engine_capacity     int64\n",
       "transmission       object\n",
       "drive              object\n",
       "hand_drive         object\n",
       "fuel               object\n",
       "dtype: object"
      ]
     },
     "execution_count": 31,
     "metadata": {},
     "output_type": "execute_result"
    }
   ],
   "source": [
    "car_df.dtypes"
   ]
  },
  {
   "cell_type": "code",
   "execution_count": 32,
   "id": "d78f7f2a",
   "metadata": {},
   "outputs": [
    {
     "data": {
      "text/plain": [
       "(2318, 8)"
      ]
     },
     "execution_count": 32,
     "metadata": {},
     "output_type": "execute_result"
    }
   ],
   "source": [
    "car_df.shape"
   ]
  },
  {
   "cell_type": "code",
   "execution_count": 33,
   "id": "5a357386",
   "metadata": {},
   "outputs": [],
   "source": [
    "car_df.drop_duplicates(inplace=True)"
   ]
  },
  {
   "cell_type": "code",
   "execution_count": 34,
   "id": "ea6d2fc2",
   "metadata": {},
   "outputs": [
    {
     "data": {
      "text/plain": [
       "(2299, 8)"
      ]
     },
     "execution_count": 34,
     "metadata": {},
     "output_type": "execute_result"
    }
   ],
   "source": [
    "car_df.shape"
   ]
  },
  {
   "cell_type": "markdown",
   "id": "5bd145a3",
   "metadata": {},
   "source": [
    "There were some dupliactes which are deleted, as the shape or number of rows before dropping duplicates were 2318 and after dropping duplicaetes the number of rows are 2299."
   ]
  },
  {
   "cell_type": "code",
   "execution_count": 35,
   "id": "1cf4f410",
   "metadata": {},
   "outputs": [
    {
     "data": {
      "image/png": "[encoded data removed]",
      "text/plain": [
       "<Figure size 432x288 with 1 Axes>"
      ]
     },
     "metadata": {
      "needs_background": "light"
     },
     "output_type": "display_data"
    }
   ],
   "source": [
    "sns.distplot(car_df.price)\n",
    "plt.show()"
   ]
  },
  {
   "cell_type": "markdown",
   "id": "95ac7021",
   "metadata": {},
   "source": [
    "# Fixing categorical features"
   ]
  },
  {
   "cell_type": "code",
   "execution_count": 36,
   "id": "2cabee18",
   "metadata": {},
   "outputs": [
    {
     "data": {
      "text/html": [
       "<div>\n",
       "<style scoped>\n",
       "    .dataframe tbody tr th:only-of-type {\n",
       "        vertical-align: middle;\n",
       "    }\n",
       "\n",
       "    .dataframe tbody tr th {\n",
       "        vertical-align: top;\n",
       "    }\n",
       "\n",
       "    .dataframe thead th {\n",
       "        text-align: right;\n",
       "    }\n",
       "</style>\n",
       "<table border=\"1\" class=\"dataframe\">\n",
       "  <thead>\n",
       "    <tr style=\"text-align: right;\">\n",
       "      <th></th>\n",
       "      <th>price</th>\n",
       "      <th>year</th>\n",
       "      <th>mileage</th>\n",
       "      <th>engine_capacity</th>\n",
       "      <th>transmission</th>\n",
       "      <th>drive</th>\n",
       "      <th>hand_drive</th>\n",
       "      <th>fuel</th>\n",
       "    </tr>\n",
       "  </thead>\n",
       "  <tbody>\n",
       "    <tr>\n",
       "      <th>0</th>\n",
       "      <td>80</td>\n",
       "      <td>2003</td>\n",
       "      <td>80000</td>\n",
       "      <td>1240</td>\n",
       "      <td>at</td>\n",
       "      <td>2wd</td>\n",
       "      <td>rhd</td>\n",
       "      <td>gasoline</td>\n",
       "    </tr>\n",
       "    <tr>\n",
       "      <th>1</th>\n",
       "      <td>110</td>\n",
       "      <td>2010</td>\n",
       "      <td>53000</td>\n",
       "      <td>1200</td>\n",
       "      <td>at</td>\n",
       "      <td>2wd</td>\n",
       "      <td>rhd</td>\n",
       "      <td>gasoline</td>\n",
       "    </tr>\n",
       "    <tr>\n",
       "      <th>2</th>\n",
       "      <td>165</td>\n",
       "      <td>2005</td>\n",
       "      <td>47690</td>\n",
       "      <td>2000</td>\n",
       "      <td>at</td>\n",
       "      <td>2wd</td>\n",
       "      <td>rhd</td>\n",
       "      <td>gasoline</td>\n",
       "    </tr>\n",
       "    <tr>\n",
       "      <th>3</th>\n",
       "      <td>190</td>\n",
       "      <td>2008</td>\n",
       "      <td>130661</td>\n",
       "      <td>1990</td>\n",
       "      <td>at</td>\n",
       "      <td>2wd</td>\n",
       "      <td>rhd</td>\n",
       "      <td>gasoline</td>\n",
       "    </tr>\n",
       "    <tr>\n",
       "      <th>4</th>\n",
       "      <td>190</td>\n",
       "      <td>2006</td>\n",
       "      <td>66300</td>\n",
       "      <td>660</td>\n",
       "      <td>at</td>\n",
       "      <td>2wd</td>\n",
       "      <td>rhd</td>\n",
       "      <td>gasoline</td>\n",
       "    </tr>\n",
       "  </tbody>\n",
       "</table>\n",
       "</div>"
      ],
      "text/plain": [
       "   price  year  mileage  engine_capacity transmission drive hand_drive  \\\n",
       "0     80  2003    80000             1240           at   2wd        rhd   \n",
       "1    110  2010    53000             1200           at   2wd        rhd   \n",
       "2    165  2005    47690             2000           at   2wd        rhd   \n",
       "3    190  2008   130661             1990           at   2wd        rhd   \n",
       "4    190  2006    66300              660           at   2wd        rhd   \n",
       "\n",
       "       fuel  \n",
       "0  gasoline  \n",
       "1  gasoline  \n",
       "2  gasoline  \n",
       "3  gasoline  \n",
       "4  gasoline  "
      ]
     },
     "execution_count": 36,
     "metadata": {},
     "output_type": "execute_result"
    }
   ],
   "source": [
    "car_df.head()"
   ]
  },
  {
   "cell_type": "code",
   "execution_count": 37,
   "id": "e1837948",
   "metadata": {},
   "outputs": [],
   "source": [
    "from sklearn.preprocessing import OrdinalEncoder\n",
    "\n",
    "enc = OrdinalEncoder()"
   ]
  },
  {
   "cell_type": "code",
   "execution_count": 38,
   "id": "2c130b70",
   "metadata": {},
   "outputs": [],
   "source": [
    "for i in car_df.columns:\n",
    "    if car_df[i].dtypes == \"object\":\n",
    "        car_df[i] = enc.fit_transform(car_df[i].values.reshape(-1,1))"
   ]
  },
  {
   "cell_type": "code",
   "execution_count": 39,
   "id": "6b642b0a",
   "metadata": {},
   "outputs": [
    {
     "data": {
      "text/html": [
       "<div>\n",
       "<style scoped>\n",
       "    .dataframe tbody tr th:only-of-type {\n",
       "        vertical-align: middle;\n",
       "    }\n",
       "\n",
       "    .dataframe tbody tr th {\n",
       "        vertical-align: top;\n",
       "    }\n",
       "\n",
       "    .dataframe thead th {\n",
       "        text-align: right;\n",
       "    }\n",
       "</style>\n",
       "<table border=\"1\" class=\"dataframe\">\n",
       "  <thead>\n",
       "    <tr style=\"text-align: right;\">\n",
       "      <th></th>\n",
       "      <th>price</th>\n",
       "      <th>year</th>\n",
       "      <th>mileage</th>\n",
       "      <th>engine_capacity</th>\n",
       "      <th>transmission</th>\n",
       "      <th>drive</th>\n",
       "      <th>hand_drive</th>\n",
       "      <th>fuel</th>\n",
       "    </tr>\n",
       "  </thead>\n",
       "  <tbody>\n",
       "    <tr>\n",
       "      <th>1597</th>\n",
       "      <td>1166</td>\n",
       "      <td>2005</td>\n",
       "      <td>65421</td>\n",
       "      <td>2500</td>\n",
       "      <td>0.0</td>\n",
       "      <td>0.0</td>\n",
       "      <td>2.0</td>\n",
       "      <td>2.0</td>\n",
       "    </tr>\n",
       "    <tr>\n",
       "      <th>1475</th>\n",
       "      <td>1120</td>\n",
       "      <td>2006</td>\n",
       "      <td>105000</td>\n",
       "      <td>1000</td>\n",
       "      <td>0.0</td>\n",
       "      <td>0.0</td>\n",
       "      <td>2.0</td>\n",
       "      <td>2.0</td>\n",
       "    </tr>\n",
       "    <tr>\n",
       "      <th>370</th>\n",
       "      <td>650</td>\n",
       "      <td>2009</td>\n",
       "      <td>184100</td>\n",
       "      <td>1500</td>\n",
       "      <td>0.0</td>\n",
       "      <td>0.0</td>\n",
       "      <td>2.0</td>\n",
       "      <td>2.0</td>\n",
       "    </tr>\n",
       "    <tr>\n",
       "      <th>1609</th>\n",
       "      <td>1175</td>\n",
       "      <td>2007</td>\n",
       "      <td>332926</td>\n",
       "      <td>1997</td>\n",
       "      <td>0.0</td>\n",
       "      <td>0.0</td>\n",
       "      <td>1.0</td>\n",
       "      <td>1.0</td>\n",
       "    </tr>\n",
       "    <tr>\n",
       "      <th>409</th>\n",
       "      <td>670</td>\n",
       "      <td>2001</td>\n",
       "      <td>163691</td>\n",
       "      <td>1990</td>\n",
       "      <td>0.0</td>\n",
       "      <td>1.0</td>\n",
       "      <td>2.0</td>\n",
       "      <td>2.0</td>\n",
       "    </tr>\n",
       "  </tbody>\n",
       "</table>\n",
       "</div>"
      ],
      "text/plain": [
       "      price  year  mileage  engine_capacity  transmission  drive  hand_drive  \\\n",
       "1597   1166  2005    65421             2500           0.0    0.0         2.0   \n",
       "1475   1120  2006   105000             1000           0.0    0.0         2.0   \n",
       "370     650  2009   184100             1500           0.0    0.0         2.0   \n",
       "1609   1175  2007   332926             1997           0.0    0.0         1.0   \n",
       "409     670  2001   163691             1990           0.0    1.0         2.0   \n",
       "\n",
       "      fuel  \n",
       "1597   2.0  \n",
       "1475   2.0  \n",
       "370    2.0  \n",
       "1609   1.0  \n",
       "409    2.0  "
      ]
     },
     "execution_count": 39,
     "metadata": {},
     "output_type": "execute_result"
    }
   ],
   "source": [
    "car_df.sample(5)"
   ]
  },
  {
   "cell_type": "code",
   "execution_count": 40,
   "id": "bc4f6607",
   "metadata": {},
   "outputs": [
    {
     "data": {
      "text/html": [
       "<div>\n",
       "<style scoped>\n",
       "    .dataframe tbody tr th:only-of-type {\n",
       "        vertical-align: middle;\n",
       "    }\n",
       "\n",
       "    .dataframe tbody tr th {\n",
       "        vertical-align: top;\n",
       "    }\n",
       "\n",
       "    .dataframe thead th {\n",
       "        text-align: right;\n",
       "    }\n",
       "</style>\n",
       "<table border=\"1\" class=\"dataframe\">\n",
       "  <thead>\n",
       "    <tr style=\"text-align: right;\">\n",
       "      <th></th>\n",
       "      <th>price</th>\n",
       "      <th>year</th>\n",
       "      <th>mileage</th>\n",
       "      <th>engine_capacity</th>\n",
       "      <th>transmission</th>\n",
       "      <th>drive</th>\n",
       "      <th>hand_drive</th>\n",
       "      <th>fuel</th>\n",
       "    </tr>\n",
       "  </thead>\n",
       "  <tbody>\n",
       "    <tr>\n",
       "      <th>count</th>\n",
       "      <td>2299.000000</td>\n",
       "      <td>2299.000000</td>\n",
       "      <td>2299.000000</td>\n",
       "      <td>2299.000000</td>\n",
       "      <td>2299.000000</td>\n",
       "      <td>2299.000000</td>\n",
       "      <td>2299.000000</td>\n",
       "      <td>2299.000000</td>\n",
       "    </tr>\n",
       "    <tr>\n",
       "      <th>mean</th>\n",
       "      <td>970.982601</td>\n",
       "      <td>2005.983036</td>\n",
       "      <td>99947.404524</td>\n",
       "      <td>1503.045237</td>\n",
       "      <td>0.113093</td>\n",
       "      <td>0.084385</td>\n",
       "      <td>1.992171</td>\n",
       "      <td>1.998260</td>\n",
       "    </tr>\n",
       "    <tr>\n",
       "      <th>std</th>\n",
       "      <td>289.162960</td>\n",
       "      <td>3.698984</td>\n",
       "      <td>52646.563452</td>\n",
       "      <td>546.525992</td>\n",
       "      <td>0.447698</td>\n",
       "      <td>0.282681</td>\n",
       "      <td>0.092962</td>\n",
       "      <td>0.150417</td>\n",
       "    </tr>\n",
       "    <tr>\n",
       "      <th>min</th>\n",
       "      <td>80.000000</td>\n",
       "      <td>1979.000000</td>\n",
       "      <td>2000.000000</td>\n",
       "      <td>9.000000</td>\n",
       "      <td>0.000000</td>\n",
       "      <td>0.000000</td>\n",
       "      <td>0.000000</td>\n",
       "      <td>0.000000</td>\n",
       "    </tr>\n",
       "    <tr>\n",
       "      <th>25%</th>\n",
       "      <td>775.000000</td>\n",
       "      <td>2004.000000</td>\n",
       "      <td>67000.000000</td>\n",
       "      <td>1300.000000</td>\n",
       "      <td>0.000000</td>\n",
       "      <td>0.000000</td>\n",
       "      <td>2.000000</td>\n",
       "      <td>2.000000</td>\n",
       "    </tr>\n",
       "    <tr>\n",
       "      <th>50%</th>\n",
       "      <td>1000.000000</td>\n",
       "      <td>2006.000000</td>\n",
       "      <td>94000.000000</td>\n",
       "      <td>1490.000000</td>\n",
       "      <td>0.000000</td>\n",
       "      <td>0.000000</td>\n",
       "      <td>2.000000</td>\n",
       "      <td>2.000000</td>\n",
       "    </tr>\n",
       "    <tr>\n",
       "      <th>75%</th>\n",
       "      <td>1213.000000</td>\n",
       "      <td>2009.000000</td>\n",
       "      <td>124000.000000</td>\n",
       "      <td>1800.000000</td>\n",
       "      <td>0.000000</td>\n",
       "      <td>0.000000</td>\n",
       "      <td>2.000000</td>\n",
       "      <td>2.000000</td>\n",
       "    </tr>\n",
       "    <tr>\n",
       "      <th>max</th>\n",
       "      <td>1400.000000</td>\n",
       "      <td>2015.000000</td>\n",
       "      <td>790000.000000</td>\n",
       "      <td>12340.000000</td>\n",
       "      <td>2.000000</td>\n",
       "      <td>2.000000</td>\n",
       "      <td>2.000000</td>\n",
       "      <td>4.000000</td>\n",
       "    </tr>\n",
       "  </tbody>\n",
       "</table>\n",
       "</div>"
      ],
      "text/plain": [
       "             price         year        mileage  engine_capacity  transmission  \\\n",
       "count  2299.000000  2299.000000    2299.000000      2299.000000   2299.000000   \n",
       "mean    970.982601  2005.983036   99947.404524      1503.045237      0.113093   \n",
       "std     289.162960     3.698984   52646.563452       546.525992      0.447698   \n",
       "min      80.000000  1979.000000    2000.000000         9.000000      0.000000   \n",
       "25%     775.000000  2004.000000   67000.000000      1300.000000      0.000000   \n",
       "50%    1000.000000  2006.000000   94000.000000      1490.000000      0.000000   \n",
       "75%    1213.000000  2009.000000  124000.000000      1800.000000      0.000000   \n",
       "max    1400.000000  2015.000000  790000.000000     12340.000000      2.000000   \n",
       "\n",
       "             drive   hand_drive         fuel  \n",
       "count  2299.000000  2299.000000  2299.000000  \n",
       "mean      0.084385     1.992171     1.998260  \n",
       "std       0.282681     0.092962     0.150417  \n",
       "min       0.000000     0.000000     0.000000  \n",
       "25%       0.000000     2.000000     2.000000  \n",
       "50%       0.000000     2.000000     2.000000  \n",
       "75%       0.000000     2.000000     2.000000  \n",
       "max       2.000000     2.000000     4.000000  "
      ]
     },
     "execution_count": 40,
     "metadata": {},
     "output_type": "execute_result"
    }
   ],
   "source": [
    "# only continous variable\n",
    "\n",
    "car_df.describe()"
   ]
  },
  {
   "cell_type": "markdown",
   "id": "15d40c9c",
   "metadata": {},
   "source": [
    "# Correlation with target columns"
   ]
  },
  {
   "cell_type": "code",
   "execution_count": 41,
   "id": "8c9dd775",
   "metadata": {},
   "outputs": [
    {
     "data": {
      "text/plain": [
       "year              -0.210402\n",
       "hand_drive        -0.036720\n",
       "fuel              -0.016399\n",
       "mileage            0.021808\n",
       "transmission       0.040100\n",
       "drive              0.042634\n",
       "engine_capacity    0.175127\n",
       "price              1.000000\n",
       "Name: price, dtype: float64"
      ]
     },
     "execution_count": 41,
     "metadata": {},
     "output_type": "execute_result"
    }
   ],
   "source": [
    "car_df.corr()['price'].sort_values()"
   ]
  },
  {
   "cell_type": "code",
   "execution_count": 42,
   "id": "4c07e0b0",
   "metadata": {},
   "outputs": [
    {
     "data": {
      "image/png": "[encoded data removed]",
      "text/plain": [
       "<Figure size 1584x1008 with 2 Axes>"
      ]
     },
     "metadata": {
      "needs_background": "light"
     },
     "output_type": "display_data"
    }
   ],
   "source": [
    "# heatmap\n",
    "\n",
    "plt.figure(figsize=(22,14))\n",
    "sns.heatmap(car_df.corr(),annot=True,fmt=\"0.2f\")\n",
    "plt.show()      "
   ]
  },
  {
   "cell_type": "markdown",
   "id": "2490849c",
   "metadata": {},
   "source": [
    "# Checking the columns which are positively and negative correltaed with the target columns"
   ]
  },
  {
   "cell_type": "code",
   "execution_count": 43,
   "id": "0d7ced88",
   "metadata": {},
   "outputs": [
    {
     "data": {
      "image/png": "[encoded data removed]",
      "text/plain": [
       "<Figure size 1584x504 with 1 Axes>"
      ]
     },
     "metadata": {
      "needs_background": "light"
     },
     "output_type": "display_data"
    }
   ],
   "source": [
    "plt.figure(figsize=(22,7))\n",
    "car_df.corr()['price'].sort_values(ascending=False).drop(['price']).plot(kind='bar',color='c')\n",
    "plt.xlabel('Feature', fontsize=14)\n",
    "plt.ylabel('column with target names', fontsize=14)\n",
    "plt.title('Correlation',fontsize=18)\n",
    "plt.show()"
   ]
  },
  {
   "cell_type": "markdown",
   "id": "93cc3775",
   "metadata": {},
   "source": [
    "Very less correlation between target variable and features. So, no multi-collinearity problem"
   ]
  },
  {
   "cell_type": "code",
   "execution_count": 44,
   "id": "404a5497",
   "metadata": {},
   "outputs": [
    {
     "data": {
      "text/html": [
       "<div>\n",
       "<style scoped>\n",
       "    .dataframe tbody tr th:only-of-type {\n",
       "        vertical-align: middle;\n",
       "    }\n",
       "\n",
       "    .dataframe tbody tr th {\n",
       "        vertical-align: top;\n",
       "    }\n",
       "\n",
       "    .dataframe thead th {\n",
       "        text-align: right;\n",
       "    }\n",
       "</style>\n",
       "<table border=\"1\" class=\"dataframe\">\n",
       "  <thead>\n",
       "    <tr style=\"text-align: right;\">\n",
       "      <th></th>\n",
       "      <th>price</th>\n",
       "      <th>year</th>\n",
       "      <th>mileage</th>\n",
       "      <th>engine_capacity</th>\n",
       "      <th>transmission</th>\n",
       "      <th>drive</th>\n",
       "      <th>hand_drive</th>\n",
       "      <th>fuel</th>\n",
       "    </tr>\n",
       "  </thead>\n",
       "  <tbody>\n",
       "    <tr>\n",
       "      <th>0</th>\n",
       "      <td>80</td>\n",
       "      <td>2003</td>\n",
       "      <td>80000</td>\n",
       "      <td>1240</td>\n",
       "      <td>0.0</td>\n",
       "      <td>0.0</td>\n",
       "      <td>2.0</td>\n",
       "      <td>2.0</td>\n",
       "    </tr>\n",
       "    <tr>\n",
       "      <th>1</th>\n",
       "      <td>110</td>\n",
       "      <td>2010</td>\n",
       "      <td>53000</td>\n",
       "      <td>1200</td>\n",
       "      <td>0.0</td>\n",
       "      <td>0.0</td>\n",
       "      <td>2.0</td>\n",
       "      <td>2.0</td>\n",
       "    </tr>\n",
       "    <tr>\n",
       "      <th>2</th>\n",
       "      <td>165</td>\n",
       "      <td>2005</td>\n",
       "      <td>47690</td>\n",
       "      <td>2000</td>\n",
       "      <td>0.0</td>\n",
       "      <td>0.0</td>\n",
       "      <td>2.0</td>\n",
       "      <td>2.0</td>\n",
       "    </tr>\n",
       "    <tr>\n",
       "      <th>3</th>\n",
       "      <td>190</td>\n",
       "      <td>2008</td>\n",
       "      <td>130661</td>\n",
       "      <td>1990</td>\n",
       "      <td>0.0</td>\n",
       "      <td>0.0</td>\n",
       "      <td>2.0</td>\n",
       "      <td>2.0</td>\n",
       "    </tr>\n",
       "    <tr>\n",
       "      <th>4</th>\n",
       "      <td>190</td>\n",
       "      <td>2006</td>\n",
       "      <td>66300</td>\n",
       "      <td>660</td>\n",
       "      <td>0.0</td>\n",
       "      <td>0.0</td>\n",
       "      <td>2.0</td>\n",
       "      <td>2.0</td>\n",
       "    </tr>\n",
       "  </tbody>\n",
       "</table>\n",
       "</div>"
      ],
      "text/plain": [
       "   price  year  mileage  engine_capacity  transmission  drive  hand_drive  \\\n",
       "0     80  2003    80000             1240           0.0    0.0         2.0   \n",
       "1    110  2010    53000             1200           0.0    0.0         2.0   \n",
       "2    165  2005    47690             2000           0.0    0.0         2.0   \n",
       "3    190  2008   130661             1990           0.0    0.0         2.0   \n",
       "4    190  2006    66300              660           0.0    0.0         2.0   \n",
       "\n",
       "   fuel  \n",
       "0   2.0  \n",
       "1   2.0  \n",
       "2   2.0  \n",
       "3   2.0  \n",
       "4   2.0  "
      ]
     },
     "execution_count": 44,
     "metadata": {},
     "output_type": "execute_result"
    }
   ],
   "source": [
    "car_df.head()"
   ]
  },
  {
   "cell_type": "code",
   "execution_count": 45,
   "id": "e4e2e155",
   "metadata": {},
   "outputs": [
    {
     "data": {
      "image/png": "[encoded data removed]",
      "text/plain": [
       "<Figure size 1440x1080 with 8 Axes>"
      ]
     },
     "metadata": {},
     "output_type": "display_data"
    }
   ],
   "source": [
    "# Let's see how data is distributed for every column\n",
    "\n",
    "plt.figure(figsize=(20,15), facecolor='pink')\n",
    "plotnumber = 1\n",
    "\n",
    "for column in car_df:\n",
    "    if plotnumber <=8:\n",
    "        ax = plt.subplot(2,4,plotnumber)\n",
    "        sns.distplot(car_df[column])\n",
    "        plt.xlabel(column,fontsize=20)\n",
    "    plotnumber += 1\n",
    "plt.show()"
   ]
  },
  {
   "cell_type": "markdown",
   "id": "9d567da6",
   "metadata": {},
   "source": [
    "Considering skewness in continuous numerical values, features such as year, mileage,engine_capacity has skewness whicah has to be considered. The other features being categorical data, its skewness is not considered"
   ]
  },
  {
   "cell_type": "code",
   "execution_count": 46,
   "id": "1d9ebeee",
   "metadata": {},
   "outputs": [],
   "source": [
    "df = car_df.copy()"
   ]
  },
  {
   "cell_type": "code",
   "execution_count": 47,
   "id": "53288121",
   "metadata": {},
   "outputs": [
    {
     "data": {
      "text/html": [
       "<div>\n",
       "<style scoped>\n",
       "    .dataframe tbody tr th:only-of-type {\n",
       "        vertical-align: middle;\n",
       "    }\n",
       "\n",
       "    .dataframe tbody tr th {\n",
       "        vertical-align: top;\n",
       "    }\n",
       "\n",
       "    .dataframe thead th {\n",
       "        text-align: right;\n",
       "    }\n",
       "</style>\n",
       "<table border=\"1\" class=\"dataframe\">\n",
       "  <thead>\n",
       "    <tr style=\"text-align: right;\">\n",
       "      <th></th>\n",
       "      <th>price</th>\n",
       "      <th>year</th>\n",
       "      <th>mileage</th>\n",
       "      <th>engine_capacity</th>\n",
       "      <th>transmission</th>\n",
       "      <th>drive</th>\n",
       "      <th>hand_drive</th>\n",
       "      <th>fuel</th>\n",
       "    </tr>\n",
       "  </thead>\n",
       "  <tbody>\n",
       "    <tr>\n",
       "      <th>0</th>\n",
       "      <td>80</td>\n",
       "      <td>2003</td>\n",
       "      <td>80000</td>\n",
       "      <td>1240</td>\n",
       "      <td>0.0</td>\n",
       "      <td>0.0</td>\n",
       "      <td>2.0</td>\n",
       "      <td>2.0</td>\n",
       "    </tr>\n",
       "    <tr>\n",
       "      <th>1</th>\n",
       "      <td>110</td>\n",
       "      <td>2010</td>\n",
       "      <td>53000</td>\n",
       "      <td>1200</td>\n",
       "      <td>0.0</td>\n",
       "      <td>0.0</td>\n",
       "      <td>2.0</td>\n",
       "      <td>2.0</td>\n",
       "    </tr>\n",
       "    <tr>\n",
       "      <th>2</th>\n",
       "      <td>165</td>\n",
       "      <td>2005</td>\n",
       "      <td>47690</td>\n",
       "      <td>2000</td>\n",
       "      <td>0.0</td>\n",
       "      <td>0.0</td>\n",
       "      <td>2.0</td>\n",
       "      <td>2.0</td>\n",
       "    </tr>\n",
       "    <tr>\n",
       "      <th>3</th>\n",
       "      <td>190</td>\n",
       "      <td>2008</td>\n",
       "      <td>130661</td>\n",
       "      <td>1990</td>\n",
       "      <td>0.0</td>\n",
       "      <td>0.0</td>\n",
       "      <td>2.0</td>\n",
       "      <td>2.0</td>\n",
       "    </tr>\n",
       "    <tr>\n",
       "      <th>4</th>\n",
       "      <td>190</td>\n",
       "      <td>2006</td>\n",
       "      <td>66300</td>\n",
       "      <td>660</td>\n",
       "      <td>0.0</td>\n",
       "      <td>0.0</td>\n",
       "      <td>2.0</td>\n",
       "      <td>2.0</td>\n",
       "    </tr>\n",
       "  </tbody>\n",
       "</table>\n",
       "</div>"
      ],
      "text/plain": [
       "   price  year  mileage  engine_capacity  transmission  drive  hand_drive  \\\n",
       "0     80  2003    80000             1240           0.0    0.0         2.0   \n",
       "1    110  2010    53000             1200           0.0    0.0         2.0   \n",
       "2    165  2005    47690             2000           0.0    0.0         2.0   \n",
       "3    190  2008   130661             1990           0.0    0.0         2.0   \n",
       "4    190  2006    66300              660           0.0    0.0         2.0   \n",
       "\n",
       "   fuel  \n",
       "0   2.0  \n",
       "1   2.0  \n",
       "2   2.0  \n",
       "3   2.0  \n",
       "4   2.0  "
      ]
     },
     "execution_count": 47,
     "metadata": {},
     "output_type": "execute_result"
    }
   ],
   "source": [
    "df.head()"
   ]
  },
  {
   "cell_type": "code",
   "execution_count": 49,
   "id": "267c812b",
   "metadata": {},
   "outputs": [
    {
     "data": {
      "text/plain": [
       "price              -0.465751\n",
       "year               -0.861857\n",
       "mileage             3.092640\n",
       "engine_capacity     4.135244\n",
       "transmission        3.836386\n",
       "drive               3.164705\n",
       "hand_drive        -12.757970\n",
       "fuel                4.130028\n",
       "dtype: float64"
      ]
     },
     "execution_count": 49,
     "metadata": {},
     "output_type": "execute_result"
    }
   ],
   "source": [
    "# checking the skewness\n",
    "\n",
    "car_df.skew()"
   ]
  },
  {
   "cell_type": "markdown",
   "id": "5c82d87d",
   "metadata": {},
   "source": [
    "As there is skewness, we will remove skewness for numerical values.\n",
    "Skewness being -0.5 to +0.5, all the columns have skewness. But we will consider skewness for only numerical values and try to remove."
   ]
  },
  {
   "cell_type": "code",
   "execution_count": null,
   "id": "3b42bfa7",
   "metadata": {},
   "outputs": [],
   "source": [
    "from sklearn.preprocessing import PowerTransformer\n",
    "\n",
    "pt = PowerTransformer()\n",
    "scaler = pt.fit_transform(x)\n",
    "\n"
   ]
  },
  {
   "cell_type": "code",
   "execution_count": null,
   "id": "aee8fb4f",
   "metadata": {},
   "outputs": [],
   "source": [
    "# checking skewness again after applying power transformer\n",
    "\n",
    "pd.DataFrame(scaler,columns=x.columns).skew()"
   ]
  },
  {
   "cell_type": "markdown",
   "id": "62eef3bb",
   "metadata": {},
   "source": [
    "Range of skewness is lowered for continous numerical values"
   ]
  },
  {
   "cell_type": "code",
   "execution_count": null,
   "id": "959ff578",
   "metadata": {},
   "outputs": [],
   "source": [
    "# converting numpy array into dataframe\n",
    "\n",
    "x = pd.DataFrame(scaler,columns=x.columns)"
   ]
  },
  {
   "cell_type": "code",
   "execution_count": null,
   "id": "26ab548d",
   "metadata": {},
   "outputs": [],
   "source": [
    "x.head()"
   ]
  },
  {
   "cell_type": "code",
   "execution_count": null,
   "id": "904dedff",
   "metadata": {},
   "outputs": [],
   "source": [
    "# Let's see how data is distributed for every column\n",
    "\n",
    "plt.figure(figsize=(20,15), facecolor='pink')\n",
    "plotnumber = 1\n",
    "\n",
    "for column in x:\n",
    "    if plotnumber <=8:\n",
    "        ax = plt.subplot(2,4,plotnumber)\n",
    "        sns.distplot(x[column])\n",
    "        plt.xlabel(column,fontsize=20)\n",
    "    plotnumber += 1\n",
    "plt.show()"
   ]
  },
  {
   "cell_type": "code",
   "execution_count": null,
   "id": "10869a52",
   "metadata": {},
   "outputs": [],
   "source": [
    "x.shape"
   ]
  },
  {
   "cell_type": "markdown",
   "id": "bdc561f3",
   "metadata": {},
   "source": [
    "#  checking outliers only on int dataype\n",
    "\n",
    "\n"
   ]
  },
  {
   "cell_type": "code",
   "execution_count": 50,
   "id": "e9506c08",
   "metadata": {},
   "outputs": [
    {
     "data": {
      "text/html": [
       "<div>\n",
       "<style scoped>\n",
       "    .dataframe tbody tr th:only-of-type {\n",
       "        vertical-align: middle;\n",
       "    }\n",
       "\n",
       "    .dataframe tbody tr th {\n",
       "        vertical-align: top;\n",
       "    }\n",
       "\n",
       "    .dataframe thead th {\n",
       "        text-align: right;\n",
       "    }\n",
       "</style>\n",
       "<table border=\"1\" class=\"dataframe\">\n",
       "  <thead>\n",
       "    <tr style=\"text-align: right;\">\n",
       "      <th></th>\n",
       "      <th>price</th>\n",
       "      <th>year</th>\n",
       "      <th>mileage</th>\n",
       "      <th>engine_capacity</th>\n",
       "      <th>transmission</th>\n",
       "      <th>drive</th>\n",
       "      <th>hand_drive</th>\n",
       "      <th>fuel</th>\n",
       "    </tr>\n",
       "  </thead>\n",
       "  <tbody>\n",
       "    <tr>\n",
       "      <th>0</th>\n",
       "      <td>80</td>\n",
       "      <td>2003</td>\n",
       "      <td>80000</td>\n",
       "      <td>1240</td>\n",
       "      <td>0.0</td>\n",
       "      <td>0.0</td>\n",
       "      <td>2.0</td>\n",
       "      <td>2.0</td>\n",
       "    </tr>\n",
       "    <tr>\n",
       "      <th>1</th>\n",
       "      <td>110</td>\n",
       "      <td>2010</td>\n",
       "      <td>53000</td>\n",
       "      <td>1200</td>\n",
       "      <td>0.0</td>\n",
       "      <td>0.0</td>\n",
       "      <td>2.0</td>\n",
       "      <td>2.0</td>\n",
       "    </tr>\n",
       "    <tr>\n",
       "      <th>2</th>\n",
       "      <td>165</td>\n",
       "      <td>2005</td>\n",
       "      <td>47690</td>\n",
       "      <td>2000</td>\n",
       "      <td>0.0</td>\n",
       "      <td>0.0</td>\n",
       "      <td>2.0</td>\n",
       "      <td>2.0</td>\n",
       "    </tr>\n",
       "    <tr>\n",
       "      <th>3</th>\n",
       "      <td>190</td>\n",
       "      <td>2008</td>\n",
       "      <td>130661</td>\n",
       "      <td>1990</td>\n",
       "      <td>0.0</td>\n",
       "      <td>0.0</td>\n",
       "      <td>2.0</td>\n",
       "      <td>2.0</td>\n",
       "    </tr>\n",
       "    <tr>\n",
       "      <th>4</th>\n",
       "      <td>190</td>\n",
       "      <td>2006</td>\n",
       "      <td>66300</td>\n",
       "      <td>660</td>\n",
       "      <td>0.0</td>\n",
       "      <td>0.0</td>\n",
       "      <td>2.0</td>\n",
       "      <td>2.0</td>\n",
       "    </tr>\n",
       "  </tbody>\n",
       "</table>\n",
       "</div>"
      ],
      "text/plain": [
       "   price  year  mileage  engine_capacity  transmission  drive  hand_drive  \\\n",
       "0     80  2003    80000             1240           0.0    0.0         2.0   \n",
       "1    110  2010    53000             1200           0.0    0.0         2.0   \n",
       "2    165  2005    47690             2000           0.0    0.0         2.0   \n",
       "3    190  2008   130661             1990           0.0    0.0         2.0   \n",
       "4    190  2006    66300              660           0.0    0.0         2.0   \n",
       "\n",
       "   fuel  \n",
       "0   2.0  \n",
       "1   2.0  \n",
       "2   2.0  \n",
       "3   2.0  \n",
       "4   2.0  "
      ]
     },
     "execution_count": 50,
     "metadata": {},
     "output_type": "execute_result"
    }
   ],
   "source": [
    "car_df.head()"
   ]
  },
  {
   "cell_type": "code",
   "execution_count": 51,
   "id": "020a6bfe",
   "metadata": {},
   "outputs": [
    {
     "data": {
      "text/plain": [
       "(2299, 8)"
      ]
     },
     "execution_count": 51,
     "metadata": {},
     "output_type": "execute_result"
    }
   ],
   "source": [
    "df.shape"
   ]
  },
  {
   "cell_type": "code",
   "execution_count": 52,
   "id": "4c345bec",
   "metadata": {},
   "outputs": [
    {
     "data": {
      "text/plain": [
       "(2299, 8)"
      ]
     },
     "execution_count": 52,
     "metadata": {},
     "output_type": "execute_result"
    }
   ],
   "source": [
    "car_df.shape"
   ]
  },
  {
   "cell_type": "code",
   "execution_count": null,
   "id": "ff3304ad",
   "metadata": {},
   "outputs": [],
   "source": [
    "# Let's see how data is distributed for every column\n",
    "\n",
    "plt.figure(figsize=(20,15), facecolor='pink')\n",
    "plotnumber = 1\n",
    "\n",
    "for column in car_df[['year', 'mileage','engine_capacity']]:\n",
    "    if plotnumber <=3:\n",
    "        ax = plt.subplot(1,3,plotnumber)\n",
    "        sns.distplot(car_df[column])\n",
    "        plt.xlabel(column,fontsize=20)\n",
    "    plotnumber += 1\n",
    "plt.show()"
   ]
  },
  {
   "cell_type": "code",
   "execution_count": 53,
   "id": "94589a1a",
   "metadata": {},
   "outputs": [
    {
     "data": {
      "text/plain": [
       "<AxesSubplot:>"
      ]
     },
     "execution_count": 53,
     "metadata": {},
     "output_type": "execute_result"
    },
    {
     "data": {
      "image/png": "[encoded data removed]",
      "text/plain": [
       "<Figure size 432x288 with 1 Axes>"
      ]
     },
     "metadata": {
      "needs_background": "light"
     },
     "output_type": "display_data"
    }
   ],
   "source": [
    "car_df[\"year\"].plot.box()"
   ]
  },
  {
   "cell_type": "code",
   "execution_count": 54,
   "id": "0cd784b7",
   "metadata": {},
   "outputs": [
    {
     "data": {
      "text/plain": [
       "<AxesSubplot:>"
      ]
     },
     "execution_count": 54,
     "metadata": {},
     "output_type": "execute_result"
    },
    {
     "data": {
      "image/png": "[encoded data removed]",
      "text/plain": [
       "<Figure size 432x288 with 1 Axes>"
      ]
     },
     "metadata": {
      "needs_background": "light"
     },
     "output_type": "display_data"
    }
   ],
   "source": [
    "car_df[\"mileage\"].plot.box()"
   ]
  },
  {
   "cell_type": "code",
   "execution_count": 55,
   "id": "68fec0fe",
   "metadata": {},
   "outputs": [
    {
     "data": {
      "text/plain": [
       "<AxesSubplot:>"
      ]
     },
     "execution_count": 55,
     "metadata": {},
     "output_type": "execute_result"
    },
    {
     "data": {
      "image/png": "[encoded data removed]",
      "text/plain": [
       "<Figure size 432x288 with 1 Axes>"
      ]
     },
     "metadata": {
      "needs_background": "light"
     },
     "output_type": "display_data"
    }
   ],
   "source": [
    "car_df[\"engine_capacity\"].plot.box()"
   ]
  },
  {
   "cell_type": "code",
   "execution_count": 56,
   "id": "b746756b",
   "metadata": {},
   "outputs": [
    {
     "data": {
      "text/plain": [
       "<AxesSubplot:>"
      ]
     },
     "execution_count": 56,
     "metadata": {},
     "output_type": "execute_result"
    },
    {
     "data": {
      "image/png": "[encoded data removed]",
      "text/plain": [
       "<Figure size 432x288 with 1 Axes>"
      ]
     },
     "metadata": {
      "needs_background": "light"
     },
     "output_type": "display_data"
    }
   ],
   "source": [
    "car_df[\"price\"].plot.box()"
   ]
  },
  {
   "cell_type": "markdown",
   "id": "e5e67ee9",
   "metadata": {},
   "source": [
    "Price is target variable, hence its outliers may not be considered"
   ]
  },
  {
   "cell_type": "code",
   "execution_count": 57,
   "id": "c204bae2",
   "metadata": {},
   "outputs": [],
   "source": [
    "# Removal of outlier\n",
    "\n",
    "from scipy.stats import zscore\n",
    "\n",
    "z = zscore(car_df[['year', 'mileage','engine_capacity']])\n",
    "abs_z = np.abs(z)\n",
    "\n",
    "filtering_entry = (abs_z < 3).all(axis=1)\n",
    "car_df = car_df[filtering_entry]\n",
    "#x.describe()"
   ]
  },
  {
   "cell_type": "markdown",
   "id": "c345162e",
   "metadata": {},
   "source": [
    "All outliers are treated as the rule thumb for zscore is followed i.e., zscore == (-3,3)"
   ]
  },
  {
   "cell_type": "code",
   "execution_count": 58,
   "id": "d78c9fb5",
   "metadata": {},
   "outputs": [
    {
     "data": {
      "image/png": "[encoded data removed]",
      "text/plain": [
       "<Figure size 1440x1080 with 3 Axes>"
      ]
     },
     "metadata": {},
     "output_type": "display_data"
    }
   ],
   "source": [
    "# Let's see how data is distributed for every column\n",
    "\n",
    "plt.figure(figsize=(20,15), facecolor='pink')\n",
    "plotnumber = 1\n",
    "\n",
    "for column in car_df[['year', 'mileage','engine_capacity']]:\n",
    "    if plotnumber <=8:\n",
    "        ax = plt.subplot(2,4,plotnumber)\n",
    "        sns.distplot(car_df[column])\n",
    "        plt.xlabel(column,fontsize=20)\n",
    "    plotnumber += 1\n",
    "plt.show()"
   ]
  },
  {
   "cell_type": "code",
   "execution_count": 59,
   "id": "e62cddca",
   "metadata": {},
   "outputs": [
    {
     "data": {
      "text/plain": [
       "(2244, 8)"
      ]
     },
     "execution_count": 59,
     "metadata": {},
     "output_type": "execute_result"
    }
   ],
   "source": [
    "car_df.shape"
   ]
  },
  {
   "cell_type": "code",
   "execution_count": 64,
   "id": "b8a7bd01",
   "metadata": {},
   "outputs": [
    {
     "data": {
      "text/plain": [
       "2.3923444976076556"
      ]
     },
     "execution_count": 64,
     "metadata": {},
     "output_type": "execute_result"
    }
   ],
   "source": [
    "data_loss = ((2299 - 2244)/2299) * 100\n",
    "data_loss"
   ]
  },
  {
   "cell_type": "markdown",
   "id": "cffb77bc",
   "metadata": {},
   "source": [
    "As acceptable data loss is 10% and here it is 2%, less than 10%."
   ]
  },
  {
   "cell_type": "code",
   "execution_count": 79,
   "id": "875b5015",
   "metadata": {},
   "outputs": [
    {
     "data": {
      "text/plain": [
       "array([2., 3., 1., 4., 0.])"
      ]
     },
     "execution_count": 79,
     "metadata": {},
     "output_type": "execute_result"
    }
   ],
   "source": [
    "car_df['fuel'].unique()"
   ]
  },
  {
   "cell_type": "code",
   "execution_count": 65,
   "id": "69eaf5aa",
   "metadata": {},
   "outputs": [],
   "source": [
    "# variable x contains all independent features and y contains target variable\n",
    "\n",
    "x = car_df.drop('price',axis=1)\n",
    "y = car_df['price']"
   ]
  },
  {
   "cell_type": "code",
   "execution_count": 66,
   "id": "2fe0d2c5",
   "metadata": {},
   "outputs": [
    {
     "data": {
      "text/html": [
       "<div>\n",
       "<style scoped>\n",
       "    .dataframe tbody tr th:only-of-type {\n",
       "        vertical-align: middle;\n",
       "    }\n",
       "\n",
       "    .dataframe tbody tr th {\n",
       "        vertical-align: top;\n",
       "    }\n",
       "\n",
       "    .dataframe thead th {\n",
       "        text-align: right;\n",
       "    }\n",
       "</style>\n",
       "<table border=\"1\" class=\"dataframe\">\n",
       "  <thead>\n",
       "    <tr style=\"text-align: right;\">\n",
       "      <th></th>\n",
       "      <th>year</th>\n",
       "      <th>mileage</th>\n",
       "      <th>engine_capacity</th>\n",
       "      <th>transmission</th>\n",
       "      <th>drive</th>\n",
       "      <th>hand_drive</th>\n",
       "      <th>fuel</th>\n",
       "    </tr>\n",
       "  </thead>\n",
       "  <tbody>\n",
       "    <tr>\n",
       "      <th>0</th>\n",
       "      <td>2003</td>\n",
       "      <td>80000</td>\n",
       "      <td>1240</td>\n",
       "      <td>0.0</td>\n",
       "      <td>0.0</td>\n",
       "      <td>2.0</td>\n",
       "      <td>2.0</td>\n",
       "    </tr>\n",
       "    <tr>\n",
       "      <th>1</th>\n",
       "      <td>2010</td>\n",
       "      <td>53000</td>\n",
       "      <td>1200</td>\n",
       "      <td>0.0</td>\n",
       "      <td>0.0</td>\n",
       "      <td>2.0</td>\n",
       "      <td>2.0</td>\n",
       "    </tr>\n",
       "    <tr>\n",
       "      <th>2</th>\n",
       "      <td>2005</td>\n",
       "      <td>47690</td>\n",
       "      <td>2000</td>\n",
       "      <td>0.0</td>\n",
       "      <td>0.0</td>\n",
       "      <td>2.0</td>\n",
       "      <td>2.0</td>\n",
       "    </tr>\n",
       "    <tr>\n",
       "      <th>3</th>\n",
       "      <td>2008</td>\n",
       "      <td>130661</td>\n",
       "      <td>1990</td>\n",
       "      <td>0.0</td>\n",
       "      <td>0.0</td>\n",
       "      <td>2.0</td>\n",
       "      <td>2.0</td>\n",
       "    </tr>\n",
       "    <tr>\n",
       "      <th>4</th>\n",
       "      <td>2006</td>\n",
       "      <td>66300</td>\n",
       "      <td>660</td>\n",
       "      <td>0.0</td>\n",
       "      <td>0.0</td>\n",
       "      <td>2.0</td>\n",
       "      <td>2.0</td>\n",
       "    </tr>\n",
       "    <tr>\n",
       "      <th>...</th>\n",
       "      <td>...</td>\n",
       "      <td>...</td>\n",
       "      <td>...</td>\n",
       "      <td>...</td>\n",
       "      <td>...</td>\n",
       "      <td>...</td>\n",
       "      <td>...</td>\n",
       "    </tr>\n",
       "    <tr>\n",
       "      <th>2313</th>\n",
       "      <td>2009</td>\n",
       "      <td>121000</td>\n",
       "      <td>996</td>\n",
       "      <td>0.0</td>\n",
       "      <td>0.0</td>\n",
       "      <td>2.0</td>\n",
       "      <td>2.0</td>\n",
       "    </tr>\n",
       "    <tr>\n",
       "      <th>2314</th>\n",
       "      <td>2003</td>\n",
       "      <td>101000</td>\n",
       "      <td>3000</td>\n",
       "      <td>0.0</td>\n",
       "      <td>0.0</td>\n",
       "      <td>2.0</td>\n",
       "      <td>2.0</td>\n",
       "    </tr>\n",
       "    <tr>\n",
       "      <th>2315</th>\n",
       "      <td>2005</td>\n",
       "      <td>101000</td>\n",
       "      <td>660</td>\n",
       "      <td>1.0</td>\n",
       "      <td>0.0</td>\n",
       "      <td>2.0</td>\n",
       "      <td>2.0</td>\n",
       "    </tr>\n",
       "    <tr>\n",
       "      <th>2316</th>\n",
       "      <td>2000</td>\n",
       "      <td>170000</td>\n",
       "      <td>660</td>\n",
       "      <td>0.0</td>\n",
       "      <td>1.0</td>\n",
       "      <td>2.0</td>\n",
       "      <td>2.0</td>\n",
       "    </tr>\n",
       "    <tr>\n",
       "      <th>2317</th>\n",
       "      <td>2005</td>\n",
       "      <td>72320</td>\n",
       "      <td>3000</td>\n",
       "      <td>0.0</td>\n",
       "      <td>0.0</td>\n",
       "      <td>2.0</td>\n",
       "      <td>2.0</td>\n",
       "    </tr>\n",
       "  </tbody>\n",
       "</table>\n",
       "<p>2244 rows × 7 columns</p>\n",
       "</div>"
      ],
      "text/plain": [
       "      year  mileage  engine_capacity  transmission  drive  hand_drive  fuel\n",
       "0     2003    80000             1240           0.0    0.0         2.0   2.0\n",
       "1     2010    53000             1200           0.0    0.0         2.0   2.0\n",
       "2     2005    47690             2000           0.0    0.0         2.0   2.0\n",
       "3     2008   130661             1990           0.0    0.0         2.0   2.0\n",
       "4     2006    66300              660           0.0    0.0         2.0   2.0\n",
       "...    ...      ...              ...           ...    ...         ...   ...\n",
       "2313  2009   121000              996           0.0    0.0         2.0   2.0\n",
       "2314  2003   101000             3000           0.0    0.0         2.0   2.0\n",
       "2315  2005   101000              660           1.0    0.0         2.0   2.0\n",
       "2316  2000   170000              660           0.0    1.0         2.0   2.0\n",
       "2317  2005    72320             3000           0.0    0.0         2.0   2.0\n",
       "\n",
       "[2244 rows x 7 columns]"
      ]
     },
     "execution_count": 66,
     "metadata": {},
     "output_type": "execute_result"
    }
   ],
   "source": [
    "x"
   ]
  },
  {
   "cell_type": "code",
   "execution_count": 67,
   "id": "c98a1f18",
   "metadata": {},
   "outputs": [
    {
     "data": {
      "text/plain": [
       "0         80\n",
       "1        110\n",
       "2        165\n",
       "3        190\n",
       "4        190\n",
       "        ... \n",
       "2313    1400\n",
       "2314    1400\n",
       "2315    1400\n",
       "2316    1400\n",
       "2317    1400\n",
       "Name: price, Length: 2244, dtype: int64"
      ]
     },
     "execution_count": 67,
     "metadata": {},
     "output_type": "execute_result"
    }
   ],
   "source": [
    "y"
   ]
  },
  {
   "cell_type": "code",
   "execution_count": 81,
   "id": "2927d5e5",
   "metadata": {},
   "outputs": [],
   "source": [
    "from sklearn.preprocessing import StandardScaler,MinMaxScaler\n",
    "\n",
    "scaler=StandardScaler()\n",
    "x_scaled = scaler.fit_transform(x)"
   ]
  },
  {
   "cell_type": "code",
   "execution_count": 82,
   "id": "9b56d7bb",
   "metadata": {},
   "outputs": [
    {
     "data": {
      "text/plain": [
       "array([[-0.93845052, -0.40835951, -0.53885323, ..., -0.28829474,\n",
       "         0.08203338,  0.02430043],\n",
       "       [ 1.14819906, -1.03183374, -0.62588656, ..., -0.28829474,\n",
       "         0.08203338,  0.02430043],\n",
       "       [-0.34147285, -1.15445033,  1.11477998, ..., -0.28829474,\n",
       "         0.08203338,  0.02430043],\n",
       "       ...,\n",
       "       [-0.34147285,  0.07656488, -1.80083647, ..., -0.28829474,\n",
       "         0.08203338,  0.02430043],\n",
       "       [-1.83510922,  1.6698879 , -1.80083647, ...,  3.34616256,\n",
       "         0.08203338,  0.02430043],\n",
       "       [-0.34147285, -0.58570329,  3.29061316, ..., -0.28829474,\n",
       "         0.08203338,  0.02430043]])"
      ]
     },
     "execution_count": 82,
     "metadata": {},
     "output_type": "execute_result"
    }
   ],
   "source": [
    "x_scaled"
   ]
  },
  {
   "cell_type": "code",
   "execution_count": 83,
   "id": "1ced080a",
   "metadata": {},
   "outputs": [
    {
     "data": {
      "text/html": [
       "<div>\n",
       "<style scoped>\n",
       "    .dataframe tbody tr th:only-of-type {\n",
       "        vertical-align: middle;\n",
       "    }\n",
       "\n",
       "    .dataframe tbody tr th {\n",
       "        vertical-align: top;\n",
       "    }\n",
       "\n",
       "    .dataframe thead th {\n",
       "        text-align: right;\n",
       "    }\n",
       "</style>\n",
       "<table border=\"1\" class=\"dataframe\">\n",
       "  <thead>\n",
       "    <tr style=\"text-align: right;\">\n",
       "      <th></th>\n",
       "      <th>year</th>\n",
       "      <th>mileage</th>\n",
       "      <th>engine_capacity</th>\n",
       "      <th>transmission</th>\n",
       "      <th>drive</th>\n",
       "      <th>hand_drive</th>\n",
       "      <th>fuel</th>\n",
       "    </tr>\n",
       "  </thead>\n",
       "  <tbody>\n",
       "    <tr>\n",
       "      <th>0</th>\n",
       "      <td>2.757245</td>\n",
       "      <td>80000</td>\n",
       "      <td>1240</td>\n",
       "      <td>0.0</td>\n",
       "      <td>0.0</td>\n",
       "      <td>2.0</td>\n",
       "      <td>2.0</td>\n",
       "    </tr>\n",
       "    <tr>\n",
       "      <th>1</th>\n",
       "      <td>2.757878</td>\n",
       "      <td>53000</td>\n",
       "      <td>1200</td>\n",
       "      <td>0.0</td>\n",
       "      <td>0.0</td>\n",
       "      <td>2.0</td>\n",
       "      <td>2.0</td>\n",
       "    </tr>\n",
       "    <tr>\n",
       "      <th>2</th>\n",
       "      <td>2.757426</td>\n",
       "      <td>47690</td>\n",
       "      <td>2000</td>\n",
       "      <td>0.0</td>\n",
       "      <td>0.0</td>\n",
       "      <td>2.0</td>\n",
       "      <td>2.0</td>\n",
       "    </tr>\n",
       "    <tr>\n",
       "      <th>3</th>\n",
       "      <td>2.757697</td>\n",
       "      <td>130661</td>\n",
       "      <td>1990</td>\n",
       "      <td>0.0</td>\n",
       "      <td>0.0</td>\n",
       "      <td>2.0</td>\n",
       "      <td>2.0</td>\n",
       "    </tr>\n",
       "    <tr>\n",
       "      <th>4</th>\n",
       "      <td>2.757517</td>\n",
       "      <td>66300</td>\n",
       "      <td>660</td>\n",
       "      <td>0.0</td>\n",
       "      <td>0.0</td>\n",
       "      <td>2.0</td>\n",
       "      <td>2.0</td>\n",
       "    </tr>\n",
       "    <tr>\n",
       "      <th>...</th>\n",
       "      <td>...</td>\n",
       "      <td>...</td>\n",
       "      <td>...</td>\n",
       "      <td>...</td>\n",
       "      <td>...</td>\n",
       "      <td>...</td>\n",
       "      <td>...</td>\n",
       "    </tr>\n",
       "    <tr>\n",
       "      <th>2313</th>\n",
       "      <td>2.757788</td>\n",
       "      <td>121000</td>\n",
       "      <td>996</td>\n",
       "      <td>0.0</td>\n",
       "      <td>0.0</td>\n",
       "      <td>2.0</td>\n",
       "      <td>2.0</td>\n",
       "    </tr>\n",
       "    <tr>\n",
       "      <th>2314</th>\n",
       "      <td>2.757245</td>\n",
       "      <td>101000</td>\n",
       "      <td>3000</td>\n",
       "      <td>0.0</td>\n",
       "      <td>0.0</td>\n",
       "      <td>2.0</td>\n",
       "      <td>2.0</td>\n",
       "    </tr>\n",
       "    <tr>\n",
       "      <th>2315</th>\n",
       "      <td>2.757426</td>\n",
       "      <td>101000</td>\n",
       "      <td>660</td>\n",
       "      <td>1.0</td>\n",
       "      <td>0.0</td>\n",
       "      <td>2.0</td>\n",
       "      <td>2.0</td>\n",
       "    </tr>\n",
       "    <tr>\n",
       "      <th>2316</th>\n",
       "      <td>2.756973</td>\n",
       "      <td>170000</td>\n",
       "      <td>660</td>\n",
       "      <td>0.0</td>\n",
       "      <td>1.0</td>\n",
       "      <td>2.0</td>\n",
       "      <td>2.0</td>\n",
       "    </tr>\n",
       "    <tr>\n",
       "      <th>2317</th>\n",
       "      <td>2.757426</td>\n",
       "      <td>72320</td>\n",
       "      <td>3000</td>\n",
       "      <td>0.0</td>\n",
       "      <td>0.0</td>\n",
       "      <td>2.0</td>\n",
       "      <td>2.0</td>\n",
       "    </tr>\n",
       "  </tbody>\n",
       "</table>\n",
       "<p>2244 rows × 7 columns</p>\n",
       "</div>"
      ],
      "text/plain": [
       "          year  mileage  engine_capacity  transmission  drive  hand_drive  \\\n",
       "0     2.757245    80000             1240           0.0    0.0         2.0   \n",
       "1     2.757878    53000             1200           0.0    0.0         2.0   \n",
       "2     2.757426    47690             2000           0.0    0.0         2.0   \n",
       "3     2.757697   130661             1990           0.0    0.0         2.0   \n",
       "4     2.757517    66300              660           0.0    0.0         2.0   \n",
       "...        ...      ...              ...           ...    ...         ...   \n",
       "2313  2.757788   121000              996           0.0    0.0         2.0   \n",
       "2314  2.757245   101000             3000           0.0    0.0         2.0   \n",
       "2315  2.757426   101000              660           1.0    0.0         2.0   \n",
       "2316  2.756973   170000              660           0.0    1.0         2.0   \n",
       "2317  2.757426    72320             3000           0.0    0.0         2.0   \n",
       "\n",
       "      fuel  \n",
       "0      2.0  \n",
       "1      2.0  \n",
       "2      2.0  \n",
       "3      2.0  \n",
       "4      2.0  \n",
       "...    ...  \n",
       "2313   2.0  \n",
       "2314   2.0  \n",
       "2315   2.0  \n",
       "2316   2.0  \n",
       "2317   2.0  \n",
       "\n",
       "[2244 rows x 7 columns]"
      ]
     },
     "execution_count": 83,
     "metadata": {},
     "output_type": "execute_result"
    }
   ],
   "source": [
    "x"
   ]
  },
  {
   "cell_type": "code",
   "execution_count": 84,
   "id": "e7d74972",
   "metadata": {},
   "outputs": [],
   "source": [
    "# splitting the data into train and test\n",
    "\n",
    "from sklearn.model_selection import train_test_split, cross_val_score\n",
    "from sklearn.linear_model import LinearRegression\n",
    "from sklearn.metrics import r2_score\n",
    "\n",
    "\n",
    "lr = LinearRegression()"
   ]
  },
  {
   "cell_type": "code",
   "execution_count": 85,
   "id": "c3bde626",
   "metadata": {},
   "outputs": [
    {
     "name": "stdout",
     "output_type": "stream",
     "text": [
      "At random state 0, the training accuracy is: ,0.0736106748553047\n",
      "At random state 0, the testing accuracy is , 0.06189194243847118\n",
      "\n",
      "\n",
      "At random state 1, the training accuracy is: ,0.07660302258873675\n",
      "At random state 1, the testing accuracy is , 0.048212961392924414\n",
      "\n",
      "\n",
      "At random state 2, the training accuracy is: ,0.07315942617152549\n",
      "At random state 2, the testing accuracy is , 0.061842752160976344\n",
      "\n",
      "\n",
      "At random state 3, the training accuracy is: ,0.0641966647048372\n",
      "At random state 3, the testing accuracy is , 0.09644409660273012\n",
      "\n",
      "\n",
      "At random state 4, the training accuracy is: ,0.06594788329002677\n",
      "At random state 4, the testing accuracy is , 0.09346206217605346\n",
      "\n",
      "\n",
      "At random state 5, the training accuracy is: ,0.05788299215467896\n",
      "At random state 5, the testing accuracy is , 0.12439508806662103\n",
      "\n",
      "\n",
      "At random state 6, the training accuracy is: ,0.0704371320138576\n",
      "At random state 6, the testing accuracy is , 0.0718682666218804\n",
      "\n",
      "\n",
      "At random state 7, the training accuracy is: ,0.07562657180349774\n",
      "At random state 7, the testing accuracy is , 0.04799067779003474\n",
      "\n",
      "\n",
      "At random state 8, the training accuracy is: ,0.07172616787837494\n",
      "At random state 8, the testing accuracy is , 0.06888155058310563\n",
      "\n",
      "\n",
      "At random state 9, the training accuracy is: ,0.07510818024594768\n",
      "At random state 9, the testing accuracy is , 0.05288538302506518\n",
      "\n",
      "\n",
      "At random state 10, the training accuracy is: ,0.07439275372676735\n",
      "At random state 10, the testing accuracy is , 0.05387570825811261\n",
      "\n",
      "\n",
      "At random state 11, the training accuracy is: ,0.06563036952583978\n",
      "At random state 11, the testing accuracy is , 0.0952789286025969\n",
      "\n",
      "\n",
      "At random state 12, the training accuracy is: ,0.07326602063743026\n",
      "At random state 12, the testing accuracy is , 0.0625377617550208\n",
      "\n",
      "\n",
      "At random state 13, the training accuracy is: ,0.07900410416077719\n",
      "At random state 13, the testing accuracy is , 0.041075634935161864\n",
      "\n",
      "\n",
      "At random state 14, the training accuracy is: ,0.06775238905515713\n",
      "At random state 14, the testing accuracy is , 0.08114342269024222\n",
      "\n",
      "\n",
      "At random state 15, the training accuracy is: ,0.08360451144536507\n",
      "At random state 15, the testing accuracy is , 0.0203028082455482\n",
      "\n",
      "\n",
      "At random state 16, the training accuracy is: ,0.07415789055715061\n",
      "At random state 16, the testing accuracy is , 0.05967555216499487\n",
      "\n",
      "\n",
      "At random state 17, the training accuracy is: ,0.07313422202002196\n",
      "At random state 17, the testing accuracy is , 0.06521158515805192\n",
      "\n",
      "\n",
      "At random state 18, the training accuracy is: ,0.07227760723310761\n",
      "At random state 18, the testing accuracy is , 0.06687190096864648\n",
      "\n",
      "\n",
      "At random state 19, the training accuracy is: ,0.07141077389498962\n",
      "At random state 19, the testing accuracy is , 0.06968122863040449\n",
      "\n",
      "\n",
      "At random state 20, the training accuracy is: ,0.0830968921334636\n",
      "At random state 20, the testing accuracy is , 0.018941738428100874\n",
      "\n",
      "\n",
      "At random state 21, the training accuracy is: ,0.07361536299369775\n",
      "At random state 21, the testing accuracy is , 0.059671824443429\n",
      "\n",
      "\n",
      "At random state 22, the training accuracy is: ,0.07159850619155517\n",
      "At random state 22, the testing accuracy is , 0.06737919121320135\n",
      "\n",
      "\n",
      "At random state 23, the training accuracy is: ,0.07950621654024226\n",
      "At random state 23, the testing accuracy is , 0.03590862844343401\n",
      "\n",
      "\n",
      "At random state 24, the training accuracy is: ,0.07534300135463412\n",
      "At random state 24, the testing accuracy is , 0.05089964285630921\n",
      "\n",
      "\n",
      "At random state 25, the training accuracy is: ,0.05683437991472862\n",
      "At random state 25, the testing accuracy is , 0.12374202152679703\n",
      "\n",
      "\n",
      "At random state 26, the training accuracy is: ,0.07464967079720419\n",
      "At random state 26, the testing accuracy is , 0.05859253360149275\n",
      "\n",
      "\n",
      "At random state 27, the training accuracy is: ,0.07048553646514077\n",
      "At random state 27, the testing accuracy is , 0.055577007419696844\n",
      "\n",
      "\n",
      "At random state 28, the training accuracy is: ,0.06955366091489301\n",
      "At random state 28, the testing accuracy is , 0.07848423966572593\n",
      "\n",
      "\n",
      "At random state 29, the training accuracy is: ,0.06703244251119089\n",
      "At random state 29, the testing accuracy is , 0.08428310538350547\n",
      "\n",
      "\n",
      "At random state 30, the training accuracy is: ,0.07054310923325302\n",
      "At random state 30, the testing accuracy is , 0.07091585480387252\n",
      "\n",
      "\n",
      "At random state 31, the training accuracy is: ,0.0733386326302915\n",
      "At random state 31, the testing accuracy is , 0.06206357345608504\n",
      "\n",
      "\n",
      "At random state 32, the training accuracy is: ,0.08265114272973584\n",
      "At random state 32, the testing accuracy is , 0.019680747337455062\n",
      "\n",
      "\n",
      "At random state 33, the training accuracy is: ,0.06903326286027744\n",
      "At random state 33, the testing accuracy is , 0.07864137543839123\n",
      "\n",
      "\n",
      "At random state 34, the training accuracy is: ,0.07221377548615682\n",
      "At random state 34, the testing accuracy is , 0.0674722019601458\n",
      "\n",
      "\n",
      "At random state 35, the training accuracy is: ,0.07843039116639716\n",
      "At random state 35, the testing accuracy is , 0.04109827577133052\n",
      "\n",
      "\n",
      "At random state 36, the training accuracy is: ,0.07316766562524568\n",
      "At random state 36, the testing accuracy is , 0.0630818300887569\n",
      "\n",
      "\n",
      "At random state 37, the training accuracy is: ,0.07499678750864103\n",
      "At random state 37, the testing accuracy is , 0.05511454569563645\n",
      "\n",
      "\n",
      "At random state 38, the training accuracy is: ,0.07282366720354383\n",
      "At random state 38, the testing accuracy is , 0.06666416198888692\n",
      "\n",
      "\n",
      "At random state 39, the training accuracy is: ,0.059337147798297574\n",
      "At random state 39, the testing accuracy is , 0.1154320199383212\n",
      "\n",
      "\n",
      "At random state 40, the training accuracy is: ,0.08272777056164093\n",
      "At random state 40, the testing accuracy is , 0.02094976930964143\n",
      "\n",
      "\n",
      "At random state 41, the training accuracy is: ,0.06886286101659378\n",
      "At random state 41, the testing accuracy is , 0.08034111407778644\n",
      "\n",
      "\n",
      "At random state 42, the training accuracy is: ,0.07691640740936723\n",
      "At random state 42, the testing accuracy is , 0.05147053615317221\n",
      "\n",
      "\n",
      "At random state 43, the training accuracy is: ,0.07303899378196077\n",
      "At random state 43, the testing accuracy is , 0.055310654237317625\n",
      "\n",
      "\n",
      "At random state 44, the training accuracy is: ,0.06457245585739879\n",
      "At random state 44, the testing accuracy is , 0.09778893354075802\n",
      "\n",
      "\n",
      "At random state 45, the training accuracy is: ,0.07361431331022972\n",
      "At random state 45, the testing accuracy is , 0.056407268375527564\n",
      "\n",
      "\n",
      "At random state 46, the training accuracy is: ,0.06834114328996554\n",
      "At random state 46, the testing accuracy is , 0.07943162390115688\n",
      "\n",
      "\n",
      "At random state 47, the training accuracy is: ,0.08020805301372225\n",
      "At random state 47, the testing accuracy is , 0.03723590739922056\n",
      "\n",
      "\n",
      "At random state 48, the training accuracy is: ,0.07878280869164211\n",
      "At random state 48, the testing accuracy is , 0.037839000596029404\n",
      "\n",
      "\n",
      "At random state 49, the training accuracy is: ,0.07344028008983572\n",
      "At random state 49, the testing accuracy is , 0.0645322096869052\n",
      "\n",
      "\n",
      "At random state 50, the training accuracy is: ,0.07138353415391929\n",
      "At random state 50, the testing accuracy is , 0.07217002355286561\n",
      "\n",
      "\n",
      "At random state 51, the training accuracy is: ,0.06860529221667144\n",
      "At random state 51, the testing accuracy is , 0.08347123750619978\n",
      "\n",
      "\n",
      "At random state 52, the training accuracy is: ,0.06624254627607717\n",
      "At random state 52, the testing accuracy is , 0.0893479197697018\n",
      "\n",
      "\n",
      "At random state 53, the training accuracy is: ,0.0720250999185742\n",
      "At random state 53, the testing accuracy is , 0.06414259295735547\n",
      "\n",
      "\n",
      "At random state 54, the training accuracy is: ,0.07162239630471268\n",
      "At random state 54, the testing accuracy is , 0.07139763268779131\n",
      "\n",
      "\n",
      "At random state 55, the training accuracy is: ,0.06932169775677932\n",
      "At random state 55, the testing accuracy is , 0.08026361873892485\n",
      "\n",
      "\n",
      "At random state 56, the training accuracy is: ,0.07530523800914879\n",
      "At random state 56, the testing accuracy is , 0.04915379817232379\n",
      "\n",
      "\n",
      "At random state 57, the training accuracy is: ,0.08075299724448426\n",
      "At random state 57, the testing accuracy is , 0.024316212950064475\n",
      "\n",
      "\n",
      "At random state 58, the training accuracy is: ,0.0700594034051657\n",
      "At random state 58, the testing accuracy is , 0.07646857632834803\n",
      "\n",
      "\n",
      "At random state 59, the training accuracy is: ,0.07453309063698577\n",
      "At random state 59, the testing accuracy is , 0.052702041296731394\n",
      "\n",
      "\n",
      "At random state 60, the training accuracy is: ,0.07261648427503364\n",
      "At random state 60, the testing accuracy is , 0.06663710246890919\n",
      "\n",
      "\n",
      "At random state 61, the training accuracy is: ,0.07194407635490119\n",
      "At random state 61, the testing accuracy is , 0.06307442440456279\n",
      "\n",
      "\n",
      "At random state 62, the training accuracy is: ,0.0714216546877644\n",
      "At random state 62, the testing accuracy is , 0.07119597575452885\n",
      "\n",
      "\n",
      "At random state 63, the training accuracy is: ,0.06978092903947108\n",
      "At random state 63, the testing accuracy is , 0.07399809783648714\n",
      "\n",
      "\n",
      "At random state 64, the training accuracy is: ,0.06931957932810029\n",
      "At random state 64, the testing accuracy is , 0.07781252837872776\n",
      "\n",
      "\n",
      "At random state 65, the training accuracy is: ,0.0766860138328751\n",
      "At random state 65, the testing accuracy is , 0.02550608051359604\n",
      "\n",
      "\n",
      "At random state 66, the training accuracy is: ,0.07087731399808306\n",
      "At random state 66, the testing accuracy is , 0.0688606180691288\n",
      "\n",
      "\n",
      "At random state 67, the training accuracy is: ,0.07055198331557033\n",
      "At random state 67, the testing accuracy is , 0.07571916068685913\n",
      "\n",
      "\n",
      "At random state 68, the training accuracy is: ,0.07518728516837725\n",
      "At random state 68, the testing accuracy is , 0.05525181348808561\n",
      "\n",
      "\n",
      "At random state 69, the training accuracy is: ,0.07575422772068374\n",
      "At random state 69, the testing accuracy is , 0.05044027263335604\n",
      "\n",
      "\n",
      "At random state 70, the training accuracy is: ,0.0679470300697681\n",
      "At random state 70, the testing accuracy is , 0.07838300033393963\n",
      "\n",
      "\n",
      "At random state 71, the training accuracy is: ,0.07365615293301464\n",
      "At random state 71, the testing accuracy is , 0.053845127444432817\n",
      "\n",
      "\n",
      "At random state 72, the training accuracy is: ,0.07319771581237744\n",
      "At random state 72, the testing accuracy is , 0.06327491877856772\n",
      "\n",
      "\n",
      "At random state 73, the training accuracy is: ,0.07615168054990018\n",
      "At random state 73, the testing accuracy is , 0.04959019175580748\n",
      "\n",
      "\n",
      "At random state 74, the training accuracy is: ,0.07085430492324518\n",
      "At random state 74, the testing accuracy is , 0.06925391820553106\n",
      "\n",
      "\n"
     ]
    },
    {
     "name": "stdout",
     "output_type": "stream",
     "text": [
      "At random state 75, the training accuracy is: ,0.071341238046994\n",
      "At random state 75, the testing accuracy is , 0.07276399596494487\n",
      "\n",
      "\n",
      "At random state 76, the training accuracy is: ,0.07364317195529635\n",
      "At random state 76, the testing accuracy is , 0.060759940802934675\n",
      "\n",
      "\n",
      "At random state 77, the training accuracy is: ,0.06723636981402992\n",
      "At random state 77, the testing accuracy is , 0.07688098471626215\n",
      "\n",
      "\n",
      "At random state 78, the training accuracy is: ,0.07304399540174411\n",
      "At random state 78, the testing accuracy is , 0.06126614239125716\n",
      "\n",
      "\n",
      "At random state 79, the training accuracy is: ,0.07293973239931195\n",
      "At random state 79, the testing accuracy is , 0.06520052397116993\n",
      "\n",
      "\n",
      "At random state 80, the training accuracy is: ,0.07170671868268019\n",
      "At random state 80, the testing accuracy is , 0.07085472688386252\n",
      "\n",
      "\n",
      "At random state 81, the training accuracy is: ,0.07626310399769021\n",
      "At random state 81, the testing accuracy is , 0.044104373989220624\n",
      "\n",
      "\n",
      "At random state 82, the training accuracy is: ,0.07079355869257264\n",
      "At random state 82, the testing accuracy is , 0.06768817757321433\n",
      "\n",
      "\n",
      "At random state 83, the training accuracy is: ,0.057925739771970464\n",
      "At random state 83, the testing accuracy is , 0.12027627753027059\n",
      "\n",
      "\n",
      "At random state 84, the training accuracy is: ,0.07987477382289754\n",
      "At random state 84, the testing accuracy is , 0.033933763865235056\n",
      "\n",
      "\n",
      "At random state 85, the training accuracy is: ,0.07277406028145572\n",
      "At random state 85, the testing accuracy is , 0.06418521823148371\n",
      "\n",
      "\n",
      "At random state 86, the training accuracy is: ,0.07094213989453924\n",
      "At random state 86, the testing accuracy is , 0.06679034749085921\n",
      "\n",
      "\n",
      "At random state 87, the training accuracy is: ,0.08099869430230389\n",
      "At random state 87, the testing accuracy is , 0.0232093114681301\n",
      "\n",
      "\n",
      "At random state 88, the training accuracy is: ,0.07284937206778641\n",
      "At random state 88, the testing accuracy is , 0.061369274690693976\n",
      "\n",
      "\n",
      "At random state 89, the training accuracy is: ,0.06724173289765889\n",
      "At random state 89, the testing accuracy is , 0.08632962446641301\n",
      "\n",
      "\n",
      "At random state 90, the training accuracy is: ,0.07588358671234785\n",
      "At random state 90, the testing accuracy is , 0.05011480278518099\n",
      "\n",
      "\n",
      "At random state 91, the training accuracy is: ,0.06940264482162961\n",
      "At random state 91, the testing accuracy is , 0.059090823069403164\n",
      "\n",
      "\n",
      "At random state 92, the training accuracy is: ,0.07577861187142287\n",
      "At random state 92, the testing accuracy is , 0.046889581254121904\n",
      "\n",
      "\n",
      "At random state 93, the training accuracy is: ,0.06777674101205744\n",
      "At random state 93, the testing accuracy is , 0.08314775919720652\n",
      "\n",
      "\n",
      "At random state 94, the training accuracy is: ,0.07982385602668673\n",
      "At random state 94, the testing accuracy is , 0.030472659220612597\n",
      "\n",
      "\n",
      "At random state 95, the training accuracy is: ,0.06809443051800868\n",
      "At random state 95, the testing accuracy is , 0.08306383421332653\n",
      "\n",
      "\n",
      "At random state 96, the training accuracy is: ,0.07475555345643725\n",
      "At random state 96, the testing accuracy is , 0.052936225210507115\n",
      "\n",
      "\n",
      "At random state 97, the training accuracy is: ,0.07053961694988209\n",
      "At random state 97, the testing accuracy is , 0.06514152697266684\n",
      "\n",
      "\n",
      "At random state 98, the training accuracy is: ,0.06577834456277076\n",
      "At random state 98, the testing accuracy is , 0.09178300239287784\n",
      "\n",
      "\n",
      "At random state 99, the training accuracy is: ,0.06568308611315377\n",
      "At random state 99, the testing accuracy is , 0.09188889694939262\n",
      "\n",
      "\n"
     ]
    }
   ],
   "source": [
    "for i in range(0,100):\n",
    "    x_train,x_test,y_train,y_test = train_test_split(x_scaled,y,test_size=0.2,random_state=i)\n",
    "    lr.fit(x_train,y_train)\n",
    "    pred_train = lr.predict(x_train)\n",
    "    pred_test = lr.predict(x_test)\n",
    "    print(f\"At random state {i}, the training accuracy is: ,{r2_score(y_train,pred_train)}\")   \n",
    "    \n",
    "    print(f\"At random state {i}, the testing accuracy is , {r2_score(y_test,pred_test)}\")  \n",
    "    print(\"\\n\")"
   ]
  },
  {
   "cell_type": "code",
   "execution_count": 86,
   "id": "a0ad43db",
   "metadata": {},
   "outputs": [],
   "source": [
    "x_train,x_test,y_train,y_test = train_test_split(x_scaled,y,test_size=0.2,random_state=62)\n",
    " "
   ]
  },
  {
   "cell_type": "code",
   "execution_count": 87,
   "id": "2cb04f2f",
   "metadata": {},
   "outputs": [
    {
     "data": {
      "text/plain": [
       "LinearRegression()"
      ]
     },
     "execution_count": 87,
     "metadata": {},
     "output_type": "execute_result"
    }
   ],
   "source": [
    "lr.fit(x_train,y_train)"
   ]
  },
  {
   "cell_type": "code",
   "execution_count": 88,
   "id": "e10d23a0",
   "metadata": {},
   "outputs": [],
   "source": [
    "pred_test = lr.predict(x_test)"
   ]
  },
  {
   "cell_type": "code",
   "execution_count": 89,
   "id": "489072be",
   "metadata": {},
   "outputs": [
    {
     "name": "stdout",
     "output_type": "stream",
     "text": [
      "0.07119597575452885\n"
     ]
    }
   ],
   "source": [
    "print(r2_score(y_test,pred_test))"
   ]
  },
  {
   "cell_type": "markdown",
   "id": "6fb47af6",
   "metadata": {},
   "source": [
    "# cross validation score"
   ]
  },
  {
   "cell_type": "code",
   "execution_count": 97,
   "id": "30eb56cc",
   "metadata": {},
   "outputs": [
    {
     "name": "stdout",
     "output_type": "stream",
     "text": [
      "At Cross fold 2 the cv score is -11.491074837810832 and accuracy score for training is -0.05287293808957827 and accuracy score for testing is 0.07119597575452885\n",
      "\n",
      "\n",
      "At Cross fold 3 the cv score is -16.209243915914225 and accuracy score for training is -0.05287293808957827 and accuracy score for testing is 0.07119597575452885\n",
      "\n",
      "\n",
      "At Cross fold 4 the cv score is -23.43245040927411 and accuracy score for training is -0.05287293808957827 and accuracy score for testing is 0.07119597575452885\n",
      "\n",
      "\n",
      "At Cross fold 5 the cv score is -34.89317361561312 and accuracy score for training is -0.05287293808957827 and accuracy score for testing is 0.07119597575452885\n",
      "\n",
      "\n",
      "At Cross fold 6 the cv score is -46.884591812668894 and accuracy score for training is -0.05287293808957827 and accuracy score for testing is 0.07119597575452885\n",
      "\n",
      "\n",
      "At Cross fold 7 the cv score is -55.229376493493355 and accuracy score for training is -0.05287293808957827 and accuracy score for testing is 0.07119597575452885\n",
      "\n",
      "\n",
      "At Cross fold 8 the cv score is -61.24043019069842 and accuracy score for training is -0.05287293808957827 and accuracy score for testing is 0.07119597575452885\n",
      "\n",
      "\n",
      "At Cross fold 9 the cv score is -81.13282234111564 and accuracy score for training is -0.05287293808957827 and accuracy score for testing is 0.07119597575452885\n",
      "\n",
      "\n"
     ]
    }
   ],
   "source": [
    "train_accuracy = r2_score(y_train,pred_train)\n",
    "test_accuracy = r2_score(y_test,pred_test)\n",
    "\n",
    "from sklearn.model_selection import cross_val_score\n",
    "\n",
    "for j in range(2,10):\n",
    "    cv_score = cross_val_score(lr,x,y,cv=j)\n",
    "    cv_mean = cv_score.mean()\n",
    "    print(f\"At Cross fold {j} the cv score is {cv_mean} and accuracy score for training is {train_accuracy} and accuracy score for testing is {test_accuracy}\")\n",
    "    print(\"\\n\")"
   ]
  },
  {
   "cell_type": "code",
   "execution_count": 99,
   "id": "698f06ce",
   "metadata": {},
   "outputs": [
    {
     "data": {
      "image/png": "[encoded data removed]",
      "text/plain": [
       "<Figure size 576x432 with 1 Axes>"
      ]
     },
     "metadata": {
      "needs_background": "light"
     },
     "output_type": "display_data"
    }
   ],
   "source": [
    "# plot and visualize\n",
    "plt.figure(figsize=(8,6))\n",
    "plt.scatter(x=y_test,y=pred_test,color='b')\n",
    "plt.plot(y_test,y_test,color='r')\n",
    "\n",
    "plt.xlabel('Actual Price',fontsize=14)\n",
    "plt.ylabel('Predicted Price',fontsize=14)\n",
    "plt.title('Linear Regression',fontsize=18)\n",
    "plt.show()"
   ]
  },
  {
   "cell_type": "markdown",
   "id": "f62cd698",
   "metadata": {},
   "source": [
    "The best fit line is not covering data poits. It shows that is it is not a good fit model"
   ]
  },
  {
   "cell_type": "markdown",
   "id": "8f60bd36",
   "metadata": {},
   "source": [
    "# Regularization"
   ]
  },
  {
   "cell_type": "code",
   "execution_count": 100,
   "id": "ca4f6340",
   "metadata": {},
   "outputs": [],
   "source": [
    "from sklearn.model_selection import GridSearchCV\n",
    "from sklearn.linear_model import Lasso"
   ]
  },
  {
   "cell_type": "code",
   "execution_count": 101,
   "id": "a4b466dc",
   "metadata": {},
   "outputs": [
    {
     "name": "stdout",
     "output_type": "stream",
     "text": [
      "{'alpha': 1, 'random_state': 0}\n"
     ]
    }
   ],
   "source": [
    "parameters = {'alpha':[.0001,.001,.01,.1,1,10],\n",
    "              'random_state':list(range(0,10))}\n",
    "ls = Lasso()\n",
    "clf = GridSearchCV(ls,parameters)\n",
    "clf.fit(x_train,y_train)\n",
    "\n",
    "print(clf.best_params_)"
   ]
  },
  {
   "cell_type": "code",
   "execution_count": 103,
   "id": "29cd6020",
   "metadata": {},
   "outputs": [
    {
     "data": {
      "text/plain": [
       "7.135175055381859"
      ]
     },
     "execution_count": 103,
     "metadata": {},
     "output_type": "execute_result"
    }
   ],
   "source": [
    "# final model training\n",
    "\n",
    "ls = Lasso(alpha=1,random_state=0)\n",
    "ls.fit(x_train,y_train)\n",
    "ls_score_training = ls.score(x_train,y_train)\n",
    "pred_ls = ls.predict(x_test)\n",
    "ls_score_training*100"
   ]
  },
  {
   "cell_type": "code",
   "execution_count": 104,
   "id": "5b9fa008",
   "metadata": {},
   "outputs": [],
   "source": [
    "pred_ls = ls.predict(x_test)\n"
   ]
  },
  {
   "cell_type": "code",
   "execution_count": 105,
   "id": "6f0cfaaa",
   "metadata": {},
   "outputs": [
    {
     "data": {
      "text/plain": [
       "7.093190754143919"
      ]
     },
     "execution_count": 105,
     "metadata": {},
     "output_type": "execute_result"
    }
   ],
   "source": [
    "lss = r2_score(y_test,pred_ls)\n",
    "lss*100"
   ]
  },
  {
   "cell_type": "code",
   "execution_count": 106,
   "id": "f779e9fd",
   "metadata": {},
   "outputs": [
    {
     "data": {
      "text/plain": [
       "-3453.639919196688"
      ]
     },
     "execution_count": 106,
     "metadata": {},
     "output_type": "execute_result"
    }
   ],
   "source": [
    "cv_score = cross_val_score(ls,x,y,cv=5)\n",
    "cv_mean = cv_score.mean()\n",
    "cv_mean*100"
   ]
  },
  {
   "cell_type": "code",
   "execution_count": null,
   "id": "636fae1e",
   "metadata": {},
   "outputs": [],
   "source": []
  }
 ],
 "metadata": {
  "kernelspec": {
   "display_name": "Python 3 (ipykernel)",
   "language": "python",
   "name": "python3"
  },
  "language_info": {
   "codemirror_mode": {
    "name": "ipython",
    "version": 3
   },
   "file_extension": ".py",
   "mimetype": "text/x-python",
   "name": "python",
   "nbconvert_exporter": "python",
   "pygments_lexer": "ipython3",
   "version": "3.9.12"
  }
 },
 "nbformat": 4,
 "nbformat_minor": 5
}
